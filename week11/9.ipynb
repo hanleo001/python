{
 "cells": [
  {
   "cell_type": "code",
   "execution_count": 1,
   "metadata": {},
   "outputs": [],
   "source": [
    "import b\n"
   ]
  },
  {
   "cell_type": "code",
   "execution_count": 2,
   "metadata": {},
   "outputs": [
    {
     "name": "stdout",
     "output_type": "stream",
     "text": [
      "Test spam\n"
     ]
    }
   ],
   "source": [
    "b.spam(\"Test\")"
   ]
  },
  {
   "cell_type": "code",
   "execution_count": 3,
   "metadata": {},
   "outputs": [
    {
     "name": "stdout",
     "output_type": "stream",
     "text": [
      "my_geometry.Triangle: 6, 7, 8\n",
      "my_geometry\n"
     ]
    }
   ],
   "source": [
    "import my_geometry\n",
    "tt = my_geometry.Triangle(6,7,8)\n",
    "tt.print()\n",
    "print(my_geometry.__name__)"
   ]
  },
  {
   "cell_type": "code",
   "execution_count": 4,
   "metadata": {},
   "outputs": [
    {
     "data": {
      "text/plain": [
       "'print(\"Enter module1.py\")  # module1.py\\n\\nname = \"SJTU\"\\n\\ndef printer(x):\\n    print(x)\\n\\nprint(name)\\nprint(\"Exit module1.py\")\\n\\nif __name__ == \"__main__\":\\n    print(\"module1 main\")\\n'"
      ]
     },
     "execution_count": 4,
     "metadata": {},
     "output_type": "execute_result"
    }
   ],
   "source": [
    "#\n",
    "'''print(\"Enter module1.py\")  # module1.py\n",
    "\n",
    "name = \"SJTU\"\n",
    "\n",
    "def printer(x):\n",
    "    print(x)\n",
    "\n",
    "print(name)\n",
    "print(\"Exit module1.py\")\n",
    "\n",
    "if __name__ == \"__main__\":\n",
    "    print(\"module1 main\")\n",
    "''' "
   ]
  },
  {
   "cell_type": "code",
   "execution_count": 5,
   "metadata": {},
   "outputs": [
    {
     "name": "stdout",
     "output_type": "stream",
     "text": [
      "Enter module1.py\n",
      "SJTU\n",
      "Exit module1.py\n",
      "[1, 2, 4]\n"
     ]
    }
   ],
   "source": [
    "import module1\n",
    "module1.printer([1, 2, 4])"
   ]
  },
  {
   "cell_type": "code",
   "execution_count": 6,
   "metadata": {},
   "outputs": [
    {
     "name": "stdout",
     "output_type": "stream",
     "text": [
      "hello\n",
      "1\n",
      "2\n"
     ]
    }
   ],
   "source": [
    "#print('hello') # File simple.py\n",
    "#spam = 1\n",
    "import simple\n",
    "print(simple.spam)\n",
    "\n",
    "simple.spam = 2\n",
    "\n",
    "import simple\n",
    "print(simple.spam)\n"
   ]
  },
  {
   "cell_type": "code",
   "execution_count": 7,
   "metadata": {},
   "outputs": [
    {
     "name": "stdout",
     "output_type": "stream",
     "text": [
      "[1, 2, 4]\n"
     ]
    }
   ],
   "source": [
    "import module1\n",
    "module1.printer([1, 2, 4])\n"
   ]
  },
  {
   "cell_type": "code",
   "execution_count": 8,
   "metadata": {},
   "outputs": [
    {
     "name": "stdout",
     "output_type": "stream",
     "text": [
      "Enter module1.py\n",
      "SJTU\n",
      "Exit module1.py\n",
      "module1 main\n"
     ]
    }
   ],
   "source": [
    "print(\"Enter module1.py\")  # module1.py\n",
    "\n",
    "name = \"SJTU\"\n",
    "\n",
    "def printer(x):\n",
    "    print(x)\n",
    "\n",
    "print(name)\n",
    "print(\"Exit module1.py\")\n",
    "\n",
    "if __name__ == \"__main__\":\n",
    "    print(\"module1 main\")\n"
   ]
  },
  {
   "cell_type": "code",
   "execution_count": null,
   "metadata": {},
   "outputs": [],
   "source": []
  }
 ],
 "metadata": {
  "kernelspec": {
   "display_name": "Python 3.10.7 64-bit",
   "language": "python",
   "name": "python3"
  },
  "language_info": {
   "codemirror_mode": {
    "name": "ipython",
    "version": 3
   },
   "file_extension": ".py",
   "mimetype": "text/x-python",
   "name": "python",
   "nbconvert_exporter": "python",
   "pygments_lexer": "ipython3",
   "version": "3.10.7"
  },
  "orig_nbformat": 2,
  "vscode": {
   "interpreter": {
    "hash": "213524bb45a1aeaf737b1d8c77d7b8db5d425938d9dffc5f4bc6fe6dd3324700"
   }
  }
 },
 "nbformat": 4,
 "nbformat_minor": 2
}
