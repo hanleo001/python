{
 "cells": [
  {
   "cell_type": "markdown",
   "id": "e0f40698-581c-4a79-8fb5-95d0109797b2",
   "metadata": {},
   "source": [
    "# Numpy"
   ]
  },
  {
   "cell_type": "markdown",
   "id": "1dd58ce1-b91e-4ee6-9be2-ea249d6b0d87",
   "metadata": {
    "tags": []
   },
   "source": [
    "## 多维数组创建:numpy.array"
   ]
  },
  {
   "cell_type": "code",
   "execution_count": 1,
   "id": "8d9e249d-560a-4a98-a627-6fe6c3b3752e",
   "metadata": {},
   "outputs": [
    {
     "name": "stdout",
     "output_type": "stream",
     "text": [
      "[1 2 3 4 5 6]\n"
     ]
    }
   ],
   "source": [
    "import numpy as np\n",
    "a=[1,2,3,4,5,6]\n",
    "print(np.array(a))"
   ]
  },
  {
   "cell_type": "markdown",
   "id": "64c7b197-7d85-42ec-ac03-69244971505d",
   "metadata": {},
   "source": [
    "### 参数的使用"
   ]
  },
  {
   "cell_type": "code",
   "execution_count": 21,
   "id": "f4f938b0-a812-43bd-a315-361cdf60b2c1",
   "metadata": {},
   "outputs": [
    {
     "name": "stdout",
     "output_type": "stream",
     "text": [
      "[1. 2. 3. 4. 5. 6.]\n",
      "[1. 2. 3. 4. 5. 6.]\n",
      "[[[1 2 3 4 5 6]]]\n",
      "[1 2 3 4 5 6]\n"
     ]
    }
   ],
   "source": [
    "a=np.array(a)\n",
    "print(np.array(a,dtype=np.float64))\n",
    "print(np.array(a,dtype='f8'))\n",
    "print(np.array(a,ndmin=3))\n",
    "print(np.array(a))"
   ]
  },
  {
   "cell_type": "markdown",
   "id": "9a93bf0e-1cce-4ffd-b89d-3cf4527dad6b",
   "metadata": {
    "tags": []
   },
   "source": [
    "## ndarray的属性"
   ]
  },
  {
   "cell_type": "code",
   "execution_count": 22,
   "id": "38a7867d-bae9-4198-b634-43ca3b66d28b",
   "metadata": {},
   "outputs": [
    {
     "name": "stdout",
     "output_type": "stream",
     "text": [
      "(6,)\n",
      "int32\n",
      "6\n",
      "1\n",
      "4\n"
     ]
    }
   ],
   "source": [
    "a1=np.array(a)\n",
    "print(a1.shape)#数组形状\n",
    "print(a1.dtype)#数字元素类型\n",
    "print(a1.size)#数组元素个数\n",
    "print(a1.ndim)#数组的维度\n",
    "print(a1.itemsize)#一个元素的长度（bytes）"
   ]
  },
  {
   "cell_type": "markdown",
   "id": "6a9e3014-02cf-401e-9627-3247d2057847",
   "metadata": {},
   "source": [
    "## 基本操作"
   ]
  },
  {
   "cell_type": "markdown",
   "id": "c1f2abed-676e-4e16-848b-55c38d7609e6",
   "metadata": {
    "tags": []
   },
   "source": [
    "### 生成0和1的数组"
   ]
  },
  {
   "cell_type": "code",
   "execution_count": 17,
   "id": "f54679ee-80bf-4de4-9385-ef580c4860bd",
   "metadata": {},
   "outputs": [
    {
     "name": "stdout",
     "output_type": "stream",
     "text": [
      "[[1 1 1 1 1]\n",
      " [1 1 1 1 1]\n",
      " [1 1 1 1 1]\n",
      " [1 1 1 1 1]\n",
      " [1 1 1 1 1]]\n",
      "[1 1 1 1 1 1]\n",
      "[[0 0 0 0 0]\n",
      " [0 0 0 0 0]\n",
      " [0 0 0 0 0]\n",
      " [0 0 0 0 0]\n",
      " [0 0 0 0 0]]\n",
      "[0 0 0 0 0 0]\n"
     ]
    }
   ],
   "source": [
    "print(np.ones((5,5),np.uint32))\n",
    "print(np.ones_like(a,np.int64))\n",
    "print(np.zeros((5,5),np.uint32))\n",
    "print(np.zeros_like(a,np.int64))"
   ]
  },
  {
   "cell_type": "markdown",
   "id": "59ba5da3-08ff-4a69-ad3c-8cf36c6b6855",
   "metadata": {},
   "source": [
    "### np.empty()"
   ]
  },
  {
   "cell_type": "code",
   "execution_count": 18,
   "id": "0baa4f33-72fd-4dec-93f6-e6d246d91c30",
   "metadata": {},
   "outputs": [
    {
     "name": "stdout",
     "output_type": "stream",
     "text": [
      "[[1.49676106e-311 1.49676107e-311 1.49676107e-311 1.49676107e-311\n",
      "  1.49676107e-311]\n",
      " [1.49676107e-311 1.49676107e-311 1.49676107e-311 1.49676107e-311\n",
      "  1.49676107e-311]\n",
      " [1.49676107e-311 1.49676107e-311 1.49676107e-311 1.49676107e-311\n",
      "  1.49676107e-311]\n",
      " [1.49676107e-311 1.49676107e-311 1.49676107e-311 1.49676107e-311\n",
      "  1.49676107e-311]\n",
      " [1.49676107e-311 1.49676107e-311 1.49676107e-311 1.49676107e-311\n",
      "  2.56765117e-312]]\n"
     ]
    }
   ],
   "source": [
    "print(np.empty((5,5)))"
   ]
  },
  {
   "cell_type": "markdown",
   "id": "41605364-6493-43a7-901e-187d9195def9",
   "metadata": {},
   "source": [
    "### 从现有数组生成"
   ]
  },
  {
   "cell_type": "code",
   "execution_count": 39,
   "id": "5cc26dc8-fdfe-4f09-8d0e-89ba2ed87d21",
   "metadata": {},
   "outputs": [
    {
     "name": "stdout",
     "output_type": "stream",
     "text": [
      "[1 2 3 4 5 6] 3029479068976 3029478141904\n",
      "[1 2 3 4 5 6] 3029479068976 3029479068976\n",
      "<class 'numpy.ndarray'>\n"
     ]
    }
   ],
   "source": [
    "# 从现有的数组当中创建 \n",
    "a1 = np.array(a) \n",
    "print(a1,id(a),id(a1))\n",
    "# 相当于索引的形式，并没有真正的创建一个新的 \n",
    "a2 = np.asarray(a)\n",
    "print(a2,id(a),id(a2))\n",
    "print(type(a))"
   ]
  },
  {
   "cell_type": "markdown",
   "id": "323c9d4e-59f0-40fd-b520-f078eb4ae0a6",
   "metadata": {},
   "source": [
    "### 生成固定范围的数组"
   ]
  },
  {
   "cell_type": "code",
   "execution_count": 42,
   "id": "f610e90c-db0b-4a30-b4a4-446e42d2b445",
   "metadata": {},
   "outputs": [
    {
     "name": "stdout",
     "output_type": "stream",
     "text": [
      "<class 'numpy.ndarray'>\n"
     ]
    }
   ],
   "source": [
    "b=np.linspace(1,100,num=100,dtype='i8')\n",
    "#num:要生成的等间隔样例数量，默认为50\n",
    "print(type(b))"
   ]
  },
  {
   "cell_type": "code",
   "execution_count": 46,
   "id": "adfdc9dd-bcd2-44f2-8f59-3cc476b192ec",
   "metadata": {},
   "outputs": [
    {
     "name": "stdout",
     "output_type": "stream",
     "text": [
      "<class 'numpy.ndarray'>\n"
     ]
    }
   ],
   "source": [
    "c=np.arange(1,100,step=2, dtype='u4')\n",
    "print(type(c))"
   ]
  },
  {
   "cell_type": "code",
   "execution_count": 47,
   "id": "fcf71703-1e81-4e98-9468-54729291a08f",
   "metadata": {},
   "outputs": [
    {
     "name": "stdout",
     "output_type": "stream",
     "text": [
      "[1.e+01 1.e+02 1.e+03 1.e+04 1.e+05]\n",
      "<class 'numpy.ndarray'>\n"
     ]
    }
   ],
   "source": [
    "d=np.logspace(1,5,5)\n",
    "print(d)\n",
    "print(type(d))"
   ]
  },
  {
   "cell_type": "markdown",
   "id": "c86db356-f154-4aa7-8580-3f1e4e703c2d",
   "metadata": {},
   "source": [
    "### 生成随机数组"
   ]
  },
  {
   "cell_type": "code",
   "execution_count": 58,
   "id": "cded36a5-22ac-4966-b22a-748fa92c57c5",
   "metadata": {},
   "outputs": [
    {
     "name": "stdout",
     "output_type": "stream",
     "text": [
      "[[ 0.62054828  0.25356704  0.64223861  0.35486893 -1.41701096]\n",
      " [-1.22504962  1.09835723 -0.75350137  0.05793626 -1.54466018]\n",
      " [-1.60684965  0.47034494 -2.39733558  0.29663496 -1.31986635]\n",
      " [ 0.83904183  0.1368078  -1.35226263  0.92993094  1.22628947]]\n",
      "<class 'numpy.ndarray'>\n"
     ]
    }
   ],
   "source": [
    "e=np.random.normal(0,1,(4,5))#正态分布\n",
    "print(e)\n",
    "print(type(e))"
   ]
  },
  {
   "cell_type": "code",
   "execution_count": 50,
   "id": "18963fcd-a759-43cb-8b66-d0e3f20d0cd5",
   "metadata": {},
   "outputs": [
    {
     "name": "stdout",
     "output_type": "stream",
     "text": [
      "[0.72055151 0.20456301 0.20100622 0.48690502]\n"
     ]
    }
   ],
   "source": [
    "f=np.random.uniform(0.0,1.0,(4,))\n",
    "#从一个均匀分布[low,high)中随机采样\n",
    "#注意定义域是左闭右开，即包含low，不包含high.\n",
    "print(f)"
   ]
  },
  {
   "cell_type": "markdown",
   "id": "b3a34c59-6146-4ebd-8795-4313dbf20f59",
   "metadata": {},
   "source": [
    "### 数组的索引、切片"
   ]
  },
  {
   "cell_type": "code",
   "execution_count": 57,
   "id": "d6bcfd7a-a3e3-4438-b05e-b88d1f0a0898",
   "metadata": {},
   "outputs": [
    {
     "name": "stdout",
     "output_type": "stream",
     "text": [
      "[2]\n",
      "5\n"
     ]
    }
   ],
   "source": [
    "# 三维 \n",
    "a1 = np.array([ [[1,2,3],[4,5,6]], [[12,3,34],[5,6,7]]]) \n",
    "# 索引、切片 \n",
    "print(a1[0, 0:1, 1] )\n",
    "print(a1[0,1,1])"
   ]
  },
  {
   "cell_type": "markdown",
   "id": "d81f3f0b-4258-4e0e-8bc4-89fbdfa370d1",
   "metadata": {},
   "source": [
    "### 数组的转置"
   ]
  },
  {
   "cell_type": "code",
   "execution_count": 60,
   "id": "a4aa5d97-f5d2-4915-960c-d5bba78cf6a4",
   "metadata": {},
   "outputs": [
    {
     "name": "stdout",
     "output_type": "stream",
     "text": [
      "(5, 4)\n"
     ]
    }
   ],
   "source": [
    "print(e.T.shape)"
   ]
  },
  {
   "cell_type": "markdown",
   "id": "7f5225d2-909b-4b46-962a-97d5c54c89f3",
   "metadata": {},
   "source": [
    "### 数组的去重"
   ]
  },
  {
   "cell_type": "code",
   "execution_count": 63,
   "id": "fc083c65-343e-438f-bd37-c3c20ac2e946",
   "metadata": {},
   "outputs": [
    {
     "name": "stdout",
     "output_type": "stream",
     "text": [
      "[1]\n"
     ]
    }
   ],
   "source": [
    "temp=np.unique(np.ones((2,3),dtype='i8'))\n",
    "print(temp)"
   ]
  },
  {
   "cell_type": "markdown",
   "id": "9cc88a24-ec25-45ae-bed3-3cd4ce0b0936",
   "metadata": {},
   "source": [
    "### ndarray运算"
   ]
  },
  {
   "cell_type": "markdown",
   "id": "d6810ccf-2bad-44e3-847e-0a9c69f9f9f9",
   "metadata": {},
   "source": [
    "#### 逻辑运算"
   ]
  },
  {
   "cell_type": "code",
   "execution_count": 68,
   "id": "b945c69c-7262-4c28-bf30-0ee963274a29",
   "metadata": {},
   "outputs": [
    {
     "name": "stdout",
     "output_type": "stream",
     "text": [
      "[[55.57996313 61.793322   97.17502566 72.66277403 43.60626187]\n",
      " [61.98315565 56.8925118  96.42431911 75.7360685  44.36199724]\n",
      " [47.98675252 50.54369955 40.34196407 96.18022139 95.32497618]\n",
      " [42.03457993 82.20277293 85.95079911 44.77716993 84.00066089]\n",
      " [64.21886559 81.66028048 67.5114351  46.01236073 45.75040269]\n",
      " [80.64353905 94.37986669 78.79147151 45.75142665 85.96826711]\n",
      " [52.33115481 44.84596361 47.63637738 64.22817982 57.46821812]\n",
      " [79.85008498 80.02608156 98.81044749 86.92646979 53.59497147]\n",
      " [77.18269079 98.31804549 91.18473127 73.00150278 72.64830469]\n",
      " [82.37715782 49.85605642 74.78516924 63.5815281  85.74375365]]\n",
      "[[ 52.33115481  44.84596361  47.63637738 100.          57.46821812]\n",
      " [100.         100.         100.         100.          53.59497147]\n",
      " [100.         100.         100.         100.         100.        ]\n",
      " [100.          49.85605642 100.         100.         100.        ]]\n"
     ]
    }
   ],
   "source": [
    "score=np.random.uniform(40,100,(10,5))\n",
    "print(score)\n",
    "test_score=score[6:,:]\n",
    "test_score>60\n",
    "test_score[test_score>60]=100\n",
    "print(test_score)"
   ]
  },
  {
   "cell_type": "code",
   "execution_count": 105,
   "id": "fc8a0b41-8157-408b-9b30-35db6efbad8f",
   "metadata": {},
   "outputs": [
    {
     "name": "stdout",
     "output_type": "stream",
     "text": [
      "(array([3, 4, 5], dtype=int64),)\n"
     ]
    }
   ],
   "source": [
    "print(np.nonzero(a>=4))"
   ]
  },
  {
   "cell_type": "markdown",
   "id": "af7caf6a-8036-4a6f-aec5-1be05c3f61eb",
   "metadata": {},
   "source": [
    "##### 量词"
   ]
  },
  {
   "cell_type": "code",
   "execution_count": 71,
   "id": "8bb6f31d-9c12-4ec7-bbb6-9bc7d1b2cd88",
   "metadata": {},
   "outputs": [
    {
     "name": "stdout",
     "output_type": "stream",
     "text": [
      "False\n",
      "True\n"
     ]
    }
   ],
   "source": [
    "print(np.all(score[0,:]>60))\n",
    "print(np.any(score[0,:]>60))"
   ]
  },
  {
   "cell_type": "markdown",
   "id": "b3c2527f-209d-4c29-a86a-c6a73e42d01c",
   "metadata": {},
   "source": [
    "##### np.where(三元运算符）"
   ]
  },
  {
   "cell_type": "code",
   "execution_count": 73,
   "id": "4662b521-6445-41b3-9f2e-de02b8f72f2b",
   "metadata": {},
   "outputs": [
    {
     "name": "stdout",
     "output_type": "stream",
     "text": [
      "[0]\n",
      "[1]\n"
     ]
    }
   ],
   "source": [
    "# 判断前四名学生,前四门课程中，成绩中大于60且小于90的换为1，否则为0 \n",
    "print(np.where(np.logical_and(temp > 60, temp < 90), 1, 0))\n",
    "\n",
    "# 判断前四名学生,前四门课程中，成绩中大于90或小于60的换为1，否则为0 \n",
    "print(np.where(np.logical_or(temp > 90, temp < 60), 1, 0))"
   ]
  },
  {
   "cell_type": "markdown",
   "id": "cecdbc60-27dd-49e0-b814-fba38f6f756c",
   "metadata": {},
   "source": [
    "#### 统计运算"
   ]
  },
  {
   "cell_type": "code",
   "execution_count": 78,
   "id": "e0b769e4-025a-49d2-867a-fd13721ce4bd",
   "metadata": {},
   "outputs": [
    {
     "name": "stdout",
     "output_type": "stream",
     "text": [
      "前四名学生,各科成绩的最大分：[61.98315565 82.20277293 97.17502566 96.18022139 95.32497618]\n",
      "前四名学生,各科成绩的最小分：[42.03457993 50.54369955 40.34196407 44.77716993 43.60626187]\n",
      "前四名学生,各科成绩的标准差：[ 7.54738556 11.85941423 23.30723428 18.30097824 23.18915831]\n",
      "前四名学生,各科成绩的平均分：[51.89611281 62.85807657 79.97302699 72.33905846 66.82347405]\n",
      "前四名学生,各科成绩的方差：[328.77879747 316.37739454 598.49611785 398.6520269 ]\n",
      "前四名学生，各科成绩最高分对应的学生下标：[1 3 0 2 2]\n"
     ]
    }
   ],
   "source": [
    "# 接下来对于前四名学生,进行一些统计运算 \n",
    "# 指定列 去统计 \n",
    "# axis 0代表列, axis 1代表行去进行统计\n",
    "temp = score[:4, 0:5] \n",
    "print(\"前四名学生,各科成绩的最大分：{}\".format(np.max(temp, axis=0))) \n",
    "print(\"前四名学生,各科成绩的最小分：{}\".format(np.min(temp, axis=0))) \n",
    "print(\"前四名学生,各科成绩的标准差：{}\".format(np.std(temp, axis=0))) \n",
    "print(\"前四名学生,各科成绩的平均分：{}\".format(np.mean(temp, axis=0)))\n",
    "print(\"前四名学生,各科成绩的方差：{}\".format(np.var(temp,axis=1)))\n",
    "print(\"前四名学生，各科成绩最高分对应的学生下标：{}\".format(np.argmax(temp, axis=0)))"
   ]
  },
  {
   "cell_type": "markdown",
   "id": "6db1283e-46f8-46d7-a0ae-fcd74ed23672",
   "metadata": {},
   "source": [
    "#### 数学运算"
   ]
  },
  {
   "cell_type": "code",
   "execution_count": 88,
   "id": "ea001b63-1017-4978-945c-a931d7150927",
   "metadata": {},
   "outputs": [
    {
     "name": "stdout",
     "output_type": "stream",
     "text": [
      "[[1 2 3]\n",
      " [4 5 6]] \n",
      "\n",
      " [[76.8 67.8 68.5]\n",
      " [28.  83.9 89.2]]\n"
     ]
    }
   ],
   "source": [
    "new=np.arange(1,7)\n",
    "new=new.reshape(2,3)\n",
    "new2=np.random.uniform(1,100,(2,3))\n",
    "new2=np.round(new2,decimals=1)\n",
    "print(new,\"\\n\\n\",new2)"
   ]
  },
  {
   "cell_type": "code",
   "execution_count": 98,
   "id": "ee60834f-97bd-4143-9c8b-59cddd3b3e25",
   "metadata": {},
   "outputs": [
    {
     "name": "stdout",
     "output_type": "stream",
     "text": [
      "[[77.8 69.8 71.5]\n",
      " [32.  88.9 95.2]]\n",
      "[[75.8 65.8 65.5]\n",
      " [24.  78.9 83.2]]\n",
      "[[ 1  4  9]\n",
      " [16 25 36]]\n",
      "[[ 1  4  9]\n",
      " [16 25 36]]\n",
      "[[1. 1. 1.]\n",
      " [1. 1. 1.]]\n"
     ]
    }
   ],
   "source": [
    "print(np.add(new,new2))\n",
    "print(np.subtract(new2,new))\n",
    "print(np.multiply(new,new))\n",
    "print(new*new)\n",
    "print(np.divide(new,new))"
   ]
  },
  {
   "cell_type": "code",
   "execution_count": 101,
   "id": "b4dfcdbd-3d08-40b1-b5b7-55a817d53c28",
   "metadata": {},
   "outputs": [
    {
     "name": "stdout",
     "output_type": "stream",
     "text": [
      "21\n",
      "[[ 1  4  9]\n",
      " [16 25 36]]\n",
      "6\n",
      "[[2 3 4]\n",
      " [5 6 7]]\n",
      "[[ 2  4  6]\n",
      " [ 8 10 12]]\n",
      "[[ 2  4  6]\n",
      " [ 8 10 12]]\n"
     ]
    }
   ],
   "source": [
    "print(np.sum(new))\n",
    "print(np.power(new,2))\n",
    "print(np.max(new))\n",
    "print(new+1)\n",
    "print(new*2)\n",
    "print(new+new)\n",
    "eee=np.array([1,0,0,0,1,0,0,0,1])\n",
    "eee=eee.reshape(3,3)"
   ]
  },
  {
   "cell_type": "code",
   "execution_count": 104,
   "id": "7b5f4eb6-b1e7-4b53-abb3-3ef0600de3c2",
   "metadata": {},
   "outputs": [
    {
     "name": "stdout",
     "output_type": "stream",
     "text": [
      "[[1 2 3]\n",
      " [4 5 6]]\n",
      "[[1 2 3]\n",
      " [4 5 6]]\n",
      "[[1 2 3]\n",
      " [4 5 6]]\n"
     ]
    }
   ],
   "source": [
    "# 矩阵乘法\n",
    "# 二者都是矩阵乘法。 np.matmul中禁止矩阵与标量的乘法.\n",
    "#在矢量乘矢量的內积运算中，np.matmu与np.dot没有区别。\n",
    "print(np.dot(new,eee))\n",
    "print(np.matmul(new,eee))\n",
    "print(new@eee)"
   ]
  },
  {
   "cell_type": "markdown",
   "id": "01aa01b9-95b0-4267-afe3-5661e5391c47",
   "metadata": {},
   "source": [
    "### 数组拼接"
   ]
  },
  {
   "cell_type": "code",
   "execution_count": 97,
   "id": "9db9459a-679d-4bd4-a0ac-aa3871b52a49",
   "metadata": {},
   "outputs": [
    {
     "name": "stdout",
     "output_type": "stream",
     "text": [
      "[[1 2 3 1 2 3]\n",
      " [4 5 6 4 5 6]]\n",
      "[[1 2 3]\n",
      " [4 5 6]\n",
      " [1 2 3]\n",
      " [4 5 6]]\n"
     ]
    }
   ],
   "source": [
    "print(np.hstack((new,new)))# 水平拼接，要传进去个tuple\n",
    "print(np.vstack((new,new)))"
   ]
  }
 ],
 "metadata": {
  "kernelspec": {
   "display_name": "Python 3 (ipykernel)",
   "language": "python",
   "name": "python3"
  },
  "language_info": {
   "codemirror_mode": {
    "name": "ipython",
    "version": 3
   },
   "file_extension": ".py",
   "mimetype": "text/x-python",
   "name": "python",
   "nbconvert_exporter": "python",
   "pygments_lexer": "ipython3",
   "version": "3.10.7"
  }
 },
 "nbformat": 4,
 "nbformat_minor": 5
}
