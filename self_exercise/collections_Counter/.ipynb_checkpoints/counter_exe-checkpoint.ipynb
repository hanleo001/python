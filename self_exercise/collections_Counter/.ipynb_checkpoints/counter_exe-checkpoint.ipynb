{
 "cells": [
  {
   "cell_type": "markdown",
   "id": "2d7d4002-f599-439a-8fb5-6ac653fe9e61",
   "metadata": {},
   "source": [
    "# Counter"
   ]
  },
  {
   "cell_type": "markdown",
   "id": "4f9de54a-4397-4c62-b39c-961f542ff088",
   "metadata": {},
   "source": [
    "## 基础"
   ]
  },
  {
   "cell_type": "code",
   "execution_count": 7,
   "id": "4bd4425c-1c4e-4de0-98f9-0bb5a5c2f946",
   "metadata": {},
   "outputs": [
    {
     "name": "stdout",
     "output_type": "stream",
     "text": [
      "Counter({'a': 2, 'n': 2, 'f': 2, 'j': 1, 's': 1, 'd': 1, 'b': 1})\n",
      "Counter({'f': 5, 'a': 2, 'd': 1})\n",
      "dict_items([('a', 2), ('n', 2), ('f', 2), ('j', 1), ('s', 1), ('d', 1), ('b', 1)])\n"
     ]
    }
   ],
   "source": [
    "from collections import Counter as counter\n",
    "a=counter(\"anfjsfdnab\")\n",
    "print(a)\n",
    "b=counter(\"fadffaff\")\n",
    "print(b)\n",
    "p=a.items()\n",
    "print(p)\n",
    "# print(a.elements)\n",
    "# print(a.subtract(b))"
   ]
  },
  {
   "cell_type": "code",
   "execution_count": 10,
   "id": "d0826c9b-8bd8-497d-a632-adc7c618cc25",
   "metadata": {},
   "outputs": [
    {
     "name": "stdout",
     "output_type": "stream",
     "text": [
      "a\n",
      "a\n",
      "n\n",
      "n\n",
      "f\n",
      "f\n",
      "j\n",
      "s\n",
      "d\n",
      "b\n"
     ]
    }
   ],
   "source": [
    "for i in a.elements():\n",
    "    print(i)"
   ]
  },
  {
   "cell_type": "code",
   "execution_count": 12,
   "id": "312afa47-231e-4cde-b8c5-00c446034c4a",
   "metadata": {},
   "outputs": [
    {
     "name": "stdout",
     "output_type": "stream",
     "text": [
      "[('a', 2), ('n', 2)]\n"
     ]
    }
   ],
   "source": [
    "s=a.most_common(2)\n",
    "print(s)"
   ]
  }
 ],
 "metadata": {
  "kernelspec": {
   "display_name": "Python 3 (ipykernel)",
   "language": "python",
   "name": "python3"
  },
  "language_info": {
   "codemirror_mode": {
    "name": "ipython",
    "version": 3
   },
   "file_extension": ".py",
   "mimetype": "text/x-python",
   "name": "python",
   "nbconvert_exporter": "python",
   "pygments_lexer": "ipython3",
   "version": "3.10.7"
  }
 },
 "nbformat": 4,
 "nbformat_minor": 5
}
