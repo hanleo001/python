{
 "cells": [
  {
   "cell_type": "markdown",
   "metadata": {},
   "source": [
    "## 1. Array Partition I (Chuanming Liu)\n"
   ]
  },
  {
   "cell_type": "markdown",
   "metadata": {},
   "source": [
    "Given an array of $2n$ integers, your task is to group these integers into n pairs of integer, say $(a_1, b_1), (a_2, b_2), ..., (a_n, b_n)$ which makes sum of $\\min(a_i, b_i)$ for all $i$ from $1$ to $n$ as large as possible.\n",
    "\n",
    "### Example 1:\n",
    "#### Input: \n",
    "\\[$1,4,3,2$\\]\n",
    "#### Output:\n",
    "$4$\n",
    "#### Explanation:\n",
    "$n$ is $2$, and the maximum sum of pairs is $4 = \\min(1, 2) + \\min(3, 4)$.\n",
    "#### Note:\n",
    "n is a positive integer, which is in the range of \\[$1, 10000$\\].<br/>\n",
    "All the integers in the array will be in the range of \\[$-10000, 10000$\\]."
   ]
  },
  {
   "cell_type": "markdown",
   "metadata": {},
   "source": [
    "### solve"
   ]
  },
  {
   "cell_type": "code",
   "execution_count": 5,
   "metadata": {},
   "outputs": [
    {
     "data": {
      "text/plain": [
       "4"
      ]
     },
     "execution_count": 5,
     "metadata": {},
     "output_type": "execute_result"
    }
   ],
   "source": [
    "def sol1(lis):\n",
    "    lis.sort()\n",
    "    p=0\n",
    "    for i in range(len(lis)//2):\n",
    "       p+=lis[2*i]\n",
    "    return p\n",
    "sol1([1,4,3,2])"
   ]
  },
  {
   "cell_type": "markdown",
   "metadata": {},
   "source": [
    "## 2. K-distance-subset （Kaipeng Zeng)\n",
    "### Description\n",
    "There is a set $S$ of points on a plane descriped by cartesian coordinates. An K-distance-subset is a subset with a size not less than 2 of $S$ in which every pairs of points have a distance not less than $K$. Now you are given a list of points representing the set $S$ and a positive real number $K$, and you are supposed to find all the K-distance-subset of $S$. The answer should be given in form of a list of set.\n",
    "\n",
    "### Input\n",
    "A list $L$ of tuples representing points and a real number $K$.\n",
    "### Output\n",
    "A list of set representing all the K-distance-subset.\n",
    "\n",
    "### Note\n",
    "The length of $L$ is not more than $15$. By definition, a set is unordered, so neither the order of elements in a subset nor the order of the subsets in the answer list are strictly constrained. \n",
    "\n",
    "### Sample Input\n",
    "\\[<br>\n",
    "&emsp;(1, 2),<br>\n",
    "&emsp;(2, 2),<br>\n",
    "&emsp;(3, 3),<br>\n",
    "&emsp;(4, 3)<br>\n",
    "\\]<br>\n",
    "1.1\n",
    "\n",
    "### Sample Output\n",
    "\\[<br>\n",
    "&emsp;\\{(2, 2), (4, 3)\\}, <br>\n",
    "&emsp;\\{(2, 2), (3, 3)\\}, <br>\n",
    "&emsp;\\{(1, 2), (4, 3)\\}, <br>\n",
    "&emsp;\\{(1, 2), (3, 3)\\}<br>\n",
    "\\]"
   ]
  },
  {
   "cell_type": "code",
   "execution_count": 7,
   "metadata": {},
   "outputs": [
    {
     "data": {
      "text/plain": [
       "[{(1, 2), (3, 3)}, {(1, 2), (4, 3)}, {(2, 2), (3, 3)}, {(2, 2), (4, 3)}]"
      ]
     },
     "execution_count": 7,
     "metadata": {},
     "output_type": "execute_result"
    }
   ],
   "source": [
    "# write your code here\n",
    "# Any definitions and calls of other functions are allowed\n",
    "def get_k_subset(L, K):\n",
    "    res=[]\n",
    "    for i in range(len(L)):\n",
    "        for j in range(i+1,len(L)):\n",
    "            if ((L[i][0]-L[j][0])**2+(L[i][1]-L[j][1])**2)>=K**2:\n",
    "                res.append({L[i],L[j]})\n",
    "    return res\n",
    "get_k_subset([(1, 2),(2, 2),(3, 3),(4, 3)],1.1)"
   ]
  },
  {
   "cell_type": "markdown",
   "metadata": {},
   "source": [
    "## 3. **Find Key** （Meichao Luo)\n",
    "  \n",
    "### Description\n",
    "\n",
    "Given a Dict 'n' and a 'target' value (may be string, may be int...), return a List 'm' that contains all the keys in 'n' whose value is equal to target.\n",
    "\n",
    "\n",
    "### Input \n",
    "A Dict n, a target\n",
    "\n",
    "### Output\n",
    "A List m\n",
    "\n",
    "### Note\n",
    "1. The target may not show in the Dict\n",
    "2. There may be multiple keys who has the target value"
   ]
  },
  {
   "cell_type": "markdown",
   "metadata": {},
   "source": [
    "### Example\n",
    "#### ex1.\n",
    "Input: \\[{\"yesterday\":\"sunny\",\"today\":\"sunny\",\"tommorrow\":\"rainy\"},\"rainy\"\\]\n",
    "\n",
    "Output: \\['tommorrow'\\]\n",
    "\n",
    "\n",
    "#### ex2.\n",
    "Input: \\[{10:10,9:8,8:9,7:2,6:10},10\\]\n",
    "\n",
    "Output: \\[10,6\\]\n"
   ]
  },
  {
   "cell_type": "code",
   "execution_count": 1,
   "metadata": {},
   "outputs": [],
   "source": [
    "def find_key(n:dict,target):\n",
    "    pass"
   ]
  },
  {
   "cell_type": "code",
   "execution_count": 2,
   "metadata": {
    "scrolled": true
   },
   "outputs": [
    {
     "name": "stdout",
     "output_type": "stream",
     "text": [
      "None\n",
      "None\n"
     ]
    }
   ],
   "source": [
    "testcase=[[{\"Bob\":100,\"Alice\":95,\"Eve\":67,\"Mike\":100,\"John\":90},100],[{1:\"egg\",2:\"bread\",3:\"bread\",4:\"egg\",5:\"bread\"},\"egg\"]]\n",
    "for i in testcase:\n",
    "    print(find_key(i[0],i[-1]))"
   ]
  },
  {
   "cell_type": "markdown",
   "metadata": {},
   "source": [
    "The output should be:\n",
    "<br>\\['Bob', 'Mike'\\]\n",
    "<br>\\[1, 4\\]"
   ]
  },
  {
   "cell_type": "markdown",
   "metadata": {},
   "source": [
    "## 4. Exercise 1 (Weidong Wang)\n",
    "1. Write the output of these programs without the help of computer. Then run these programs to check if your result is correct. Notice that some of the programs will raise errors and you should know why the errors occur.\n",
    "\n",
    "```python\n",
    "l1 = [3] * 5\n",
    "l1[0] = 1\n",
    "print(l1)\n",
    "\n",
    "l2 = [[1,2,3]] * 3\n",
    "l2[0][0] = 3\n",
    "print(l2)\n",
    "\n",
    "l3 = [[1,2,3]] * 3\n",
    "l3[0] = 3\n",
    "print(l3)\n",
    "\n",
    "l4 = [[1,2,3],[1,2,3],[1,2,3]]\n",
    "l5 = l4.copy()\n",
    "l4[0][0] = 3\n",
    "print(l5)\n",
    "```\n",
    "\n",
    "\n",
    "\n",
    "```python\n",
    "l1 = [1, 2, 3]\n",
    "l2 = [1, 2, 3]\n",
    "l3 = l1\n",
    "l4 = l1[:]\n",
    "print(id(l1) == id(l2), id(l1) == id(l3), id(l1) == id(l4), sep='\\t')\n",
    "print(l1 == l2, l1 == l3, l1 == l4, sep='\\t')\n",
    "```\n",
    "\n",
    "\n",
    "\n",
    "```python\n",
    "l1 = [1, 2, 3]\n",
    "l2 = [1, 2, 3]\n",
    "d1 = dict()\n",
    "d1[1] = l1\n",
    "l1[0] = 2\n",
    "print(d1[1])\n",
    "d2 = dict()\n",
    "d2[l1] = 1\n",
    "d2[l2] = 2\n",
    "print(d2[l2])\n",
    "```\n",
    "\n",
    "\n",
    "\n",
    "```python\n",
    "s1 = \"abcde\" * 3\n",
    "s1[2] = \"B\"\n",
    "print(s1)\n",
    "```\n",
    "\n",
    "\n",
    "\n",
    "```python\n",
    "l1 = [1, 2, 3, 4, 5]\n",
    "print(l1[-3:-1])\n",
    "print(l1[-2:])\n",
    "print(l1[:100])\n",
    "print(l1[-100:])\n",
    "print(l1[2:4:2])\n",
    "print(l1[4:2])\n",
    "```\n",
    "\n",
    "\n",
    "\n",
    "```python\n",
    "l1 = [5, 4, 3, 2, 1] * 2\n",
    "del l1[0]\n",
    "print(l1)\n",
    "l1.pop(2)\n",
    "print(l1)\n",
    "l1.remove(1)\n",
    "print(l1)\n",
    "print(l1.pop())\n",
    "```"
   ]
  },
  {
   "cell_type": "markdown",
   "metadata": {},
   "source": [
    "## 5. Construct a Matrix (Yifei Zhang)\n",
    "Construct a square matrix whose eigenvalues are $1, 2, 3, 4, 5$.\n",
    "### Input\n",
    "None\n",
    "### Output\n",
    "A square matrix.(Any result that satisfies the problem is OK)"
   ]
  },
  {
   "cell_type": "code",
   "execution_count": 7,
   "metadata": {},
   "outputs": [],
   "source": [
    "# write your code here\n",
    "# Any definitions and calls to other functions are allowed\n",
    "def constructMatrix():\n",
    "    pass"
   ]
  },
  {
   "cell_type": "markdown",
   "metadata": {},
   "source": [
    "## 6. Remove Zeros (Yanming Liu)\n",
    "### Description\n",
    "Realize a function to remove the prefixed zeros and suffixed zeros from a given list of integers.\n",
    "#### Input\n",
    "A list $L$ of integers. \n",
    "#### Output\n",
    "The list $L$ after removing the prefixed and suffixed zeros. <br/> *Your function needs to change the list $L$, and then return the result after changing it.* \n",
    "#### Note\n",
    "$1\\leq len(L)\\leq 300$.<br/>\n",
    "Prefixed zeros mean the consecutive zeros at the beginning of a list. <br/>\n",
    "Suffixed zeros mean the consecutive zeros at the end of a list."
   ]
  },
  {
   "cell_type": "markdown",
   "metadata": {},
   "source": [
    "### Example 1\n",
    "#### Input\n",
    "L = \\[0,0,0,0,0\\]\n",
    "#### Output\n",
    "L = \\[\\]\n",
    "### Example 2\n",
    "#### Input\n",
    "L = \\[0,0,1,2,0,0,0,3,0,4,0\\]\n",
    "#### Output\n",
    "L = \\[1,2,0,0,0,3,0,4\\]\n",
    "### Example 3\n",
    "#### Input\n",
    "L = \\[1,2,0,0,3,0,4,0,0,0\\]\n",
    "#### Output\n",
    "L = \\[1,2,0,0,3,0,4\\]"
   ]
  },
  {
   "cell_type": "code",
   "execution_count": 8,
   "metadata": {},
   "outputs": [],
   "source": [
    "# write your code here\n",
    "def Remove_prefixed_and_suffixed_zeros(L):\n",
    "    pass"
   ]
  },
  {
   "cell_type": "code",
   "execution_count": 9,
   "metadata": {},
   "outputs": [
    {
     "name": "stdout",
     "output_type": "stream",
     "text": [
      "False\n",
      "False\n",
      "False\n",
      "False\n",
      "False\n",
      "False\n"
     ]
    }
   ],
   "source": [
    "# The answer is to help you check the correctness of your code.\n",
    "# Answer oriented programming is not allowed. (TA will check your code.)\n",
    "L = [\n",
    "    [0, 0, 0, 0, 0, 0, 2, 0, 0, 6, 0, 0, 0, 9, 3, 5, 7, 0, 1, 6, 2, 0, 0, 0, 0, 0, 0, 0, 0, 0],\n",
    "    [0, 0, 0, 5, 0, 9, 0, 0, 0, 0, 0, 5, 9, 0, 0, 0, 1, 0, 0, 0, 4, 0, 0, 0, 0, 0, 0, 0, 0, 0],\n",
    "    [0, 0, 0, 0, 0, 0, 0, 0, 3, 0, 0, 0, 0, 0, 0, 0, 0, 0, 0, 0, 0, 10, 0, 0, 0, 0, 0, 0, 0, 0, 10, 0, 0, 6, 0, 7, 0, 0, 0, 0, 7, 1, 0, 0, 3, 0, 3, 5, 0, 3, 6, 4, 0, 0, 0, 0, 2, 4, 0, 8, 0, 0, 0, 0, 2, 0, 0, 1, 0, 0, 0, 0, 0, 0, 0, 0, 0, 0, 0, 0, 0, 0, 0, 4, 0, 0, 0, 0, 0, 7, 0, 0, 0, 0, 0, 0, 0, 0, 0, 0],\n",
    "    [0, 0, 0, 0, 0],\n",
    "    [0, 0, 1, 2, 0, 0, 0, 3, 0, 4, 0],\n",
    "    [1, 2, 0, 0, 3, 0, 4, 0, 0, 0]\n",
    "]\n",
    "Ans = [\n",
    "    [2, 0, 0, 6, 0, 0, 0, 9, 3, 5, 7, 0, 1, 6, 2],\n",
    "    [5, 0, 9, 0, 0, 0, 0, 0, 5, 9, 0, 0, 0, 1, 0, 0, 0, 4],\n",
    "    [3, 0, 0, 0, 0, 0, 0, 0, 0, 0, 0, 0, 0, 10, 0, 0, 0, 0, 0, 0, 0, 0, 10, 0, 0, 6, 0, 7, 0, 0, 0, 0, 7, 1, 0, 0, 3, 0, 3, 5, 0, 3, 6, 4, 0, 0, 0, 0, 2, 4, 0, 8, 0, 0, 0, 0, 2, 0, 0, 1, 0, 0, 0, 0, 0, 0, 0, 0, 0, 0, 0, 0, 0, 0, 0, 4, 0, 0, 0, 0, 0, 7],\n",
    "    [],\n",
    "    [1, 2, 0, 0, 0, 3, 0, 4],\n",
    "    [1, 2, 0, 0, 3, 0, 4]\n",
    "]\n",
    "for i in range(len(L)):\n",
    "    print(Remove_prefixed_and_suffixed_zeros(L[i]) == Ans[i])"
   ]
  },
  {
   "cell_type": "markdown",
   "metadata": {},
   "source": [
    "## 7. Delete Duplicate Integers (Luhua Jin)\n",
    "### Description\n",
    "Given a list which may contain duplicate integers which occur more than one time in the lis. Design a function which can delete the duplicate numbers and output them in a list which is descending order.\n",
    "\n",
    "### Input\n",
    "One integer list $Nums$\n",
    "\n",
    "### Output\n",
    "An integer list\n",
    "\n",
    "### Sample Input\n",
    "$Nums$ = \\[3,2,1,4,2,3,5\\]\n",
    "\n",
    "### Sample Output\n",
    "\\[5,4,3,2,1\\]\n",
    "\n"
   ]
  },
  {
   "cell_type": "code",
   "execution_count": 10,
   "metadata": {},
   "outputs": [],
   "source": [
    "# write your code here\n",
    "# Any definitions and calls of other functions are allowed\n",
    "def delete_duplicate_integers(Nums):\n",
    "    pass"
   ]
  },
  {
   "cell_type": "markdown",
   "metadata": {},
   "source": [
    "## 8. Problem 1 (Sen Li)\n",
    "The set S originally contains numbers from $1$ to $n$. But unfortunately, due to the data error, one of the numbers in the set got duplicated to another number in the set, which results in repetition of one number and loss of another number.\n",
    "\n",
    "Given an array nums representing the data status of this set after the error. Your task is to firstly find the number occurs twice and then find the number that is missing. Return them in the form of an array.\n",
    "\n",
    "Example\n",
    "```\n",
    "Input: nums = [1,2,2,4]\n",
    "Output: [2,3]\n",
    "Explanation:\n",
    "2 is the number occurs twice, 3 is the missing number.\n",
    "```"
   ]
  },
  {
   "cell_type": "code",
   "execution_count": null,
   "metadata": {},
   "outputs": [],
   "source": [
    "def findErrorNums(nums):\n",
    "    # Write your code here"
   ]
  },
  {
   "cell_type": "code",
   "execution_count": null,
   "metadata": {},
   "outputs": [],
   "source": [
    "print(findErrorNums([1,3,3,4]))"
   ]
  },
  {
   "cell_type": "markdown",
   "metadata": {},
   "source": [
    "## 9. Common elements within two arrays （Xiaoyi Bao)\n",
    "\n",
    "### Description\n",
    "Given two arrays of integers $nums1, nums2$, return a list of common values within the two arrays. Each value should only be counted once.\n",
    "\n",
    "### Input\n",
    "$nums1$ is an array of integer<br/>\n",
    "$nums2$ is another array of integer<br/>\n",
    "$1 < len(nums1)$, $len(nums2) < 100$\n",
    "\n",
    "### Output\n",
    "A list of values that appear on both arrays. All the elements in the returned list should be unique.\n",
    "\n",
    "### Note\n",
    "\n",
    "You may return the output elements in any order.\n",
    "\n",
    "### Samples\n",
    "#### Example1\n",
    "IN: \n",
    "\n",
    "$nums1$ = \\[1\\]\n",
    "\n",
    "$nums2$ = \\[1, 2\\]\n",
    "\n",
    "OUT: \\[1\\]\n",
    "\n",
    "\n",
    "#### Example 2\n",
    "\n",
    "IN:\n",
    "\n",
    "\n",
    "$nums1$ = \\[4, 1, 5, 8\\]\n",
    "\n",
    "$nums2$ = \\[1, 1, 2\\]\n",
    "\n",
    "OUT: \\[1\\]\n",
    "\n",
    "#### Example3\n",
    "IN:\n",
    "\n",
    "\n",
    "$nums1$ = \\[4, 1, 5, 8, 6, 5, 1\\]\n",
    "\n",
    "$nums2$ = \\[1, 1, 4\\]\n",
    "\n",
    "OUT: \\[1, 4\\]\n"
   ]
  },
  {
   "cell_type": "code",
   "execution_count": null,
   "metadata": {},
   "outputs": [],
   "source": [
    "def common_elements_within_two_arrays(nums1, nums2):\n",
    "    pass"
   ]
  },
  {
   "cell_type": "code",
   "execution_count": null,
   "metadata": {},
   "outputs": [],
   "source": [
    "assert sorted(common_elements_within_two_arrays([1], [1,2])) == sorted([1])\n",
    "assert sorted(common_elements_within_two_arrays([4,1,5,8], [1,1,2])) == sorted([1])\n",
    "assert sorted(common_elements_within_two_arrays([4, 1, 5, 8, 6, 5, 1], [1,1,4])) == sorted([1,4])\n",
    "print(\"All cases passed\")"
   ]
  },
  {
   "cell_type": "markdown",
   "metadata": {},
   "source": [
    "## 10. Next Greater Element I (Chuanming Liu)\n"
   ]
  },
  {
   "cell_type": "markdown",
   "metadata": {},
   "source": [
    "You are given two arrays (without duplicates) nums1 and nums2 where nums1’s elements are subset of nums2. Find all the next greater numbers for nums1's elements in the corresponding places of nums2.\n",
    "\n",
    "The Next Greater Number of a number x in nums1 is the first greater number to its right in nums2. If it does not exist, output -1 for this number.\n",
    "\n",
    "### Example 1:\n",
    "#### Input: \n",
    "nums1 = \\[4,1,2\\], nums2 = \\[1,3,4,2\\].\n",
    "#### Output: \n",
    "\\[-1,3,-1\\]\n",
    "#### Explanation:\n",
    "For number 4 in the first array, you cannot find the next greater number for it in the second array, so output -1.<br/>\n",
    "For number 1 in the first array, the next greater number for it in the second array is 3. <br/>\n",
    "For number 2 in the first array, there is no next greater number for it in the second array, so output -1.<br/> \n",
    "### Example 2:\n",
    "#### Input: \n",
    "nums1 = \\[2,4\\], nums2 = \\[1,2,3,4\\].\n",
    "#### Output: \n",
    "\\[3,-1\\]\n",
    "#### Explanation:\n",
    "For number 2 in the first array, the next greater number for it in the second array is 3.<br/>\n",
    "For number 4 in the first array, there is no next greater number for it in the second array, so output -1.\n",
    "### Note:\n",
    "All elements in nums1 and nums2 are unique. <br/>\n",
    "The length of both nums1 and nums2 would not exceed 1000.\n"
   ]
  },
  {
   "cell_type": "markdown",
   "metadata": {},
   "source": [
    "## 11. Three Views (Kaipeng Zeng)\n",
    "### Description\n",
    "The teaching assistant ZKP has a magic space without gravity. And he also have a magic toy consists of $N$ cubes whose edge lengthes are all $1$. All these cubes have their own position, which can be represented as a 3 dimensional vector and every dimension of this vector is an positive integer. Now the teacher assistant ZKP wants to know what the Three views of this magic toy looks like so that he can descripe this toy to his friends better. But he is too stupid to draw these. So can you help him?\n",
    "\n",
    "### Input\n",
    "A list $L$ containing $N$ 3-dimensional vectors representing the positions of the cubes.\n",
    "\n",
    "### Output\n",
    "A string representing the three views of The toy (front view, left view and top view in order). There shoule be one single blank line between two views. \n",
    "\n",
    "### Note\n",
    "For every vector $(x, y, z)$, we have $1\\le x\\le30$, $1\\le y\\le30$, $1\\le z\\le30$.<br>\n",
    "Also the total number of the cubes $1\\le N\\le 30$.<br>\n",
    "It's very difficult to draw the real three views with lines. So we use character N to represent a square whose edge length is 1. \n",
    "<br>Any redundant spaces at the end of the line or redundant blank lines at the end of string is allowed.\n",
    "\n",
    "### Sample Input\n",
    "\\[<br>\n",
    "&emsp;\\[1, 1, 1\\],<br>\n",
    "&emsp;\\[1, 2, 1\\],<br>\n",
    "&emsp;\\[1, 3, 1\\],<br>\n",
    "&emsp;\\[2, 1, 1\\],<br>\n",
    "&emsp;\\[1, 1, 2\\]<br>\n",
    "\\]<br>\n",
    "\n",
    "### Sample Output\n",
    "\n",
    "N<br>\n",
    "NNN<br>\n",
    "<br>\n",
    "N<br>\n",
    "NN<br>\n",
    "<br>\n",
    "NNN<br>\n",
    "N<br>\n",
    "\n",
    "### Hint \n",
    "It's very difficult to image such a toy without any help. So the TA helps you to draw the toy in the Sample.\n",
    "<img src=\"2.png\">"
   ]
  },
  {
   "cell_type": "markdown",
   "metadata": {},
   "source": [
    "## 12. **Find Key Upgrade** (Meichao Luo)\n",
    "  \n",
    "### Description\n",
    "\n",
    "Given a Dict 'n' and a 'target' value (a **single** character), return a List 'm' that contains all the keys in 'n' whose value contains target. **Now, the Dict's value is a List and the List is composed by Strings**. Here, Value contains Target means that one of the string in the value List contains the target character. If multiple fit, just ignore.\n",
    "\n",
    "\n",
    "### Input \n",
    "A Dict 'n', a 'target' character\n",
    "\n",
    "### Output\n",
    "A List 'm'\n",
    "\n",
    "### Note\n",
    "1.The target may not show in the Dict\n",
    "2.There may be multiple keys who has the target value\n",
    "3.Here, the target is a single character, what if also a string?"
   ]
  },
  {
   "cell_type": "markdown",
   "metadata": {},
   "source": [
    "### Example\n",
    "#### ex1.\n",
    "Input: \\[{\"Saber\":\\[\"Altria\"\\],\"Archer\":\\[\"Emiya\"\\],\"Lancer\":\\[\"CuChulainnww\"\\]},\"w\"\\]\n",
    "\n",
    "Output: \\['Lancer'\\]\n"
   ]
  },
  {
   "cell_type": "code",
   "execution_count": 13,
   "metadata": {},
   "outputs": [],
   "source": [
    "def find_key_up(n:dict,target):\n",
    "    pass"
   ]
  },
  {
   "cell_type": "code",
   "execution_count": 14,
   "metadata": {},
   "outputs": [
    {
     "name": "stdout",
     "output_type": "stream",
     "text": [
      "None\n",
      "None\n"
     ]
    }
   ],
   "source": [
    "testcase=[[{1:[\"ilove\",\"to\",\"play\"],2:[\"do\",\"you\"],3:[\"game\",\"is\",\"interesting\"]},\"i\"],[{\"Bob\":[\"87\",\"82\",\"94\",\"100\",\"93\"],\"Alice\":[\"97\",\"92\",\"95\",\"100\",\"89\"],\"Eve\":[\"67\",\"62\",\"54\",\"31\",\"73\"]},\"9\"]]\n",
    "for i in testcase:\n",
    "    print(find_key_up(i[0],i[-1]))"
   ]
  },
  {
   "cell_type": "markdown",
   "metadata": {},
   "source": [
    "The output should be:\n",
    "<br>\\[1, 3\\]\n",
    "<br>\\['Bob', 'Alice'\\]"
   ]
  },
  {
   "cell_type": "markdown",
   "metadata": {},
   "source": [
    "## 13. Exercise 2 (Weidong Wang)\n",
    "2. Given a two-dimensional matrix, write a function to compute its transpose. Your function should return a new matrix and the original matrix cannot be modified. The number of rows or columns must be greater than 0.\n",
    "\n",
    "    ```python\n",
    "    >>> print(transpose([[1]]))\n",
    "    [[1]]\n",
    "    >>> print(transpose([[1,2,3],[4,5,6]]))\n",
    "    [[1,4],[2,5],[3,6]]\n",
    "    ```"
   ]
  },
  {
   "cell_type": "markdown",
   "metadata": {},
   "source": [
    "## 14. Convolution (Yifei Zhang) \n",
    "Given two $2\\times 2$ integer matrix, calculate its convolution. The convolution of two matrix is the sum of the product of the corresponding positions of them.\n",
    "### Input\n",
    "Two matrix $m_1$, $m_2$\n",
    "### Output\n",
    "An integer\n",
    "### Example\n",
    "Input: m1=\\[\\[1,2\\],\\[3,4\\]\\] m2=\\[\\[1,2\\],\\[3,4\\]\\]\n",
    "\n",
    "Output: $30(=1* 1+2* 2+3* 3+4* 4)$"
   ]
  },
  {
   "cell_type": "code",
   "execution_count": 16,
   "metadata": {},
   "outputs": [],
   "source": [
    "# write your code here\n",
    "# Any definitions and calls to other functions are allowed\n",
    "def convolution(m1,m2):\n",
    "    pass"
   ]
  },
  {
   "cell_type": "markdown",
   "metadata": {},
   "source": [
    "## 15. Uppercase Letter (Yanming Liu)\n",
    "### Description\n",
    "Given a string $A$ of uppercase and lowercase letters, and a non-negative integer $P$, find the **longest** interval $[L,R)$ so that there is no less than $P\\%$ uppercase letters in the string $A[L:R]$.\n",
    "### Input \n",
    "A string $A$, a non-negative integer $P$.\n",
    "### Output\n",
    "A tuple $(L,R)$. <br/> *If there is no valid interval, return \"no solution\". If there are more than one valid intervals, return the one with the least left end point $L$.*\n",
    "### Note\n",
    "No time complexity requirement.<br/>\n",
    "$1\\leq len(A)\\leq 300$, \n",
    "$0\\leq P\\leq 100$. <br/>\n",
    "The string $A$ consists of uppercase and lowercase English letters. <br/>The interval $[L,R)$ you found must satisfy $0\\leq L < R \\leq len(A)$. <br/>\n",
    "\n"
   ]
  },
  {
   "cell_type": "markdown",
   "metadata": {},
   "source": [
    "### Example 1\n",
    "#### Input\n",
    "A = \"ABcABcABcABc\"<br/>\n",
    "P = 66\n",
    "#### Output\n",
    "$(0,12)$\n",
    "#### Explanation\n",
    "There is 8 uppercase letters in $A[0:12]$, proportion$=\\dfrac{2}{3}\\geq 66\\%$\n",
    "### Example 2\n",
    "#### Input\n",
    "A = \"AbcabCAbcabC\"<br/>\n",
    "P = 50\n",
    "#### Output\n",
    "$(3,7)$\n",
    "#### Explanation\n",
    "$(3,7)$ and $(4,8)$ both meet requirements, but $3<4$, so return $(3,7)$"
   ]
  },
  {
   "cell_type": "code",
   "execution_count": 17,
   "metadata": {},
   "outputs": [],
   "source": [
    "# write your code here\n",
    "def Find_longest_interval(A, P):\n",
    "    pass"
   ]
  },
  {
   "cell_type": "code",
   "execution_count": 19,
   "metadata": {},
   "outputs": [],
   "source": [
    "A=[\n",
    "    \"ABcABcABcABc\", \n",
    "    \"AbcabCAbcabC\",\n",
    "    \"jCuiJPPhZzAzFbMaojyaFyIUVAYgjwisBBsVUXKwKqDyzPkkhYeszlqQwbmLeoTppdvjOxDmfCMyygdmvsvLbpBAeWyRimzcpoAy\",\n",
    "    \"UQXYKLAMeWyOIZycWoDgXLpMWBlUKAORCPDmaNTQWCfAScXWIbXZzWsoEKTJMZMWTQVDVAnGcdMEUIPRKAHUURQTMIBzZtKLJKII\",\n",
    "    \"tchfsnXdpPHenwpDocwbsWODOIfUEfhNlPGLhwwByogVnMhHonNDczoTmIySfDAcNsqqfpevVJCvtJZEQApFwUmelnTkvPmZoXVX\",\n",
    "    \"srWPGCFMZhXRQyOISzziFOwZsQsxvlHqTQJsulDChqWlIoZKoGwFMiNitokuWnVYlhMEaPiAtWUTfFGZHLuEjTKhrjeJUOehtcuI\",\n",
    "    \"oLAvBCHBsLDZNOWpLpHfQvDFGKvPLIlkQJcfYSTVtZZJUfVrZWXmdBSRIHQnFKoGGOWMSMgNmdWRiGJTgLYcXmErTEQGCFYdKOLGXJhFBVMjYGjWItAvRjCLNtKiXLFZAQGAXIFFREJTORdSuiUssAjWDJLbuwPTNFWMPngXBYRgSKYYXEXCLwCHLKNwwfWyVjKJJFLYeBdCWIVAPsKYXOMWHgYLVIviosdfSwPPFBngDJnOBFBLJMGbbtVUWqSLKnNYRKYPBZMMLFcCAdvNHVRVHNRVREZFxqbvEYNinYMF\",\n",
    "    \"AQttlyNSVYDRlpdOpGUufrqeYpdTfZvMnmzfodBergNTWmNBQvELVdxXcoZLejvwBvfmNKeFRdighisZufYVeqUHCzVffOEsJaQqZRXxydgtMRpmbQVHyoYedkTLgwUNIyjXaRxitcvvserlcOgPJmJnmxmwmtxCnqmKxCnrJmCyDgiSrGizxrCalGDFofpbJdcKIYAXvPIEtKbBqpiKoQOgRuwbDuAUyTbydYvvwGccQrGHHWKUEHiBEsVLfIeJeuTHLkfPBiwfbvfkzDNlWTUzaFJAwdkDhVkhokbUwSYJ\",\n",
    "    \"oAaytNvEyeGPdiVLQOlMNnxRSIQDWuwKXZkIQXBVQMesGKZiacxSHhuqDhGBQETXTbBDeHzENIpOHXQkzGexCDiLMfRVWTprRkHGAVwCDbYaMrKNYJBbAtTclCYsWTiZMAZiXMTyWNNHafByJqcPGKWZYvFbZcruztlFuGJOamXBOKzxlJFYONBmDXXWHUatNWWhdYXUVxpPTFCFNiKKErGrDCydPRWfNxDhxpaJHOSDhvnQwQVRXgyWMcpzJnjcDVzSoLcUbdPAHBrrGMmRUEpRrAMzPWyWPLfcReGoclvj\",\n",
    "    \"kEgdFyBqVSXfMBVdIkOLNqeaFyNsEDdxIWCeDUSWknEmGtfMoYZEVIvZoOrGgVrCBPPEfLxcuxbFefSFIhRzWHgIVOZIRipnqEpjilOGcthHIVexdYFdGFThVBjVmdTqHUrBGHKaxFQnzeKdGlNcTMmlIAxbYmZLaWPqFbQCCiPzSZpiFHHjfygDriCuHSCTawANfkfY\",\n",
    "    \"cqzdQOyigfgVplczLrZJRuqMaWNhGckdySccwMZhRlXQQfRVZRvQGzEMgdOKxFnpdLAFnuXbnJWXHFzWYbLwohkBGvmoclYgdZKuQtRXGAjrolvxjZNVELussNdcrLnsbgMeQGOtaWrkuNeUXNnsgnIoNJURbjVlpuSTfxnuEIDxQxjoilFVQvLudyheCWxNJqgjHPBFHFBtNlMKXEXWrjZKVDfOftnquEbYNRdzjxsmmbhoLMKYWjmeHcnyctHEftIJDVtVAvulueSviuGJtcXjEtAdridHuhtTnEuyMxSM\",\n",
    "    \"jkDzBhpxwLlvgrtwynkeslfmwiesgscutpxdatnttwhafjsoQgbsaovjdttanvefnoyyVqoiCndjfMggkeoVvijzawwnaykfkuPTrpvmfdoxljrftxtsbzvlaoboxqrxwvfBTafalkxoxwgaxkyuvejoqjNltrvfhEboqryrhPhrElhhgqvowbmaorlxeneiOfqMufixncqIqsqdhgilrwxabxoqutkpuxlzajilqyoKskdirrglzvqidfhyfYkyyNpvoxczqesldfdidkqtnevFqsrrxupqXJXcjMjnbxeu\",\n",
    "    \"zfXtsotyPiadjdpTbiqouTugruVEabvwOdwnGyYxcTlbpwozzimtiUNvuxuEQucvwRyZrhxxRmgzqhikkvGontxIlWdgPbftadeAmgusSaObjlbEjvskFkbCpxqbioccQDsmnszgVywXbYlewkmvQhcucwFcyFnCrydqxkTwllcSboBedHrsuSubygpyQlqfWkhCuvgEjpolUcdSddcYCeMSihxuYhoiCfqbzthphdcloBbuejcoLeuFqQzffuZGYKzTkIemRvptohuxtMqpWzcHvhtwWrJtBojvvjlSBIiy\",\n",
    "    \"bWEFKiVZLGMRzGFfDlQcgpyDvbeiQRrBQCPwWshWGKVAlwrVvyrpKGSZhdZnHOtNXFsitpSVrxSEFWrYFjuoPQrlORWOFMEhPGeCVvXjMUYAOutWoXZsBVhyONNGzNYJPYqRNujDBOArTfvdZOJCjihKTrVUweRfxaYVVGjONiXSPDlYvHHIlQbNyanhEzJODAnXMTaXGZXopXDQFrcSIZtIOhZZjGtwZSkPZEGrhRYlWwLuQKJuMJPhCRDxgPtkQaVcQFxKYONYixsTKtuaFJQMMDpFjNUZDCzDVQDGLXtc\",\n",
    "    \"CrfgtqSvSyHejoqnyqOVbhEwjftiTokaSdsmrueNghkICuvxuiiVpmwxVudNkosFtvStduocbRceQYmaznhiLihMewofhrRKpdVIcteTiczrKjtaAAkHaxkzxpwARZsLfofljqbpgisaybdbAjnjxpEWuabbjdulusiyxWtMfkmshJsdJuIgSTEbHXYZfNirohoqppDzjrmFlmonDscnHWshnyduAzjgbqhbogTHkoAWNoOAljiaetaLgyKmztvkMflfxELYFkhaiznnrjdoCkgpptucnKgrqsrSPBsNhaan\"\n",
    "]\n",
    "P=[66, 50, 55, 97, 47, 69, 92, 58, 76, 67, 55, 9, 25, 70, 29]\n",
    "Ans = [(0, 12), (3, 7), (19, 46), (74, 91), (15, 100), (2, 26), (122, 142), (236, 284), (177, 215), (47, 70), (36, 106), (0, 300), (14, 298), (88, 148), (162, 296)]\n",
    "for i in range(len(A)):\n",
    "    print(Find_longest_interval(A[i], P[i]) == Ans[i])"
   ]
  },
  {
   "cell_type": "markdown",
   "metadata": {},
   "source": [
    "## 16. Replace Words (Luhua Jin)\n",
    "### Description\n",
    "In English, we have a concept called $root$, which can be followed by some other word to form another longer word - let's call this word $successor$. For example, when the $root$ \"an\" is followed by the $successor$ word \"other\", we can form a new word \"another\".\n",
    "\n",
    "Given a dictionary consisting of many $roots$ and a sentence consisting of words separated by spaces, replace all the successors in the sentence with the $root$ forming it. If a $successor$ can be replaced by more than one $root$, replace it with the root that has $the$ $shortest$ $length$.\n",
    "\n",
    "Return the sentence after the replacement.\n",
    "\n",
    "### Input\n",
    "A dictionary $dictionary$ and a string $sentence$\n",
    "\n",
    "### Output\n",
    "A string after the replacement\n",
    "\n",
    "### Note\n",
    "$dictionary[i]$ consists of only lower-case letters.\n",
    "\n",
    "$sentence$ consists of only lower-case letters and spaces.\n",
    "\n",
    "Each two consecutive words in $sentence$ will be separated by exactly one space.\n",
    "\n",
    "$sentence$ does not have leading or trailing spaces.\n",
    "\n",
    "### Sample Input\n",
    "$dictionary$ = \\[\"cat\",\"bat\",\"rat\"\\], $sentence$ = \"the cattle was rattled by the battery\"\n",
    "\n",
    "\n",
    "### Sample Output\n",
    "\"the cat was rat by the bat\"\n"
   ]
  },
  {
   "cell_type": "code",
   "execution_count": 20,
   "metadata": {},
   "outputs": [],
   "source": [
    "# write your code here\n",
    "# Any definitions and calls of other functions are allowed\n",
    "def repalce_words(dictionary, sentence):\n",
    "    pass"
   ]
  },
  {
   "cell_type": "markdown",
   "metadata": {},
   "source": [
    "## 17. Problem 2 (Sen Li)\n",
    "Given two arrays of the same length, interleave them by taking the first element of the first one, the first element of the second one, the second element of the first array and so on for all element of the arrays. Return the new interleaved array.\n",
    "\n",
    "Example\n",
    "```\n",
    "Input: \n",
    "[1,2]\n",
    "[3,4]\n",
    "Output: \n",
    "[1,3,2,4]\n",
    "```"
   ]
  },
  {
   "cell_type": "markdown",
   "metadata": {},
   "source": [
    "## 18. The most popular person (Xiaoyi Bao)\n",
    "\n",
    "### Description\n",
    "There are $n$ students with a classroom, and they are labeled $1, 2, 3 \\dots, n$ separately. \n",
    "\n",
    "In an election, each person $i$ votes for some other person $j$, indicating that he or she thinks $j$ is the most popular person. Find the label of the person $k$, such that person $k$ gets more votes than any other person. Return the label of $k$. If there is a tie, return the person with smallest label.\n",
    "\n",
    "\n",
    "### Input\n",
    "1 < $n$ < 100\n",
    "\n",
    "votes is a list which is composed of tuple (i, j) which means that person\\[i\\] votes for person\\[j\\]\n",
    "\n",
    "\n",
    "### Output\n",
    "the person $k$ with the greatest number of votes. If there is a tie, return the person with smallest label.\n",
    "\n",
    "### Samples\n",
    "#### Example1\n",
    "IN:\n",
    "\n",
    "$n$ = 2\n",
    "\n",
    "$votes$ = \\[(0, 0), (1, 0)\\]\n",
    "\n",
    "OUT: 0\n",
    "\n",
    "\n",
    "#### Example 2\n",
    "IN:\n",
    "\n",
    "$n$ = 2\n",
    "\n",
    "$votes$ = \\[(0, 0), (1, 1)\\]\n",
    "\n",
    "OUT: 0\n",
    "\n",
    "#### Example3\n",
    "IN:\n",
    "\n",
    "$n$ = 3\n",
    "\n",
    "$target$ = \\[(0, 0), (1, 0), (2, 1)\\]\n",
    "\n",
    "OUT: 0\n",
    "\n",
    "\n"
   ]
  },
  {
   "cell_type": "code",
   "execution_count": 1,
   "metadata": {},
   "outputs": [],
   "source": [
    "def most_popular_person(n, votes):\n",
    "    pass"
   ]
  },
  {
   "cell_type": "code",
   "execution_count": 3,
   "metadata": {},
   "outputs": [],
   "source": [
    "assert most_popular_person(2, [(0, 0), (1, 0)]) == 0\n",
    "assert most_popular_person(2, [(0, 0), (1, 1)]) == 0\n",
    "assert most_popular_person(2, [(0, 0), (1, 0), (2, 1)]) == 0\n",
    "print(\"All cases passed\")"
   ]
  },
  {
   "cell_type": "markdown",
   "metadata": {},
   "source": [
    "## 19. Reverse String II （Chuanming Liu)"
   ]
  },
  {
   "cell_type": "markdown",
   "metadata": {},
   "source": [
    "Given a string and an integer $k$, you need to reverse the first $k$ characters for every $2k$ characters counting from the start of the string. If there are less than $k$ characters left, reverse all of them. If there are less than $2k$ but greater than or equal to $k$ characters, then reverse the first $k$ characters and left the other as original.\n",
    "\n",
    "### Example:\n",
    "#### Input: \n",
    "s = \"abcdefg\", k = 2\n",
    "#### Output: \n",
    "\"bacdfeg\"\n",
    "### Restrictions:\n",
    "The string consists of lower English letters only.<br/>\n",
    "Length of the given string and k will in the range \\[1, 10000\\]\n"
   ]
  },
  {
   "cell_type": "markdown",
   "metadata": {},
   "source": [
    "## 20. Fighting! (Kaipeng Zeng)\n",
    "### Description\n",
    "The teacher assistant LYM is jealous of the magic space of teacher assistant ZKP because he only owns a 2-d plane. He send a 2-d armada to attack ZKP's space. There are $N$ ships in the armada and for ship $i$, its position can be represents as $(x_i, y_i)$ using cartesian coordinates. Now ZKP have a cannon on $(0, 0)$ and the trace of a shell is strictly a downward parabola. He want to know the maximum of the number of ships he can destroy in one shoot, but he is too stupid to do this. Can you help him?\n",
    "\n",
    "### Input\n",
    "A list $L$ containing $N$ position of ships\n",
    "### Output\n",
    "The maximum of the number of ships ZKP can destroy in one shoot.\n",
    "\n",
    "### Note\n",
    "There will not be many ships in $L$ because LYM is not rich. However, the number of ships $N\\ge 2$.\n",
    "<br>However, you are not supposed to use algorithms with exponential time complexity. <br> And $\\forall 1\\le i\\le N, x_i > 0, y_i>0$.<br>\n",
    "There are always error in in the storage and calculation of float numbers, so we need to define the condition for destroying a ship.<br>\n",
    "Assume that the parabola you get is $f(x)$, a ships $i$ can be destroyed if and only if $|f(x_i)-y_i|\\le {10}^{-3}$.\n",
    "\n",
    "### Sample Input\n",
    "\\[<br>\n",
    "&emsp; \\[1, 1\\],<br>\n",
    "&emsp; \\[2, 1.3333\\],<br>\n",
    "&emsp; \\[3, 1\\],<br>\n",
    "&emsp; \\[2, 2\\]<br>\n",
    "\\]\n",
    "\n",
    "### Sample Output\n",
    "3"
   ]
  },
  {
   "cell_type": "code",
   "execution_count": null,
   "metadata": {},
   "outputs": [],
   "source": [
    "# write your code here\n",
    "# Any definitions and calls of other functions are allowed\n",
    "def cal_maximum(L):\n",
    "    pass"
   ]
  },
  {
   "cell_type": "markdown",
   "metadata": {},
   "source": [
    "## 21. **Find Digit** (Meichao Luo)\n",
    "  \n",
    "### Description\n",
    "\n",
    "Given an integer 'n' and a target int digit 'd' (a **single** int), return an int 'm' that shows how many 'd' are in 'n'.\n",
    "\n",
    "\n",
    "### Input \n",
    "An int n, an int d\n",
    "\n",
    "### Output\n",
    "An int m\n",
    "\n",
    "### Note\n",
    "1.The digit may not show in 'n'\n",
    "2.Here, the target is a single digit (0-9), what if d//10!=0?"
   ]
  },
  {
   "cell_type": "markdown",
   "metadata": {},
   "source": [
    "### Example\n",
    "#### ex1.\n",
    "Input: \\[12312471,1\\]\n",
    "\n",
    "Output: 3\n"
   ]
  },
  {
   "cell_type": "code",
   "execution_count": 21,
   "metadata": {},
   "outputs": [],
   "source": [
    "def find_digit(n,d):\n",
    "    pass"
   ]
  },
  {
   "cell_type": "code",
   "execution_count": null,
   "metadata": {},
   "outputs": [],
   "source": [
    "testcase=[[16367,6],[12332123,3],[987,1]]\n",
    "for i in testcase:\n",
    "    print(find_digit(i[0],i[-1]))"
   ]
  },
  {
   "cell_type": "markdown",
   "metadata": {},
   "source": [
    "The output should be:\n",
    "<br>2\n",
    "<br>3\n",
    "<br>0"
   ]
  },
  {
   "cell_type": "markdown",
   "metadata": {},
   "source": [
    "## 22. Exercise 3 (Weidong Wang)\n",
    "3. Given two integer $r$ and $c$, which are the numbers of rows and columns for a two-dimensional matrix. Write a function to return a spiral matrix. For example, a $4 \\times 4$ spiral matrix is:\n",
    "\n",
    "   > \\[\\[1 , 2 , 3 , 4\\],\n",
    "   >\n",
    "   >  \\[12, 13, 14, 5\\],\n",
    "   >\n",
    "   >  \\[11, 16, 15, 6\\],\n",
    "   >\n",
    "   >  \\[10, 9 , 8 , 7\\]\\]\n",
    "\n",
    "   ```python\n",
    "   >>> print(spiral(3, 2))\n",
    "   [[1, 2], [6, 3], [5, 4]]\n",
    "   >>> print(spiral(4, 3))\n",
    "   [[1, 2, 3], [10, 11, 4], [9, 12, 5], [8, 7, 6]]\n",
    "   ```"
   ]
  },
  {
   "cell_type": "markdown",
   "metadata": {},
   "source": [
    "## 23. Count All Elements (Yifei Zhang)\n",
    "Given an array, count all elements in it.\n",
    "### Input \n",
    "An array nums, and an integer $n$\n",
    "### Output\n",
    "An integer(\\# of n appears in nums)\n",
    "### Example\n",
    "Input: nums=\\[1,2,3,1,3,4\\] $n$=1<br/>\n",
    "Output: 2"
   ]
  },
  {
   "cell_type": "code",
   "execution_count": null,
   "metadata": {},
   "outputs": [],
   "source": [
    "# write your code here\n",
    "# Any definitions and calls to other functions are allowed\n",
    "def countNum(nums,n):\n",
    "    pass"
   ]
  },
  {
   "cell_type": "markdown",
   "metadata": {},
   "source": [
    "## 24. Compound Words (Yanming Liu)\n",
    "### Description\n",
    "Given a dictionary $D$, find all the compound words in $D$.<br/>\n",
    "A word is called compound word if and only if it is the concatenation of two words (not necessary to be different) in $D$.\n",
    "### Input\n",
    "The dictionary $D$ is given in the form of python set.\n",
    "### Output\n",
    "A set of the compound words in $D$.\n",
    "### Note\n",
    "The total length of words in $D$ is no more than $3000$.<br/>\n",
    "No time complexity requirements."
   ]
  },
  {
   "cell_type": "markdown",
   "metadata": {},
   "source": [
    "### Example 1\n",
    "#### Input\n",
    "D = \\{'with','in','out','side','inside','within','without','black','borad','blackborad'\\}\n",
    "#### Output\n",
    "\\{'within', 'blackborad', 'without', 'inside'\\}\n",
    "### Example 2\n",
    "#### Input\n",
    "D = \\{'abc','abcd','cd','ab','abab','cdab'\\}\n",
    "#### Output\n",
    "\\{'cdab','abcd','abab'\\}"
   ]
  },
  {
   "cell_type": "code",
   "execution_count": 22,
   "metadata": {},
   "outputs": [],
   "source": [
    "# write your code here\n",
    "def Find_compound_words(D):\n",
    "    pass"
   ]
  },
  {
   "cell_type": "code",
   "execution_count": 24,
   "metadata": {},
   "outputs": [],
   "source": [
    "D = [\n",
    "    {'dwjp', 'twwhqk', 'cbjiqhxgatwwhqk', 'mjaoplk', 'ghyugzvt', 'yeemcejugi', 'cbjiqhxga', 'mjaoplkghyugzvt', 'cjkfsbyyrh', 'dftpiwoxfq'},\n",
    "    {'sfjdlbyxhgufl', 'fbk', 'kdxefzwtqf', 'lbbheeju', 'yxhgufl', 'smuqx', 'sfjdlb', 'nyekdxefzwtqf', 'rkr', 'nye'},\n",
    "    {'ybae', 'vllqwfosgbuxgnqcw', 'vllqwfo', 'qdmml', 'zoyinny', 'iknp', 'idnid', 'hvlrue', 'rsek', 'sgbuxgnqcw', 'hklvjwg', 'mqmpkm', 'mvpgzkozlc', 'bwlpa', 'dhfilfk', 'zqrcgpdp', 'aan', 'aoqtx', 'ybaeidnid', 'wqbvuu'},\n",
    "    {'kmhrpivpesoeetymbtfp', 'okpbkquulk', 'dchffuzot', 'cfphqxrtgjgzwf', 'qedhkocjzlpc', 'kmhrpivpes', 'vxlxrctexh', 'qxrtgjgzwfcygtknggb', 'daqjgd', 'vxlxrctexhaumxii', 'fhodddmlz', 'vdfskgecjzlpc', 'cygtknggbkycbvzrejh', 'kycbvzrejhaumxii', 'savzzv', 'dadokpbkquulk', 'aumxiirijcy', 'qzxvxlxrctexh', 'ydyot', 'oeetymbtfp', 'bjazozrijcy', 'aumxiikycbvzrejh', 'ydyotqedhko', 'irqegbzmtj', 'aumxii', 'qzxydyot', 'cfph', 'qedhko', 'oeetymbtfpxcqil', 'vdfskge', 'rijcy', 'xjrukmkijp', 'qxrtgjgzwf', 'qecueapeh', 'qedhkoxcqil', 'irqegbzmtjoeetymbtfp', 'oeetymbtfpqzx', 'dchffuzotqecueapeh', 'rijcyirqegbzmtj', 'cygtknggb', 'bjazoz', 'xcqil', 'qzx', 'dad', 'kycbvzrejh', 'qedhkodad', 'ebydfub', 'okpbkquulkcfph', 'cjzlpc', 'rijcykmhrpivpes'},\n",
    "    {'wmb', 'trnz', 'pznihmwpzrysmh', 'fcctzxwqd', 'lurktehij', 'fpxuyc', 'rwehhrmeefkhfcxd', 'vkhtpliwhv', 'xiknfvys', 'wjnxtdf', 'loqlcglzfpwpzrysmh', 'yuypulwjnxtdf', 'hugjgjulmxdof', 'llfurnoq', 'lkbivdmm', 'hij', 'wpzrysmh', 'rvcrad', 'ghu', 'mgchgpy', 'rwehhr', 'rvcradtrnz', 'zqql', 'tnvdhczqql', 'meefkhfcxd', 'qrju', 'yuypul', 'qrjutrnz', 'hugjgju', 'loqlcglzfp', 'mgchgpycdbvn', 'pznihm', 'lhzcbpnjb', 'hijhugjgju', 'nznoqs', 'lmxdof', 'qdvgraasinznoqs', 'mgchgpypznihm', 'qskczivrbc', 'qrjuwpzrysmh', 'ajdaxioy', 'vzk', 'misc', 'qdvgraasi', 'pyspvc', 'cdbvn', 'tnvdhc', 'misczqql', 'rwehhrfcctzxwqd', 'lurkte'},\n",
    "    {'luarweqxiswcaincqd', 'qrmuaabizujysmex', 'usdxpp', 'huhzegq', 'emtqxivrc', 'ckfejiluarweqxi', 'audcigvnmaini', 'swnnwslwooonvsfeqz', 'zujysmex', 'rnyhcgjnmphobqxxwuy', 'emtqxivrcfmlhducne', 'cbqekuyefbalfllhwm', 'ckfejifabjndnyf', 'mdbttlun', 'qjncudkbsfabjndnyf', 'luarweqxi', 'rnyhcgjnmghdpnf', 'audcigvnmvyzcspvk', 'szcmmdbttlun', 'aez', 'bhuayhsadiuszuxwisk', 'emtqxivrcluarweqxi', 'swnnwslwooghjbs', 'oghjbs', 'maalwkmvrrecjq', 'qmvqbplibwoghjbs', 'dwwphhdhaez', 'uszuxwisk', 'kmvrrecjqbhuayhsadi', 'usd', 'qjncudkbs', 'hygfmdbttlun', 'fmlhducnephobqxxwuy', 'ehn', 'zujysmexckfeji', 'elooonvsfeqz', 'szcm', 'oonvsfeqz', 'fabjndnyfqmvqbplibw', 'vuafegpne', 'qrmuaabidwwphhdh', 'big', 'kmvrrecjq', 'kmvrrecjqqjncudkbs', 'hob', 'ajlv', 'clmsjzhdswnnwslwo', 'cbqekuyercao', 'ajlvehn', 'swnnwslwo', 'vyzcspvk', 'ajlvzjvjyvdka', 'elo', 'bhuayhsadiszcm', 'rnyhcgjnm', 'swcaincqd', 'xpp', 'ehndwwphhdh', 'bhuayhsadielo', 'fbalfllhwm', 'fabjndnyfqrmuaabi', 'qog', 'audcigvnm', 'bigswnnwslwo', 'bhuayhsadi', 'fmlhducne', 'rnyhcgjnmszcm', 'qmvqbplibw', 'fbalfllhwmmaalw', 'ctjddbv', 'luarweqxiajlv', 'qrmuaabi', 'phobqxxwuy', 'uszuxwiskqog', 'ajlvajlv', 'kmvrrecjquszuxwisk', 'cbqekuye', 'rcao', 'maalw', 'hygf', 'vyzcspvkehn', 'ckfejircao', 'cbqekuyeclmsjzhd', 'zjnuwsjis', 'qogqog', 'fmlhducneqjncudkbs', 'ckfejixpp', 'dwwphhdh', 'fbalfllhwmaini', 'zjvjyvdka', 'ghdpnf', 'mdbttlunemtqxivrc', 'ckfeji', 'xppzjvjyvdka', 'fabjndnyfhob', 'huhzegqajlv', 'aini', 'clmsjzhd', 'swcaincqdhob', 'fabjndnyf'}    \n",
    "]\n",
    "Ans = [{'cbjiqhxgatwwhqk', 'mjaoplkghyugzvt'}, {'sfjdlbyxhgufl', 'nyekdxefzwtqf'}, {'ybaeidnid', 'vllqwfosgbuxgnqcw'}, {'kmhrpivpesoeetymbtfp', 'cfphqxrtgjgzwf', 'qedhkocjzlpc', 'qxrtgjgzwfcygtknggb', 'vxlxrctexhaumxii', 'vdfskgecjzlpc', 'kycbvzrejhaumxii', 'dadokpbkquulk', 'aumxiirijcy', 'qzxvxlxrctexh', 'bjazozrijcy', 'aumxiikycbvzrejh', 'ydyotqedhko', 'qzxydyot', 'oeetymbtfpxcqil', 'qedhkoxcqil', 'irqegbzmtjoeetymbtfp', 'oeetymbtfpqzx', 'dchffuzotqecueapeh', 'rijcyirqegbzmtj', 'qedhkodad', 'okpbkquulkcfph', 'cygtknggbkycbvzrejh', 'rijcykmhrpivpes'}, {'mgchgpypznihm', 'qdvgraasinznoqs', 'hugjgjulmxdof', 'tnvdhczqql', 'pznihmwpzrysmh', 'qrjuwpzrysmh', 'lurktehij', 'qrjutrnz', 'rwehhrmeefkhfcxd', 'mgchgpycdbvn', 'misczqql', 'rwehhrfcctzxwqd', 'hijhugjgju', 'loqlcglzfpwpzrysmh', 'yuypulwjnxtdf', 'rvcradtrnz'}, {'maalwkmvrrecjq', 'ajlvzjvjyvdka', 'qmvqbplibwoghjbs', 'uszuxwiskqog', 'dwwphhdhaez', 'ajlvajlv', 'bhuayhsadiszcm', 'luarweqxiswcaincqd', 'kmvrrecjqbhuayhsadi', 'kmvrrecjquszuxwisk', 'hygfmdbttlun', 'qrmuaabizujysmex', 'fmlhducnephobqxxwuy', 'vyzcspvkehn', 'usdxpp', 'ckfejircao', 'cbqekuyeclmsjzhd', 'ckfejiluarweqxi', 'audcigvnmaini', 'zujysmexckfeji', 'qogqog', 'swnnwslwooonvsfeqz', 'elooonvsfeqz', 'fmlhducneqjncudkbs', 'rnyhcgjnmphobqxxwuy', 'ckfejixpp', 'ehndwwphhdh', 'emtqxivrcfmlhducne', 'cbqekuyefbalfllhwm', 'ckfejifabjndnyf', 'fbalfllhwmaini', 'bhuayhsadielo', 'qjncudkbsfabjndnyf', 'fabjndnyfqmvqbplibw', 'rnyhcgjnmghdpnf', 'fabjndnyfqrmuaabi', 'audcigvnmvyzcspvk', 'szcmmdbttlun', 'mdbttlunemtqxivrc', 'bigswnnwslwo', 'xppzjvjyvdka', 'qrmuaabidwwphhdh', 'fabjndnyfhob', 'kmvrrecjqqjncudkbs', 'rnyhcgjnmszcm', 'huhzegqajlv', 'clmsjzhdswnnwslwo', 'cbqekuyercao', 'ajlvehn', 'bhuayhsadiuszuxwisk', 'emtqxivrcluarweqxi', 'fbalfllhwmmaalw', 'luarweqxiajlv', 'swnnwslwooghjbs', 'swcaincqdhob'}]\n",
    "for i in range(len(D)):\n",
    "    print(Find_compound_words(D[i]) == Ans[i])"
   ]
  },
  {
   "cell_type": "markdown",
   "metadata": {},
   "source": [
    "## 25. Making File Names Unique (Luhua Jin)\n",
    "### Description\n",
    "Given a list of strings $names$ of size $n$. You will create $n$ folders in your file system such that, at the $ith$ minute, you will create a folder with the name $names[i]$.\n",
    "\n",
    "Since two files cannot have the same name, if you enter a folder name which is previously used, the system will have a suffix addition to its name in the form of $(k)$, where, $k$ is the smallest positive integer such that the obtained name remains unique.\n",
    "\n",
    "Return a list of strings of length $n$ where $ans[i]$ is the actual name the system will assign to the $ith$ folder when you create it.\n",
    "\n",
    "### Input\n",
    "A list of strings $names$\n",
    "\n",
    "### Output\n",
    "A list of strings\n",
    "\n",
    "### Note\n",
    "$names[i]$ consists of lower case English letters, digits and/or round brackets.\n",
    "\n",
    "### Sample Input1\n",
    "$names$ = \\[\"saber\",\"saber(1)\",\"saber\",\"avalon\"\\]\n",
    "\n",
    "### Sample Output1\n",
    "\\[\"saber\",\"saber(1)\",\"saber(2)\",\"avalon\"\\]\n",
    "\n",
    "### Sample Input2\n",
    "$names$ =  \\[\"nero\",\"nero(1)\",\"nero\",\"nero(1)\"\\]\n",
    "\n",
    "### Sample Output2\n",
    "\\[\"nero\",\"nero(1)\",\"nero(2)\",\"nero(1)(1)\"\\]"
   ]
  },
  {
   "cell_type": "code",
   "execution_count": 25,
   "metadata": {},
   "outputs": [],
   "source": [
    "# write your code here\n",
    "# Any definitions and calls of other functions are allowed\n",
    "def getFolderNames(names):\n",
    "    pass"
   ]
  },
  {
   "cell_type": "markdown",
   "metadata": {},
   "source": [
    "## 26. Problem 3 (Sen Li)\n",
    "Given a string str and a dictionary dict, you need to find out which words in the dictionary are subsequences of the string and return those words.The order of the words returned should be the same as the order in the dictionary.\n",
    "\n",
    "Example 1:\n",
    "```\n",
    "Input:\n",
    "str=\"bcogtadsjofisdhklasdj\"\n",
    "dict=[\"book\",\"code\",\"tag\"]\n",
    "Output:\n",
    "[\"book\"]\n",
    "Explanation:Only book is a subsequence of str\n",
    "```\n",
    "Example 2:\n",
    "```\n",
    "Input:\n",
    "str=\"nmownhiterer\"\n",
    "dict=[\"nowhere\",\"monitor\",\"moniter\"]\n",
    "Output:\n",
    "[\"nowhere\",\"moniter\"]\n",
    "```"
   ]
  },
  {
   "cell_type": "code",
   "execution_count": null,
   "metadata": {},
   "outputs": [],
   "source": [
    "def findWords(str, dict):\n",
    "    # Write your code here."
   ]
  },
  {
   "cell_type": "code",
   "execution_count": null,
   "metadata": {},
   "outputs": [],
   "source": [
    "print(findWords(\"bcogtadsjofisdhklasdj\",[\"book\",\"code\",\"tag\"]))"
   ]
  },
  {
   "cell_type": "markdown",
   "metadata": {},
   "source": [
    "## 27. Label examples (Xiaoyi Bao)\n",
    "\n",
    "### Description\n",
    "\n",
    "Please implement two functions \n",
    "\n",
    "- *submit(user_id, example, label)* , It means that $user_id$ marks $example$ as $label$. label is always True or False. The function will be called more than once\n",
    "\n",
    "- *query(user_id)*, returns a stucture of (num_consistent, num_inconsistent, num_total. The function will be called only once.\n",
    "\n",
    "In the test, an example is labeled exactly once or twice. If it is labeled twice and the two labels are the same, then it is considered an consistent example for both users who have given labels to it. Similarly, If it is labeled twice and the two labels are not the same, then it is considered an inconsistent example for both users who have given labels to it.\n",
    "\n",
    "num_total is the total number of examples that a user have labeled, regardless of whether the example has been labeled once or twice\n",
    "\n",
    "\n",
    "### Input\n",
    "multiple times of *submit(user_id, example, label)* and *query(user_id)*\n",
    "\n",
    "\n",
    "\n",
    "### Output\n",
    "a list of all the results that *query* returns each time\n",
    "\n"
   ]
  },
  {
   "cell_type": "markdown",
   "metadata": {},
   "source": [
    "## 28. Maximum Product of Three Numbers (Chuanming Liu)"
   ]
  },
  {
   "cell_type": "markdown",
   "metadata": {},
   "source": [
    "Given an integer array, find three numbers whose product is maximum and output the maximum product.\n",
    "\n",
    "### Example 1:\n",
    "\n",
    "#### Input: \n",
    "\\[1,2,3\\]\n",
    "#### Output: \n",
    "6\n",
    " \n",
    "\n",
    "### Example 2:\n",
    "\n",
    "#### Input: \n",
    "\\[1,2,3,4\\]\n",
    "#### Output: \n",
    "24\n",
    " \n",
    "\n",
    "### Note:\n",
    "\n",
    "The length of the given array will be in range \\[3,104\\] and all elements are in the range \\[-1000, 1000\\].\n",
    "Multiplication of any three numbers in the input won't exceed the range of 32-bit signed integer."
   ]
  },
  {
   "cell_type": "markdown",
   "metadata": {},
   "source": [
    "## 29. Two Numbers (Kaipeng Zeng)\n",
    "### Description\n",
    "With the help of you, TA ZKP successfully defeated TA LYM. However, TA LYM felt a reluctant admiration for TA ZKP, so he left a problem for him. LYM gave ZKP a sorted list $L$ containing $N$ numbers and a number $C$. He asked ZKP to make a statistics of the pairs of numbers $(i, j)$ where $L[i] + L[j] = C$. ZKP is very stupid so he can't solve such a problem. Again, he decides to turn to you for help.\n",
    "### Input\n",
    "A sorted list $L$ containing $N$ numbers and a number $C$.\n",
    "### Output\n",
    "The numbers of pairs that satisfy the constraint given in the description.\n",
    "### Sample Input\n",
    "\\[1, 2, 3, 4, 5, 7, 10\\]<br>\n",
    "11\n",
    "### Sample Output\n",
    "2\n",
    "\n",
    "### Hint\n",
    "You can use $dict$ to solve this problem. However, any assitant data structure is not necessary for solving this problem. You can try to challenge yourself."
   ]
  },
  {
   "cell_type": "code",
   "execution_count": 26,
   "metadata": {},
   "outputs": [],
   "source": [
    "# write your code here\n",
    "# Any definitions and calls of other functions are allowed\n",
    "def two_numbers(L, C):\n",
    "    pass"
   ]
  },
  {
   "cell_type": "markdown",
   "metadata": {},
   "source": [
    "## 30. **Mono Stack** (Meichao Luo)\n",
    "  \n",
    "### Description\n",
    "\n",
    "Given an input List 'n', return a List 'm' fits the following requirement. The input List can be seen as a sequence entering a new List, if the entering element in 'n' is smaller that the first element of the new List, then the element just enter, if not, the first element of the new List gets out and compare the entering element with the next element in the new List and do the same until the requirement fits and the element enters the new List. Repeat above steps until all the element in 'n' are considered. The first element in 'n' first enters the new List and the others enters in order.\n",
    "\n",
    "\n",
    "### Input \n",
    "A List 'n'\n",
    "\n",
    "### Output\n",
    "A List 'm'\n",
    "\n",
    "### Note\n",
    "1. $Len(m) \\leq Len(n)$ as the popped element will be gone\n",
    "2. $Len(m)\\geq 1$\n",
    "3. The entering element enters at the begin of the New List"
   ]
  },
  {
   "cell_type": "markdown",
   "metadata": {},
   "source": [
    "### Example\n",
    "#### ex1.\n",
    "Input: \\[1,2,12,3,7,6\\]\n",
    "\n",
    "Output: \\[6,7,12\\]\n",
    "\n",
    "<br>1\n",
    "<br>2 1 -> 2\n",
    "<br>12 2 -> 12\n",
    "<br>3 12 \n",
    "<br>7 3 12 -> 7 12\n",
    "<br>6 7 12"
   ]
  },
  {
   "cell_type": "code",
   "execution_count": 27,
   "metadata": {},
   "outputs": [],
   "source": [
    "def mono_stack(n):\n",
    "    pass"
   ]
  },
  {
   "cell_type": "code",
   "execution_count": 28,
   "metadata": {},
   "outputs": [
    {
     "name": "stdout",
     "output_type": "stream",
     "text": [
      "None\n",
      "None\n",
      "None\n"
     ]
    }
   ],
   "source": [
    "testcase=[[1,2,3,4,5],[1,3,5,2,4],[4,2,6,9,8]]\n",
    "for i in testcase:\n",
    "    print(mono_stack(i))"
   ]
  },
  {
   "cell_type": "markdown",
   "metadata": {},
   "source": [
    "The output should be:\n",
    "<br>\\[5\\]\n",
    "<br>\\[4, 5\\]\n",
    "<br>\\[8, 9\\]"
   ]
  },
  {
   "cell_type": "markdown",
   "metadata": {},
   "source": [
    "## 31. Exercise 4 (Weidong Wang)\n",
    "4. Given two string $s1$ and $s2$, and all the characters of both strings can be found in ASCII table. You should find all the characters occured in one string but not occured in the other string. Return a string of them and the characters must be sorted.\n",
    "\n",
    "   ```python\n",
    "   >>> print(find_char(\"aabbcccdddeee\", \"dcba\"))\n",
    "   \"abccddeee\"\n",
    "   >>> print(find_char(\"abcdef\", \"abbcddefg\"))\n",
    "   \"bdg\"\n",
    "   >>> print(find_char(\"*TYyGYK\", \")&*OYY\"))\n",
    "   \"&)GKOTy\"\n",
    "   ```"
   ]
  },
  {
   "cell_type": "markdown",
   "metadata": {},
   "source": [
    "## 32. Degree of a node （Yifei Zhang)\n",
    "Given a graph with n node and a node in it, calculate the degree of this node.\n",
    "### Input\n",
    "graph, an array of pairs graph\\[i\\] = \\[a, b\\] representing the edge in graph.\n",
    "node, an integer $1 \\leq j \\leq n$\n",
    "### Output\n",
    "An integer\n",
    "### Example\n",
    "Input: graph=\\[\\[1,2\\],\\[2,3\\],\\[2,4\\],\\[3,4\\]\\] node=2\n",
    "\n",
    "Output: 3"
   ]
  },
  {
   "cell_type": "code",
   "execution_count": 29,
   "metadata": {},
   "outputs": [],
   "source": [
    "# write your code here\n",
    "# Any definitions and calls to other functions are allowed\n",
    "def degreeOfNode(graph,node):\n",
    "    pass"
   ]
  },
  {
   "cell_type": "markdown",
   "metadata": {},
   "source": [
    "## 33. 237-Number (Yanming Liu)\n",
    "### Description\n",
    "Define a set $A=\\{2^i3^j7^k|i,j,k\\in\\mathbb{N}\\}$. Given a positive integer $k$, find the smallest $k$ elements in $A$.\n",
    "### Input\n",
    "A positive integer $k$.\n",
    "### Output\n",
    "An **ascending** list of the smallest $k$ elements.\n",
    "### Note\n",
    "No time complexity requirements.<br/>\n",
    "$1\\leq k\\leq 500$"
   ]
  },
  {
   "cell_type": "markdown",
   "metadata": {},
   "source": [
    "### Example 1\n",
    "#### Input\n",
    "k = 10\n",
    "### Output\n",
    "\\[1, 2, 3, 4, 6, 7, 8, 9, 12, 14\\]\n",
    "### Example 2\n",
    "#### Input\n",
    "k = 15\n",
    "#### Output\n",
    "\\[1, 2, 3, 4, 6, 7, 8, 9, 12, 14, 16, 18, 21, 24, 27\\]"
   ]
  },
  {
   "cell_type": "code",
   "execution_count": 38,
   "metadata": {},
   "outputs": [],
   "source": [
    "# write your code here\n",
    "def First_k_elements(k):\n",
    "    pass"
   ]
  },
  {
   "cell_type": "code",
   "execution_count": 32,
   "metadata": {},
   "outputs": [],
   "source": [
    "import random\n",
    "Two_three_seven_numbers_500 = [1, 2, 3, 4, 6, 7, 8, 9, 12, 14, 16, 18, 21, 24, 27, 28, 32, 36, 42, 48, 49, 54, 56, 63, 64, 72, 81, 84, 96, 98, 108, 112, 126, 128, 144, 147, 162, 168, 189, 192, 196, 216, 224, 243, 252, 256, 288, 294, 324, 336, 343, 378, 384, 392, 432, 441, 448, 486, 504, 512, 567, 576, 588, 648, 672, 686, 729, 756, 768, 784, 864, 882, 896, 972, 1008, 1024, 1029, 1134, 1152, 1176, 1296, 1323, 1344, 1372, 1458, 1512, 1536, 1568, 1701, 1728, 1764, 1792, 1944, 2016, 2048, 2058, 2187, 2268, 2304, 2352, 2401, 2592, 2646, 2688, 2744, 2916, 3024, 3072, 3087, 3136, 3402, 3456, 3528, 3584, 3888, 3969, 4032, 4096, 4116, 4374, 4536, 4608, 4704, 4802, 5103, 5184, 5292, 5376, 5488, 5832, 6048, 6144, 6174, 6272, 6561, 6804, 6912, 7056, 7168, 7203, 7776, 7938, 8064, 8192, 8232, 8748, 9072, 9216, 9261, 9408, 9604, 10206, 10368, 10584, 10752, 10976, 11664, 11907, 12096, 12288, 12348, 12544, 13122, 13608, 13824, 14112, 14336, 14406, 15309, 15552, 15876, 16128, 16384, 16464, 16807, 17496, 18144, 18432, 18522, 18816, 19208, 19683, 20412, 20736, 21168, 21504, 21609, 21952, 23328, 23814, 24192, 24576, 24696, 25088, 26244, 27216, 27648, 27783, 28224, 28672, 28812, 30618, 31104, 31752, 32256, 32768, 32928, 33614, 34992, 35721, 36288, 36864, 37044, 37632, 38416, 39366, 40824, 41472, 42336, 43008, 43218, 43904, 45927, 46656, 47628, 48384, 49152, 49392, 50176, 50421, 52488, 54432, 55296, 55566, 56448, 57344, 57624, 59049, 61236, 62208, 63504, 64512, 64827, 65536, 65856, 67228, 69984, 71442, 72576, 73728, 74088, 75264, 76832, 78732, 81648, 82944, 83349, 84672, 86016, 86436, 87808, 91854, 93312, 95256, 96768, 98304, 98784, 100352, 100842, 104976, 107163, 108864, 110592, 111132, 112896, 114688, 115248, 117649, 118098, 122472, 124416, 127008, 129024, 129654, 131072, 131712, 134456, 137781, 139968, 142884, 145152, 147456, 148176, 150528, 151263, 153664, 157464, 163296, 165888, 166698, 169344, 172032, 172872, 175616, 177147, 183708, 186624, 190512, 193536, 194481, 196608, 197568, 200704, 201684, 209952, 214326, 217728, 221184, 222264, 225792, 229376, 230496, 235298, 236196, 244944, 248832, 250047, 254016, 258048, 259308, 262144, 263424, 268912, 275562, 279936, 285768, 290304, 294912, 296352, 301056, 302526, 307328, 314928, 321489, 326592, 331776, 333396, 338688, 344064, 345744, 351232, 352947, 354294, 367416, 373248, 381024, 387072, 388962, 393216, 395136, 401408, 403368, 413343, 419904, 428652, 435456, 442368, 444528, 451584, 453789, 458752, 460992, 470596, 472392, 489888, 497664, 500094, 508032, 516096, 518616, 524288, 526848, 531441, 537824, 551124, 559872, 571536, 580608, 583443, 589824, 592704, 602112, 605052, 614656, 629856, 642978, 653184, 663552, 666792, 677376, 688128, 691488, 702464, 705894, 708588, 734832, 746496, 750141, 762048, 774144, 777924, 786432, 790272, 802816, 806736, 823543, 826686, 839808, 857304, 870912, 884736, 889056, 903168, 907578, 917504, 921984, 941192, 944784, 964467, 979776, 995328, 1000188, 1016064, 1032192, 1037232, 1048576, 1053696, 1058841, 1062882, 1075648, 1102248, 1119744, 1143072, 1161216, 1166886, 1179648, 1185408, 1204224, 1210104, 1229312, 1240029, 1259712, 1285956, 1306368, 1327104, 1333584, 1354752, 1361367, 1376256, 1382976, 1404928, 1411788, 1417176, 1469664, 1492992, 1500282, 1524096, 1548288, 1555848, 1572864, 1580544, 1594323, 1605632, 1613472, 1647086, 1653372, 1679616, 1714608, 1741824, 1750329, 1769472, 1778112, 1806336, 1815156, 1835008, 1843968, 1882384, 1889568, 1928934, 1959552, 1990656, 2000376, 2032128, 2064384, 2074464, 2097152, 2107392, 2117682, 2125764, 2151296]\n",
    "for i in range(10):\n",
    "    k = random.randint(300, 500)\n",
    "    print(First_k_elements(k) == Two_three_seven_numbers_500[:k])"
   ]
  },
  {
   "cell_type": "markdown",
   "metadata": {},
   "source": [
    "## 34. Print Words Vertically (Luhua Jin)\n",
    "### Description\n",
    "Given a string $s$. Return all the words vertically in the same order in which they appear in $s$.\n",
    "Words are returned as a list of strings, complete with spaces when is necessary. (Trailing spaces are not allowed).\n",
    "Each word would be put on only one column and that in one column there will be only one word.\n",
    "\n",
    "### Input\n",
    "A string $s$ \n",
    "\n",
    "### Output\n",
    "A list of strings\n",
    "\n",
    "### Note\n",
    "$s$ contains only upper case English letters.\n",
    "\n",
    "It's guaranteed that there is only one space between 2 words.\n",
    "\n",
    "### Sample Input1\n",
    "s = \"HOW ARE YOU\"\n",
    "\n",
    "### Sample Output1\n",
    "\\[\"HAY\",\"ORO\",\"WEU\"\\]\n",
    "\n",
    " \"HAY\"\n",
    " \n",
    " \"ORO\"\n",
    " \n",
    " \"WEU\"\n",
    " \n",
    " \n",
    " ### Sample Input2\n",
    "s = \"TO BE OR NOT TO BE\"\n",
    "\n",
    "### Sample Output2\n",
    "\\[\"TBONTB\",\"OEROOE\",\"　　T\"\\]\n",
    "\n",
    "\"TBONTB\"\n",
    "\n",
    "\"OEROOE\"\n",
    "\n",
    "\"　　T\""
   ]
  },
  {
   "cell_type": "code",
   "execution_count": 33,
   "metadata": {},
   "outputs": [],
   "source": [
    "# write your code here\n",
    "# Any definitions and calls of other functions are allowed\n",
    "def printVertically(s):\n",
    "    pass"
   ]
  },
  {
   "cell_type": "markdown",
   "metadata": {},
   "source": [
    "## 35. Problem 4 (Sen Li)\n",
    "Implement an algorithm to determine whether a string has no repeated characters.\n",
    "\n",
    "Example:\n",
    "```\n",
    "Input: \"abc_____\"\n",
    "Output: false\n",
    "```"
   ]
  },
  {
   "cell_type": "code",
   "execution_count": 37,
   "metadata": {},
   "outputs": [],
   "source": [
    "def isUnique(str):\n",
    "    # write your code here"
   ]
  },
  {
   "cell_type": "code",
   "execution_count": 35,
   "metadata": {},
   "outputs": [],
   "source": [
    "print(isUnique(\"abc\"))"
   ]
  },
  {
   "cell_type": "markdown",
   "metadata": {},
   "source": [
    "## 36. Remove element from a given list (Xiaoyi Bao)\n",
    "\n",
    "### Description\n",
    "Given an array of integer numbers $nums1$ and a target number $num$, remove all the occurance of $target$ in $nums1$, and return $nums1$ after removing $target$. If $target$ does not occur in $nums1$, we do nothing to $nums1$\n",
    "\n",
    "\n",
    "### Input\n",
    "$nums1$ is an array of integer\n",
    "$1 <$ len($nums1$) $< 1000$\n",
    "\n",
    "\n",
    "### Output\n",
    "the new list after removing $target$\n",
    "\n",
    "### SAMPLES\n",
    "#### Example1\n",
    "IN:\n",
    "\n",
    "$nums1$ = \\[1\\]\n",
    "\n",
    "$target$ = 1\n",
    "\n",
    "OUT: []\n",
    "\n",
    "\n",
    "#### Example 2\n",
    "IN:\n",
    "\n",
    "$nums1$ = \\[1, 2, 1\\]\n",
    "\n",
    "$target$ = 1\n",
    "\n",
    "OUT: \\[2\\]\n",
    "\n",
    "#### Example3\n",
    "IN:\n",
    "\n",
    "$nums1$ = \\[1, 2, 1\\]\n",
    "\n",
    "$target$ = 3\n",
    "\n",
    "OUT: \\[1, 2, 1\\]\n",
    "\n",
    "\n",
    "\n",
    "    "
   ]
  }
 ],
 "metadata": {
  "kernelspec": {
   "display_name": "Python 3 (ipykernel)",
   "language": "python",
   "name": "python3"
  },
  "language_info": {
   "codemirror_mode": {
    "name": "ipython",
    "version": 3
   },
   "file_extension": ".py",
   "mimetype": "text/x-python",
   "name": "python",
   "nbconvert_exporter": "python",
   "pygments_lexer": "ipython3",
   "version": "3.10.7"
  }
 },
 "nbformat": 4,
 "nbformat_minor": 4
}
