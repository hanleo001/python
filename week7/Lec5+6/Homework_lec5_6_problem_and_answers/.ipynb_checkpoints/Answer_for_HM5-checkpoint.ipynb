{
 "cells": [
  {
   "cell_type": "markdown",
   "metadata": {},
   "source": [
    "## 1. Array Partition I (Chuanming Liu)"
   ]
  },
  {
   "cell_type": "code",
   "execution_count": 5,
   "metadata": {},
   "outputs": [],
   "source": [
    "class Solution:\n",
    "    def arrayPairSum(self, nums: List[int]) -> int:\n",
    "        nums.sort()\n",
    "        return sum(nums[::2])"
   ]
  },
  {
   "cell_type": "markdown",
   "metadata": {},
   "source": [
    "## 2. K-distance-subset （Kaipeng Zeng)"
   ]
  },
  {
   "cell_type": "code",
   "execution_count": null,
   "metadata": {},
   "outputs": [],
   "source": [
    "def dist(x, y):\n",
    "    xd = x[0] - y[0]\n",
    "    yd = x[1] - y[1]\n",
    "    return (xd * xd + yd * yd) ** 0.5\n",
    "def f(i, N, ans, subsets, L, K):\n",
    "    if i == N:\n",
    "        if len(ans) >= 2:\n",
    "            subsets.append(set(ans))\n",
    "        return\n",
    "    f(i + 1, N, ans, subsets, L, K)\n",
    "    flag = True\n",
    "    for x in ans:\n",
    "        if dist(L[i], x) < K:\n",
    "            flag = False\n",
    "            break\n",
    "    if flag:\n",
    "        f(i + 1, N, ans + [L[i]], subsets, L, K)\n",
    "def get_k_subset(L, K):\n",
    "    subset = []\n",
    "    f(0, len(L), [], subset, L, K)\n",
    "    return subset"
   ]
  },
  {
   "cell_type": "markdown",
   "metadata": {},
   "source": [
    "## 3. **Find Key** （Meichao Luo)"
   ]
  },
  {
   "cell_type": "code",
   "execution_count": 3,
   "metadata": {},
   "outputs": [],
   "source": [
    "def find_key(n:dict, target):\n",
    "    ans = []\n",
    "    for i in n.keys():\n",
    "        if n[i] == target:\n",
    "            ans.append(i)\n",
    "    return ans"
   ]
  },
  {
   "cell_type": "markdown",
   "metadata": {},
   "source": [
    "## 5. Construct a Matrix (Yifei Zhang)"
   ]
  },
  {
   "cell_type": "code",
   "execution_count": 5,
   "metadata": {},
   "outputs": [
    {
     "data": {
      "text/plain": [
       "[[1, 0, 0, 0, 0],\n",
       " [0, 2, 0, 0, 0],\n",
       " [0, 0, 3, 0, 0],\n",
       " [0, 0, 0, 4, 0],\n",
       " [0, 0, 0, 0, 5]]"
      ]
     },
     "execution_count": 5,
     "metadata": {},
     "output_type": "execute_result"
    }
   ],
   "source": [
    "def constructMatrix():\n",
    "    return [[1,0,0,0,0],[0,2,0,0,0],[0,0,3,0,0],[0,0,0,4,0],[0,0,0,0,5]]\n",
    "constructMatrix()"
   ]
  },
  {
   "cell_type": "markdown",
   "metadata": {},
   "source": [
    "## 6. Remove Zeros (Yanming Liu)"
   ]
  },
  {
   "cell_type": "code",
   "execution_count": 4,
   "metadata": {},
   "outputs": [],
   "source": [
    "def Remove_prefixed_and_suffixed_zeros_std(L):\n",
    "    l = 0\n",
    "    r = len(L)-1\n",
    "    while l < len(L) and L[l] == 0:\n",
    "        l += 1\n",
    "    while r >= 0 and L[r] == 0:\n",
    "        r -= 1\n",
    "    if r < 0:\n",
    "        L = []\n",
    "    else:\n",
    "        L = L[l:r+1]\n",
    "    return L"
   ]
  },
  {
   "cell_type": "markdown",
   "metadata": {},
   "source": [
    "## 7. Delete Duplicate Integers (Luhua Jin)"
   ]
  },
  {
   "cell_type": "code",
   "execution_count": 2,
   "metadata": {},
   "outputs": [],
   "source": [
    "def delete_duplicate_integers(Nums):\n",
    "    dic = {}\n",
    "    res = []\n",
    "    for n in Nums:\n",
    "        dic[n] = 1\n",
    "    for n in dic:\n",
    "        res.append(n)\n",
    "    return res[::-1]"
   ]
  },
  {
   "cell_type": "markdown",
   "metadata": {},
   "source": [
    "## 8. Problem 1 (Sen Li)"
   ]
  },
  {
   "cell_type": "code",
   "execution_count": null,
   "metadata": {},
   "outputs": [],
   "source": [
    "def findErrorNums(nums):\n",
    "    dicts={}\n",
    "    res=[]\n",
    "    for i in nums:\n",
    "        dicts[i]=dicts.get(i,0)+1\n",
    "    for i in range(1,len(nums)+1):\n",
    "        if i not in dicts:\n",
    "            res.append(i)\n",
    "        elif dicts[i]==2:\n",
    "            res.insert(0,i)\n",
    "        elif len(res)==2:\n",
    "            break\n",
    "    return res"
   ]
  },
  {
   "cell_type": "markdown",
   "metadata": {},
   "source": [
    "## 9. Common elements within two arrays （Xiaoyi Bao)"
   ]
  },
  {
   "cell_type": "code",
   "execution_count": null,
   "metadata": {},
   "outputs": [],
   "source": [
    "def common_elements_within_two_arrays(nums1, nums2):\n",
    "    common = set()\n",
    "    for num1 in nums1:\n",
    "        for num2 in nums2:\n",
    "            if num1 == num2:\n",
    "                common.add(num1)\n",
    "    return list(common)"
   ]
  },
  {
   "cell_type": "markdown",
   "metadata": {},
   "source": [
    "## 10. Next Greater Element I (Chuanming Liu)"
   ]
  },
  {
   "cell_type": "code",
   "execution_count": 7,
   "metadata": {},
   "outputs": [],
   "source": [
    "class Solution:\n",
    "    def nextGreaterElement(self, nums1: List[int], nums2: List[int]) -> List[int]:\n",
    "        stack, hashmap = list(), dict()\n",
    "        for i in nums2:\n",
    "            while len(stack) != 0 and stack[-1] < i:hashmap[stack.pop()] = i\n",
    "            stack.append(i)\n",
    "        return [hashmap.get(i,-1) for i in nums1]\n"
   ]
  },
  {
   "cell_type": "markdown",
   "metadata": {},
   "source": [
    "## 11. Three Views （Kaipeng Zeng)"
   ]
  },
  {
   "cell_type": "code",
   "execution_count": null,
   "metadata": {},
   "outputs": [],
   "source": [
    "def three_views(L):\n",
    "    maxx, minx = -1, 35\n",
    "    maxy, miny = -1, 35\n",
    "    maxz, minz = -1, 35\n",
    "    Markx = [[0 for y in range(35)] for x in range(35)]\n",
    "    Marky = [[0 for y in range(35)] for x in range(35)]\n",
    "    Markz = [[0 for y in range(35)] for x in range(35)]\n",
    "    for vec in L:\n",
    "        x, y, z = vec\n",
    "        maxx, minx = max(maxx, x), min(minx, x)\n",
    "        maxy, miny = max(maxy, y), min(miny, y)\n",
    "        maxz, minz = max(maxz, z), min(minz, z)\n",
    "        Markx[y][z] = 1\n",
    "        Marky[x][z] = 1\n",
    "        Markz[x][y] = 1\n",
    "    ans = \"\"\n",
    "    for x in range(maxz, minz - 1, -1):\n",
    "        for y in range(miny, maxy + 1):\n",
    "            ans += \"N\" if Markx[y][x] else \" \"\n",
    "        ans += \"\\n\"\n",
    "    ans += '\\n'\n",
    "    for x in range(maxz, minz - 1, -1):\n",
    "        for y in range(minx, maxx + 1):\n",
    "            ans += \"N\" if Marky[y][x] else \" \"\n",
    "        ans += '\\n'\n",
    "    ans += '\\n'\n",
    "    for x in range(minx, maxx + 1):\n",
    "        for y in range(miny, maxy + 1):\n",
    "            ans += \"N\" if Markz[x][y] else \" \"\n",
    "        ans += '\\n'\n",
    "    return ans"
   ]
  },
  {
   "cell_type": "markdown",
   "metadata": {},
   "source": [
    "## 12. **Find Key Upgrade** (Meichao Luo)"
   ]
  },
  {
   "cell_type": "code",
   "execution_count": 7,
   "metadata": {},
   "outputs": [],
   "source": [
    "def find_key_up(n:dict,target):\n",
    "    ans = []\n",
    "    for k in n.keys():\n",
    "        for str in n[k]:\n",
    "            if target in str:\n",
    "                ans.append(k)\n",
    "                break\n",
    "    return ans"
   ]
  },
  {
   "cell_type": "markdown",
   "metadata": {},
   "source": [
    "## 13. Exercise 2 (Weidong Wang)"
   ]
  },
  {
   "cell_type": "code",
   "execution_count": null,
   "metadata": {},
   "outputs": [],
   "source": [
    "def transpose(m):\n",
    "    r = len(m)\n",
    "    c = len(m[0])\n",
    "    line = [0] * r\n",
    "    new_m = []\n",
    "    for i in range(c):\n",
    "        new_m.append(line.copy())\n",
    "    for i in range(c):\n",
    "        for j in range(r):\n",
    "            new_m[i][j] = m[j][i]\n",
    "    return new_m"
   ]
  },
  {
   "cell_type": "markdown",
   "metadata": {},
   "source": [
    "## 14. Convolution (Yifei Zhang) "
   ]
  },
  {
   "cell_type": "code",
   "execution_count": null,
   "metadata": {},
   "outputs": [],
   "source": [
    "def convolution(m1,m2):\n",
    "    return m1[0][0]*m2[0][0]+m1[1][0]*m2[1][0]+m1[0][1]*m2[0][1]+m1[1][1]*m2[1][1]"
   ]
  },
  {
   "cell_type": "markdown",
   "metadata": {},
   "source": [
    "## 15. Uppercase Letter (Yanming Liu)"
   ]
  },
  {
   "cell_type": "code",
   "execution_count": 8,
   "metadata": {},
   "outputs": [],
   "source": [
    "# solution 1\n",
    "def Find_longest_interval1(A, P):\n",
    "    n = len(A)\n",
    "    ans = None\n",
    "    maxlength = 0\n",
    "    for i in range(n):\n",
    "        count = 0\n",
    "        for j in range(i, n):\n",
    "            if A[j].isupper():\n",
    "                count += 1\n",
    "            if count / (j - i + 1) >= P / 100:\n",
    "                if j - i + 1 > maxlength :\n",
    "                    maxlength = j - i + 1\n",
    "                    ans = (i, j + 1)\n",
    "    if ans != None:\n",
    "        return ans\n",
    "    else:\n",
    "        return \"no solution\" \n",
    "    \n",
    "# solution 2 (more efficient)\n",
    "def Find_longest_interval2(A, P):\n",
    "    n = len(A)\n",
    "    C = [0] + [1 if A[i].isupper() else 0 for i in range(n)]\n",
    "    for i in range(0, n):\n",
    "        C[i+1] = C[i] + C[i+1] * 100 - P\n",
    "    L = [0]\n",
    "    R = [n]\n",
    "    for i in range(1, n+1):\n",
    "        if C[i] < C[L[-1]]:\n",
    "            L.append(i)\n",
    "        if C[n-i] > C[R[-1]]:\n",
    "            R.append(n-i)\n",
    "    i = len(L) - 1\n",
    "    j = 0\n",
    "    ans = None\n",
    "    maxlength = 0\n",
    "    while i >= 0 and j < len(R):\n",
    "        if C[L[i]] <= C[R[j]]:\n",
    "            if R[j] - L[i] >= maxlength:\n",
    "                maxlength = R[j] - L[i]\n",
    "                ans = (L[i], R[j])\n",
    "            i -= 1\n",
    "        else:\n",
    "            j += 1\n",
    "    if maxlength == 0:\n",
    "        return \"no solution\"\n",
    "    else:\n",
    "        return ans"
   ]
  },
  {
   "cell_type": "markdown",
   "metadata": {},
   "source": [
    "## 16. Replace Words (Luhua Jin)"
   ]
  },
  {
   "cell_type": "code",
   "execution_count": null,
   "metadata": {},
   "outputs": [],
   "source": [
    "def repalce_words(dictionary, sentence):\n",
    "    rootset = set(dictionary)\n",
    "    s = sentence.split()\n",
    "    for i in range(len(s)):\n",
    "        w = s[i]\n",
    "        for j in range(len(w)):\n",
    "            if w[:j] in rootset:\n",
    "                s[i] = w[:j]\n",
    "    return \" \".join(s)"
   ]
  },
  {
   "cell_type": "markdown",
   "metadata": {},
   "source": [
    "## 17. Problem 2 (Sen Li)"
   ]
  },
  {
   "cell_type": "code",
   "execution_count": 8,
   "metadata": {},
   "outputs": [],
   "source": [
    "def interleavedArray(A, B):\n",
    "    L = []\n",
    "    for num in range(len(A)):\n",
    "        L.append(A[num])\n",
    "        L.append(B[num])\n",
    "    return L"
   ]
  },
  {
   "cell_type": "markdown",
   "metadata": {},
   "source": [
    "## 18. The most popular person (Xiaoyi Bao)"
   ]
  },
  {
   "cell_type": "code",
   "execution_count": null,
   "metadata": {},
   "outputs": [],
   "source": [
    "def most_popular_person(n, votes):\n",
    "    all_votes = {}\n",
    "    for (i, j) in votes:\n",
    "        all_votes[j] = all_votes.get(j, 0) + 1\n",
    "    max_value = 0\n",
    "    max_index = n\n",
    "    for (k, v) in all_votes.items():\n",
    "        if v > max_value or v == max_value and k < max_index:\n",
    "            max_value = v\n",
    "            max_index = k\n",
    "    return max_index"
   ]
  },
  {
   "cell_type": "markdown",
   "metadata": {},
   "source": [
    "## 19. Reverse String II (Chuanming Liu)"
   ]
  },
  {
   "cell_type": "code",
   "execution_count": null,
   "metadata": {},
   "outputs": [],
   "source": [
    "class Solution:\n",
    "    def reverseStr(self, s: str, k: int) -> str:\n",
    "        res, flag = \"\", True\n",
    "        for i in range(0, len(s), k):\n",
    "            res += s[i:i + k][::-1] if flag else s[i:i+k]\n",
    "            flag = not flag\n",
    "        return res "
   ]
  },
  {
   "cell_type": "markdown",
   "metadata": {},
   "source": [
    "## 20. Fighting! (Kaipeng Zeng)"
   ]
  },
  {
   "cell_type": "code",
   "execution_count": null,
   "metadata": {},
   "outputs": [],
   "source": [
    "def cal_maximum(L):\n",
    "    n = len(L)\n",
    "    ans = 0\n",
    "    for x in range(n):\n",
    "        for y in range(x + 1, n):\n",
    "            a, b, c = L[x][0] ** 2, L[x][0], L[x][1]\n",
    "            d, e, f = L[y][0] ** 2, L[y][0], L[y][1]\n",
    "            if b * d - a * e == 0:\n",
    "                continue\n",
    "            B = (c * d - a * f) / (b * d - a * e)\n",
    "            A = (c * e - b * f) / (a * e - d * b)\n",
    "            num = 0\n",
    "            for t in L:\n",
    "                p = t[0]\n",
    "                if abs(A * p * p + B * p - t[1]) <= 1e-3:\n",
    "                    num += 1\n",
    "            ans = max(ans, num)\n",
    "    return ans"
   ]
  },
  {
   "cell_type": "markdown",
   "metadata": {},
   "source": [
    "## 21. **Find Digit** (Meichao Luo)"
   ]
  },
  {
   "cell_type": "code",
   "execution_count": 11,
   "metadata": {},
   "outputs": [],
   "source": [
    "def find_digit(n,d):\n",
    "    return str(n).count(str(d))"
   ]
  },
  {
   "cell_type": "markdown",
   "metadata": {},
   "source": [
    "## 22. Exercise 3 (Weidong Wang)"
   ]
  },
  {
   "cell_type": "code",
   "execution_count": null,
   "metadata": {},
   "outputs": [],
   "source": [
    "def spiral(r: int, c: int):\n",
    "    line = [0] * c\n",
    "    m = []\n",
    "    for i in range(r):\n",
    "        m.append(line.copy())\n",
    "    x = y = 0\n",
    "    d = 0  # 0E1S2W3N\n",
    "    curr = 1\n",
    "    while curr <= r * c:\n",
    "        m[x][y] = curr\n",
    "        curr += 1\n",
    "        if d == 0:\n",
    "            if y < c - 1 and m[x][y+1] == 0:\n",
    "                y += 1\n",
    "            else:\n",
    "                d = 1\n",
    "                x += 1\n",
    "        elif d == 1:\n",
    "            if x < r - 1 and m[x+1][y] == 0:\n",
    "                x += 1\n",
    "            else:\n",
    "                d = 2\n",
    "                y -= 1\n",
    "        elif d == 2:\n",
    "            if y > 0 and m[x][y-1] == 0:\n",
    "                y -= 1\n",
    "            else:\n",
    "                d = 3\n",
    "                x -= 1\n",
    "        else:\n",
    "            if x > 0 and m[x-1][y] == 0:\n",
    "                x -= 1\n",
    "            else:\n",
    "                d = 0\n",
    "                y += 1\n",
    "    return m"
   ]
  },
  {
   "cell_type": "markdown",
   "metadata": {},
   "source": [
    "## 23. Count All Elements (Yifei Zhang)"
   ]
  },
  {
   "cell_type": "code",
   "execution_count": null,
   "metadata": {},
   "outputs": [],
   "source": [
    "def countNum(nums,n):\n",
    "    count = dict()\n",
    "    for num in nums:\n",
    "        if num in count:\n",
    "            count[num] += 1\n",
    "        else:\n",
    "            count[num] = 1\n",
    "    return count[n]"
   ]
  },
  {
   "cell_type": "markdown",
   "metadata": {},
   "source": [
    "## 24. Compound Words (Yanming Liu)"
   ]
  },
  {
   "cell_type": "code",
   "execution_count": null,
   "metadata": {},
   "outputs": [],
   "source": [
    "def Find_compound_words_std_1(D):\n",
    "    P = set([i + j for i in D for j in D])\n",
    "    return P & D "
   ]
  },
  {
   "cell_type": "markdown",
   "metadata": {},
   "source": [
    "## 25. Making File Names Unique (Luhua Jin)"
   ]
  },
  {
   "cell_type": "code",
   "execution_count": null,
   "metadata": {},
   "outputs": [],
   "source": [
    "def getFolderNames(names):\n",
    "    d, res = {}, []\n",
    "    for name in names:\n",
    "        s = name\n",
    "        while s in d:\n",
    "            s = name + '(' + str(d[name]) + ')'\n",
    "            #s = f'{name}({d[name]})'\n",
    "            d[name] += 1\n",
    "        d[s] = 1\n",
    "        res.append(s)\n",
    "    return res"
   ]
  },
  {
   "cell_type": "markdown",
   "metadata": {},
   "source": [
    "## 26. Problem 3 (Sen Li)"
   ]
  },
  {
   "cell_type": "code",
   "execution_count": 12,
   "metadata": {},
   "outputs": [],
   "source": [
    "def IsExist(s,str):\n",
    "    for i in s:\n",
    "        if i not in str :\n",
    "            return False\n",
    "        index = str.index(i)\n",
    "        str = str[index+1:]\n",
    "    return True\n",
    "\n",
    "def findWords(str, dict):\n",
    "    res = []\n",
    "    for s in dict:\n",
    "        if IsExist(s,str) == True:\n",
    "            res.append(s)\n",
    "    return res\n",
    "    "
   ]
  },
  {
   "cell_type": "markdown",
   "metadata": {},
   "source": [
    "## 27. Label examples (Xiaoyi Bao)"
   ]
  },
  {
   "cell_type": "code",
   "execution_count": null,
   "metadata": {},
   "outputs": [],
   "source": [
    "waiting = {}  # example -> [user, label]\n",
    "user_info = {}  # user -> [consistent, inconsistent, total]\n",
    "\n",
    "\n",
    "def submit(user_id, example, label):\n",
    "    if user_id not in user_info:\n",
    "        user_info[user_id] = [0, 0, 0]\n",
    "    user_info[user_id][2] += 1\n",
    "    if example in waiting:\n",
    "        another_user, another_label = example[waiting]\n",
    "        if another_label == label:\n",
    "            user_info[user_id][0] += 1\n",
    "            user_info[another_user][0] += 1\n",
    "        else:\n",
    "            user_info[user_id][1] += 1\n",
    "            user_info[another_user][1] += 1\n",
    "    else:\n",
    "        waiting[example] = [user_id, label]\n",
    "    \n",
    "def query(user):\n",
    "    if user not in user_info:\n",
    "        return None\n",
    "    return user_info[user]\n",
    "        "
   ]
  },
  {
   "cell_type": "markdown",
   "metadata": {},
   "source": [
    "## 28. Maximum Product of Three Numbers (Chuanming Liu)"
   ]
  },
  {
   "cell_type": "code",
   "execution_count": null,
   "metadata": {},
   "outputs": [],
   "source": [
    "def maximumProduct(nums):\n",
    "    nums.sort()\n",
    "    v1 = nums[-1] * nums[-2] * nums[-3]\n",
    "    v2 = nums[0] * nums[1] * nums[-1]\n",
    "    return max(v1, v2)\n"
   ]
  },
  {
   "cell_type": "markdown",
   "metadata": {},
   "source": [
    "## 29. Two Numbers (Kaipeng Zeng)"
   ]
  },
  {
   "cell_type": "code",
   "execution_count": null,
   "metadata": {},
   "outputs": [],
   "source": [
    "def two_numbers(L, C):\n",
    "    i, j, ans = -1, len(L) - 1, 0\n",
    "    while i + 1 < j:\n",
    "        while L [i + 1] + L[j] <= C:\n",
    "            i, ans = i + 1, ans + (L[i + 1] + L[j] == C)\n",
    "        else:\n",
    "            j -= 1\n",
    "    return ans\n",
    "\n",
    "def two_numbers2(L, C):\n",
    "    D, ans = {}, 0\n",
    "    for x in L:\n",
    "        ans += D.get(C - x, 0)\n",
    "        if x in D:\n",
    "            D[x] += 1\n",
    "        else:\n",
    "            D[x] = 1\n",
    "    return ans"
   ]
  },
  {
   "cell_type": "markdown",
   "metadata": {},
   "source": [
    "## 30. **Mono Stack** (Meichao Luo)"
   ]
  },
  {
   "cell_type": "code",
   "execution_count": 20,
   "metadata": {},
   "outputs": [],
   "source": [
    "def mono_stack(n):\n",
    "    L = []\n",
    "    for i in n:\n",
    "        while len(L) and L[-1] <= i:\n",
    "            L.pop()\n",
    "        L.append(i)\n",
    "    return L[::-1]\n"
   ]
  },
  {
   "cell_type": "markdown",
   "metadata": {},
   "source": [
    "## 31. Exercise 4 (Weidong Wang)"
   ]
  },
  {
   "cell_type": "code",
   "execution_count": null,
   "metadata": {},
   "outputs": [],
   "source": [
    "def find_char(s1: str, s2: str):\n",
    "    d = dict()\n",
    "    for ch in s1:\n",
    "        if ch in d:\n",
    "            d[ch] += 1\n",
    "        else:\n",
    "            d[ch] = 1\n",
    "    for ch in s2:\n",
    "        if ch in d:\n",
    "            d[ch] -= 1\n",
    "        else:\n",
    "            d[ch] = -1\n",
    "    list_to_sort = []\n",
    "    for ch in d:\n",
    "        for i in range(abs(d[ch])):\n",
    "            list_to_sort.append(ch)\n",
    "    list_to_sort.sort()\n",
    "    return ''.join(list_to_sort)"
   ]
  },
  {
   "cell_type": "markdown",
   "metadata": {},
   "source": [
    "## 32.  Degree of a node （Yifei Zhang)"
   ]
  },
  {
   "cell_type": "code",
   "execution_count": null,
   "metadata": {},
   "outputs": [],
   "source": [
    "import collections\n",
    "def degreeOfNode(graph,node):\n",
    "    degree = collections.defaultdict(int)\n",
    "    for i,j in graph:\n",
    "        degree[i] += 1\n",
    "        degree[j] += 1\n",
    "    return degree[node]"
   ]
  },
  {
   "cell_type": "markdown",
   "metadata": {},
   "source": [
    "## 33. 237-Number (Yanming Liu)"
   ]
  },
  {
   "cell_type": "code",
   "execution_count": 17,
   "metadata": {},
   "outputs": [],
   "source": [
    "# solution 1\n",
    "def First_k_elements_1(k):\n",
    "    S = {1}\n",
    "    ans = []\n",
    "    while len(ans) < k:\n",
    "        m = min(S)\n",
    "        S.remove(m)\n",
    "        ans.append(m)\n",
    "        S.add(2*m)\n",
    "        S.add(3*m)\n",
    "        S.add(7*m)\n",
    "    return ans\n",
    "\n",
    "# solution 2 (more efficient)\n",
    "def First_k_elements_2(k):\n",
    "    L = [[2],[3],[7]]\n",
    "    ans = [1]\n",
    "    while len(ans) < k:\n",
    "        idx = 0\n",
    "        for i in range(1,3):\n",
    "            if L[i][0] < L[idx][0]:\n",
    "                idx = i\n",
    "        num = L[idx].pop(0)\n",
    "        if num != ans[-1]:\n",
    "            ans.append(num)\n",
    "            L[0].append(num*2)\n",
    "            L[1].append(num*3)\n",
    "            L[2].append(num*7)\n",
    "    return ans"
   ]
  },
  {
   "cell_type": "markdown",
   "metadata": {},
   "source": [
    "## 34. Print Words Vertically (Luhua Jin)"
   ]
  },
  {
   "cell_type": "code",
   "execution_count": null,
   "metadata": {},
   "outputs": [],
   "source": [
    "def printVertically(s):\n",
    "    words = s.split()\n",
    "    maxlen = max(len(word) for word in words)\n",
    "    res = []\n",
    "    for i in range(maxlen):\n",
    "        concat = \"\".join([word[i] if i < len(word) else \" \" for word in words])\n",
    "        res.append(concat.rstrip())\n",
    "    return res"
   ]
  },
  {
   "cell_type": "markdown",
   "metadata": {},
   "source": [
    "## 35. Problem 4 (Sen Li)"
   ]
  },
  {
   "cell_type": "code",
   "execution_count": 13,
   "metadata": {},
   "outputs": [],
   "source": [
    "def isUnique(str):\n",
    "    return len(str) == len(set(str))"
   ]
  },
  {
   "cell_type": "markdown",
   "metadata": {},
   "source": [
    "## 36. Remove element from a given list (Xiaoyi Bao)"
   ]
  },
  {
   "cell_type": "code",
   "execution_count": 14,
   "metadata": {},
   "outputs": [],
   "source": [
    "def remove_element(nums, target):\n",
    "    # you may also delete in place. Pay attention to the change of index after deleting.\n",
    "    new_nums = []\n",
    "    for num in nums:\n",
    "        if num != target:\n",
    "            new_nums.append(num)\n",
    "    return new_nums"
   ]
  }
 ],
 "metadata": {
  "kernelspec": {
   "display_name": "Python 3",
   "language": "python",
   "name": "python3"
  },
  "language_info": {
   "codemirror_mode": {
    "name": "ipython",
    "version": 3
   },
   "file_extension": ".py",
   "mimetype": "text/x-python",
   "name": "python",
   "nbconvert_exporter": "python",
   "pygments_lexer": "ipython3",
   "version": "3.7.6"
  }
 },
 "nbformat": 4,
 "nbformat_minor": 4
}
