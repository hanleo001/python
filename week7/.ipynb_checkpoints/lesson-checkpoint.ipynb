{
 "cells": [
  {
   "cell_type": "markdown",
   "id": "7b1be261-997c-40d9-ae38-2e05ff79d831",
   "metadata": {},
   "source": [
    "# Dict-String-Set"
   ]
  },
  {
   "cell_type": "markdown",
   "id": "eab703a4-7244-4352-b60b-8207f3095d78",
   "metadata": {},
   "source": [
    "## Dict\n",
    "Dict is more efficient than list "
   ]
  },
  {
   "cell_type": "markdown",
   "id": "df1ff091-82c1-4d91-97c4-38310b289750",
   "metadata": {},
   "source": [
    "### creation\n",
    "key 是不能被修改的类型(tuple int float str ...)"
   ]
  },
  {
   "cell_type": "code",
   "execution_count": 1,
   "id": "ed24d81e-1921-45c7-a0a9-e916aa4fa2ae",
   "metadata": {},
   "outputs": [
    {
     "name": "stdout",
     "output_type": "stream",
     "text": [
      "<class 'dict'>\n",
      "<class 'dict'>\n",
      "{'test': 'SJTU', 'print': 1} <class 'dict'>\n"
     ]
    }
   ],
   "source": [
    "a={}\n",
    "print(type(a))\n",
    "a={'hello':1}\n",
    "print(type(a))\n",
    "b={\"test\":\"SJTU\",\"print\":1}\n",
    "print(b,type(b))"
   ]
  },
  {
   "cell_type": "code",
   "execution_count": 3,
   "id": "ac98fd47-c69e-419f-95cc-6c872bf275f4",
   "metadata": {},
   "outputs": [
    {
     "name": "stdout",
     "output_type": "stream",
     "text": [
      "1 2\n"
     ]
    }
   ],
   "source": [
    "print(len(a),len(b))"
   ]
  },
  {
   "cell_type": "markdown",
   "id": "3f0edd8c-ad4c-4fb3-81b8-6846009cf4e9",
   "metadata": {},
   "source": [
    "### dict的访问"
   ]
  },
  {
   "cell_type": "code",
   "execution_count": 26,
   "id": "afc09a81-3782-413e-95e0-27a7c026b052",
   "metadata": {},
   "outputs": [
    {
     "name": "stdout",
     "output_type": "stream",
     "text": [
      "你好呀 你好呀\n"
     ]
    }
   ],
   "source": [
    "chn={\"hello\":\"你好呀\",\"World\":\"世界\",\"SJTU\":\"上海交大\"}\n",
    "print(chn[\"hello\"],chn.get(\"hello\"))# 一般不使用get方法"
   ]
  },
  {
   "cell_type": "markdown",
   "id": "1d489f6f-1e1c-4be8-842c-c9f947a02e46",
   "metadata": {},
   "source": [
    "### dict: removing items"
   ]
  },
  {
   "cell_type": "code",
   "execution_count": 27,
   "id": "5af12a80-cb6c-4a38-b311-86709f6ad057",
   "metadata": {},
   "outputs": [
    {
     "name": "stdout",
     "output_type": "stream",
     "text": [
      "{'hello': '你好呀', 'World': '世界', 'SJTU': '上海交大'}\n",
      "{'World': '世界', 'SJTU': '上海交大'} 你好呀\n",
      "{'SJTU': '上海交大'}\n"
     ]
    }
   ],
   "source": [
    "print(chn)\n",
    "a=chn.pop(\"hello\")\n",
    "print(chn,a)\n",
    "del chn[\"World\"]\n",
    "print(chn)"
   ]
  },
  {
   "cell_type": "markdown",
   "id": "b152032e-efc4-43f8-95ea-17226ac7337a",
   "metadata": {},
   "source": [
    "### 复制与合并"
   ]
  },
  {
   "cell_type": "code",
   "execution_count": 12,
   "id": "6ef7f0d1-408d-4899-8174-572dc09b20a1",
   "metadata": {},
   "outputs": [
    {
     "name": "stdout",
     "output_type": "stream",
     "text": [
      "2182917372928 2182917372928 2182917372672\n"
     ]
    }
   ],
   "source": [
    "a={\"hello\":\"你好呀\",\"World\":\"世界\",\"SJTU\":\"上海交大\"}\n",
    "b=a\n",
    "c=a.copy()\n",
    "print(id(a),id(b),id(c))"
   ]
  },
  {
   "cell_type": "code",
   "execution_count": 15,
   "id": "f5ba2a35-fec2-47e0-97b4-477104fdbf13",
   "metadata": {},
   "outputs": [
    {
     "name": "stdout",
     "output_type": "stream",
     "text": [
      "2182917364352 2182916879360\n",
      "{'hello': '你好呀', 'World': '世界', 'SJTU': '上海交大', 'test': 'SJTU', 'print': 1}\n"
     ]
    }
   ],
   "source": [
    "a={\"hello\":\"你好呀\",\"World\":\"世界\",\"SJTU\":\"上海交大\"}\n",
    "b={\"test\":\"SJTU\",\"print\":1}\n",
    "print(id(dict(a)),id(a))\n",
    "print({**a,**b})# 字典合并"
   ]
  },
  {
   "cell_type": "markdown",
   "id": "d887b4d6-d48c-435e-a83d-297e10355741",
   "metadata": {},
   "source": [
    "### Dict Methods"
   ]
  },
  {
   "cell_type": "code",
   "execution_count": 22,
   "id": "f101228d-db87-47df-abeb-b21b502c6e16",
   "metadata": {},
   "outputs": [
    {
     "name": "stdout",
     "output_type": "stream",
     "text": [
      "dict_keys(['hello', 'World', 'SJTU']) <class 'dict_keys'>\n",
      "dict_values(['你好呀', '世界', '上海交大']) <class 'dict_values'>\n",
      "dict_items([('hello', '你好呀'), ('World', '世界'), ('SJTU', '上海交大')]) <class 'dict_items'>\n",
      "True False\n"
     ]
    }
   ],
   "source": [
    "print(a.keys(),type(a.keys()))\n",
    "print(a.values(),type(a.values()))\n",
    "print(a.items(),type(a.items()))\n",
    "print(\"World\" in a,\"世界\" in a)"
   ]
  },
  {
   "cell_type": "markdown",
   "id": "08ecabc6-e95c-41e9-9f54-1eabfcc3aae0",
   "metadata": {},
   "source": [
    "### loop in dictionary"
   ]
  },
  {
   "cell_type": "code",
   "execution_count": 28,
   "id": "0051c2f2-53ce-4b39-8ba4-d42ad617a3be",
   "metadata": {},
   "outputs": [
    {
     "name": "stdout",
     "output_type": "stream",
     "text": [
      "SJTU\n",
      "上海交大\n",
      "上海交大\n",
      "SJTU 上海交大\n"
     ]
    }
   ],
   "source": [
    "for x in chn:\n",
    "    print(x)\n",
    "for x in chn:\n",
    "    print(chn[x])\n",
    "for x in chn.values():\n",
    "    print(x)\n",
    "for x,y in chn.items():\n",
    "    print(x,y)"
   ]
  },
  {
   "cell_type": "markdown",
   "id": "2463c207-a51d-493f-aff1-e0604d193a53",
   "metadata": {},
   "source": [
    "## String\n",
    "immutable 不可修改"
   ]
  },
  {
   "cell_type": "markdown",
   "id": "c69c8646-4cb9-4d03-b262-db135622f98a",
   "metadata": {},
   "source": [
    "### basics"
   ]
  },
  {
   "cell_type": "markdown",
   "id": "e650f019-1354-43af-b185-a0def60fc18e",
   "metadata": {},
   "source": [
    "[];slice;len;+;\\*;for"
   ]
  },
  {
   "cell_type": "markdown",
   "id": "a0e90e07-14d9-4f87-b505-e9315d2fd846",
   "metadata": {},
   "source": [
    "### find"
   ]
  },
  {
   "cell_type": "code",
   "execution_count": 34,
   "id": "e8597b03-d1eb-4795-91d3-584788621c5c",
   "metadata": {},
   "outputs": [
    {
     "name": "stdout",
     "output_type": "stream",
     "text": [
      "<class 'str'>\n",
      "5 5\n",
      "1\n"
     ]
    }
   ],
   "source": [
    "import string\n",
    "a=string.ascii_lowercase\n",
    "print(type(a))\n",
    "print(a.find('f'),a.find('f',1,10))\n",
    "print(a.count('f'))"
   ]
  },
  {
   "cell_type": "markdown",
   "id": "c6f829ce-2f1b-4f14-ac0b-bed8db2bcf7b",
   "metadata": {},
   "source": [
    "### split join"
   ]
  },
  {
   "cell_type": "markdown",
   "id": "a23506e9-7506-42ff-b3cc-8bb4034102a3",
   "metadata": {},
   "source": [
    "str.join(iterable)"
   ]
  },
  {
   "cell_type": "code",
   "execution_count": 37,
   "id": "afa668e3-4fe8-4d4b-8e80-0a428234c7b5",
   "metadata": {},
   "outputs": [
    {
     "name": "stdout",
     "output_type": "stream",
     "text": [
      "['sff', 'fsfs', 'sdff', '', 'fsdf']\n",
      "['sff', 'fsfs', 'sdff', 'fsdf']\n",
      "['s', '', ' ', 's', 's sd', '', '  ', 'sd', '']\n"
     ]
    }
   ],
   "source": [
    "a='sff fsfs sdff  fsdf'\n",
    "print(a.split(\" \"))\n",
    "print(a.split())#用一个或多个空格做分割符\n",
    "print(a.split(\"f\"))"
   ]
  },
  {
   "cell_type": "code",
   "execution_count": 42,
   "id": "0aa0e89d-d785-4861-bbd2-9b28067da726",
   "metadata": {},
   "outputs": [
    {
     "name": "stdout",
     "output_type": "stream",
     "text": [
      "sff;fsfs;sdff;fsdf\n",
      "sff fsfs sdff fsdf\n"
     ]
    }
   ],
   "source": [
    "b=a.split()\n",
    "print(\";\".join(b))\n",
    "print(\" \".join(b))"
   ]
  },
  {
   "cell_type": "markdown",
   "id": "6a84be24-dae6-4db0-863e-39c3fa167113",
   "metadata": {},
   "source": [
    "### more\n",
    "str.isdigit(): Return true if all characters in the string are digits and there is at least one character, false otherwise\n",
    "\n",
    "str.upper(): Return a copy of the string with all the cased characters converted to uppercase\n",
    "\n",
    "str.rstrip([chars]): Return a copy of the string with trailing characters removed\n",
    "\n",
    "str.replace(old, new[, count]): Return a copy of the string with all occurrences of substring old replaced by new "
   ]
  },
  {
   "cell_type": "code",
   "execution_count": 48,
   "id": "2306e824-1d90-4f3c-b9e3-730ff4d4b0fc",
   "metadata": {},
   "outputs": [
    {
     "name": "stdout",
     "output_type": "stream",
     "text": [
      "True\n",
      "SFF FSFS SDFF  FSDF\n"
     ]
    }
   ],
   "source": [
    "print(\"1\".isdigit())\n",
    "print(a.upper())"
   ]
  },
  {
   "cell_type": "markdown",
   "id": "7fceb92f-c552-4960-b720-112a846f5291",
   "metadata": {},
   "source": [
    "### String.format()"
   ]
  },
  {
   "cell_type": "code",
   "execution_count": 52,
   "id": "f1244eff-9821-43ef-856c-81492755589a",
   "metadata": {},
   "outputs": [
    {
     "name": "stdout",
     "output_type": "stream",
     "text": [
      "My name is leo, I'm 18\n"
     ]
    }
   ],
   "source": [
    "txt1=\"My name is {fname}, I'm {age}\".format(fname='leo',age=18)\n",
    "print(txt1)\n",
    "pass"
   ]
  }
 ],
 "metadata": {
  "kernelspec": {
   "display_name": "Python 3 (ipykernel)",
   "language": "python",
   "name": "python3"
  },
  "language_info": {
   "codemirror_mode": {
    "name": "ipython",
    "version": 3
   },
   "file_extension": ".py",
   "mimetype": "text/x-python",
   "name": "python",
   "nbconvert_exporter": "python",
   "pygments_lexer": "ipython3",
   "version": "3.10.7"
  }
 },
 "nbformat": 4,
 "nbformat_minor": 5
}
