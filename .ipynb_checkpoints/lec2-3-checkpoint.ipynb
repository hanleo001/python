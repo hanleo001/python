{
 "cells": [
  {
   "cell_type": "markdown",
   "id": "36f25b0d-3cd4-4d14-a3a1-7310866ca0ff",
   "metadata": {
    "tags": []
   },
   "source": [
    "# Date 10/18"
   ]
  },
  {
   "cell_type": "markdown",
   "id": "6091e6d5-542d-4c9a-8301-cb96d7d2efc6",
   "metadata": {
    "tags": []
   },
   "source": [
    "## contain square"
   ]
  },
  {
   "cell_type": "code",
   "execution_count": 2,
   "id": "4b80908e-281b-43da-b5e7-cb89feb1aafa",
   "metadata": {},
   "outputs": [
    {
     "data": {
      "text/plain": [
       "12"
      ]
     },
     "execution_count": 2,
     "metadata": {},
     "output_type": "execute_result"
    }
   ],
   "source": [
    "def containsqu(l,w,a):\n",
    "    return (l//a)*(w//a)\n",
    "containsqu(3,4,1)"
   ]
  },
  {
   "cell_type": "markdown",
   "id": "33e419eb-4737-4a9c-958e-7c4afff4234a",
   "metadata": {},
   "source": [
    "## Swap numbers"
   ]
  },
  {
   "cell_type": "code",
   "execution_count": null,
   "id": "56f1d920-7021-4f7e-b97e-e051583f6c48",
   "metadata": {},
   "outputs": [],
   "source": [
    "def swapnums(x,y):\n",
    "    y,x=x,y"
   ]
  }
 ],
 "metadata": {
  "kernelspec": {
   "display_name": "Python 3 (ipykernel)",
   "language": "python",
   "name": "python3"
  },
  "language_info": {
   "codemirror_mode": {
    "name": "ipython",
    "version": 3
   },
   "file_extension": ".py",
   "mimetype": "text/x-python",
   "name": "python",
   "nbconvert_exporter": "python",
   "pygments_lexer": "ipython3",
   "version": "3.10.7"
  }
 },
 "nbformat": 4,
 "nbformat_minor": 5
}
