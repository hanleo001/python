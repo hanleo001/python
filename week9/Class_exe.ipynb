{
 "cells": [
  {
   "cell_type": "markdown",
   "id": "5ba90c52-5907-4e5e-ba6a-fa7b17b7b4c8",
   "metadata": {},
   "source": [
    "# Class"
   ]
  },
  {
   "cell_type": "markdown",
   "id": "e9806481-bd88-43df-a05d-93e5b590dcff",
   "metadata": {},
   "source": [
    "## class and object(instance)"
   ]
  },
  {
   "cell_type": "markdown",
   "id": "8e9eda81-b17d-41a9-a00f-dede28bd6e85",
   "metadata": {},
   "source": [
    "## class and type"
   ]
  },
  {
   "cell_type": "markdown",
   "id": "815ae13b-0e85-4a98-bba2-f4cf3d4ea016",
   "metadata": {},
   "source": [
    "## keyword class"
   ]
  },
  {
   "cell_type": "code",
   "execution_count": 2,
   "id": "3fbcf569-a90d-450d-b232-369461a6c96f",
   "metadata": {},
   "outputs": [
    {
     "name": "stdout",
     "output_type": "stream",
     "text": [
      "<__main__.Empty object at 0x000001E1D0802350>\n",
      "2069377327952\n",
      "<class '__main__.Empty'>\n",
      "0\n",
      "0.0\n",
      "\n",
      "[]\n",
      "()\n",
      "set()\n",
      "{}\n"
     ]
    }
   ],
   "source": [
    "class Empty:\n",
    "    pass\n",
    "a=Empty()\n",
    "print(a)\n",
    "print(id(a))\n",
    "print(type(a))\n",
    "a=int()\n",
    "b=float()\n",
    "c=str()\n",
    "d=list()\n",
    "e=tuple()\n",
    "f=set()\n",
    "g=dict()\n",
    "print(a)\n",
    "print(b)\n",
    "print(c)\n",
    "print(d)\n",
    "print(e)\n",
    "print(f)\n",
    "print(g)"
   ]
  },
  {
   "cell_type": "code",
   "execution_count": 3,
   "id": "a22f3986-9978-4e3c-abaf-f09a7be0b1c9",
   "metadata": {},
   "outputs": [
    {
     "name": "stdout",
     "output_type": "stream",
     "text": [
      "[123, 314, [1, 1, 1]]\n",
      "[[1, 1, 1], 314, 123]\n"
     ]
    }
   ],
   "source": [
    "l=[123,314,[1,1,1]]\n",
    "print(l)\n",
    "l.reverse()\n",
    "print(l)"
   ]
  },
  {
   "cell_type": "code",
   "execution_count": 6,
   "id": "f75a9c5c-685e-4149-b553-5c83f5979cb8",
   "metadata": {},
   "outputs": [
    {
     "name": "stdout",
     "output_type": "stream",
     "text": [
      "1 1\n",
      "2069298807024\n",
      "2069298807024\n",
      "2069298807024\n",
      "2069298807024\n",
      "2069298807024\n"
     ]
    }
   ],
   "source": [
    "a=Empty()\n",
    "a.a=1\n",
    "a.b=1\n",
    "a.c=1\n",
    "b=Empty()\n",
    "b.a=1\n",
    "b.b=1\n",
    "print(a.a,b.a)\n",
    "def test_id(*arg):\n",
    "    for i in arg:\n",
    "        print(id(i))\n",
    "    return \n",
    "test_id(a.a,a.b,a.c,b.a,b.b)"
   ]
  },
  {
   "cell_type": "code",
   "execution_count": 7,
   "id": "f92fceae-4c6e-4124-8a0b-63775e699229",
   "metadata": {},
   "outputs": [
    {
     "name": "stdout",
     "output_type": "stream",
     "text": [
      "2069377624960\n",
      "2069377619136\n",
      "2069377377344\n",
      "2069377626496\n",
      "2069377624320\n"
     ]
    }
   ],
   "source": [
    "a=Empty()\n",
    "a.a=[1]\n",
    "a.b=[1]\n",
    "a.c=[1]\n",
    "b=Empty()\n",
    "b.a=[1]\n",
    "b.b=[1]\n",
    "test_id(a.a,a.b,a.c,b.a,b.b)"
   ]
  },
  {
   "cell_type": "code",
   "execution_count": 13,
   "id": "f3a17860-e1bc-40aa-9f63-2bd20311515a",
   "metadata": {},
   "outputs": [
    {
     "name": "stdout",
     "output_type": "stream",
     "text": [
      "__init__() is called automatically.\n",
      "<__main__.TestInit object at 0x000001E1D1413790>:id: 2069389981584\n",
      "__init__() exit\n",
      "2069389981584\n",
      "__init__() is called automatically.\n",
      "<__main__.TestInit object at 0x000001E1D0800E20>:id: 2069377322528\n",
      "__init__() exit\n",
      "2069377322528\n"
     ]
    }
   ],
   "source": [
    "class Triangle:\n",
    "    def __init__(self,a,b,c):\n",
    "        self.a=a\n",
    "        self.b=b\n",
    "        self.c=c\n",
    "class TestInit:\n",
    "    def __init__(self):\n",
    "        print(\"__init__() is called automatically.\")\n",
    "        print(f\"{self}:id: {id(self)}\")\n",
    "        print(\"__init__() exit\")\n",
    "test1=TestInit()\n",
    "print(id(test1))\n",
    "test2=TestInit()\n",
    "print(id(test2))\n",
    "ABC=Triangle(3,4,5)"
   ]
  },
  {
   "cell_type": "code",
   "execution_count": 14,
   "id": "e533bdc3-3336-41df-aa93-c479ca118b57",
   "metadata": {},
   "outputs": [
    {
     "name": "stdout",
     "output_type": "stream",
     "text": [
      "2069389979376 2069298807088 2069298807120\n",
      "2069389980096 2069298807088 2069298807120\n",
      "3 4\n",
      "3 4\n"
     ]
    }
   ],
   "source": [
    "class Point:\n",
    "    def __init__(self,x,y):\n",
    "        self.x,self.y=x,y\n",
    "\n",
    "def print_point_id(pt):\n",
    "    print(id(pt),id(pt.x),id(pt.y))\n",
    "def print_point(pt):\n",
    "    print(pt.x,pt.y)\n",
    "pt1=Point(3,4)\n",
    "pt2=Point(3,4)\n",
    "print_point_id(pt1)\n",
    "print_point_id(pt2)\n",
    "print_point(pt1)\n",
    "print_point(pt2)"
   ]
  },
  {
   "cell_type": "code",
   "execution_count": 19,
   "id": "fb7ea653-8f37-4771-953a-801a2fdbfa0d",
   "metadata": {},
   "outputs": [
    {
     "name": "stdout",
     "output_type": "stream",
     "text": [
      "name:Kit,color:black and white,age:1,weight:2\n",
      "name:Pit,color:black and white,age:1,weight:2\n"
     ]
    }
   ],
   "source": [
    "class Doge:\n",
    "    def __init__(self,name,color,age,weight):\n",
    "            self.name=name\n",
    "            self.color=color\n",
    "            self.age=age\n",
    "            self.weight=weight\n",
    "    def set_name(self,name):\n",
    "        self.name=name\n",
    "    def set_color(self,color):\n",
    "        self.color=color\n",
    "    def set_age(self,age):\n",
    "        self.age=age\n",
    "    def set_weight(self,weight):\n",
    "        self.weight=weight\n",
    "    def print_doge(self):\n",
    "        print(f\"name:{self.name},color:{self.color},age:{self.age},weight:{self.weight}\")\n",
    "\n",
    "test=Doge(\"Kit\",\"black and white\",1,2)\n",
    "test.print_doge()\n",
    "test.set_name(\"Pit\")\n",
    "test.print_doge()"
   ]
  },
  {
   "cell_type": "code",
   "execution_count": 22,
   "id": "2b9cc7d5-17ce-4135-a8c8-119df1915b79",
   "metadata": {},
   "outputs": [
    {
     "name": "stdout",
     "output_type": "stream",
     "text": [
      "Triangle: 3,4,5\n",
      "The area of the Triangle is 6.0\n"
     ]
    }
   ],
   "source": [
    "class Triangle:\n",
    "    def __init__(self,a=0,b=0,c=0):\n",
    "        self.a,self.b,self.c=a,b,c\n",
    "    def is_valid(self):\n",
    "        return self.a+self.b>self.c and self.a+self.c>self.b and self.b+self.c>self.a\n",
    "    def area(self):\n",
    "        p=(self.a+self.b+self.c)/2\n",
    "        return (p*(p-self.a)*(p-self.b)*(p-self.c))**0.5\n",
    "    def print(self):\n",
    "        print(\"Triangle: {},{},{}\".format(self.a,self.b,self.c))\n",
    "    def print_area(self):\n",
    "        print(\"The area of the Triangle is {}\".format(self.area()))\n",
    "        \n",
    "a=Triangle(3,4,5)\n",
    "a.print()\n",
    "a.print_area()"
   ]
  },
  {
   "cell_type": "code",
   "execution_count": 4,
   "id": "d4078731-9b85-4bf3-87ce-2f3ef6069d5c",
   "metadata": {},
   "outputs": [
    {
     "name": "stdout",
     "output_type": "stream",
     "text": [
      "hi,my name is xiaoming.\n",
      "hello,I am a human.\n",
      "hello,I am a human.\n"
     ]
    }
   ],
   "source": [
    "class People:\n",
    "    def __init__(self,name=\"\",age=0,job=\"\",salary=0):\n",
    "        self.name=name\n",
    "        self.age=age\n",
    "        self.job=job\n",
    "        self.salary=salary\n",
    "    \n",
    "    def hi(self):\n",
    "        print(\"hi,my name is {}.\".format(self.name))\n",
    "    \n",
    "    @classmethod\n",
    "    def hello(cls):\n",
    "        print(\"hello,I am a human.\")\n",
    "\n",
    "xiaoming=People(\"xiaoming\",18,\"student\",100)\n",
    "xiaoming.hi()\n",
    "xiaoming.hello()\n",
    "People.hello()"
   ]
  },
  {
   "cell_type": "code",
   "execution_count": 8,
   "id": "e152b72b",
   "metadata": {},
   "outputs": [
    {
     "name": "stdout",
     "output_type": "stream",
     "text": [
      "True\n",
      "False\n"
     ]
    }
   ],
   "source": [
    "x=\"hello\"\n",
    "y=\"SJTU\"\n",
    "z=x+y\n",
    "u=\"helloSJTU\"\n",
    "print(u==z)\n",
    "print(u is z)\n"
   ]
  }
 ],
 "metadata": {
  "kernelspec": {
   "display_name": "Python 3.10.7 64-bit",
   "language": "python",
   "name": "python3"
  },
  "language_info": {
   "codemirror_mode": {
    "name": "ipython",
    "version": 3
   },
   "file_extension": ".py",
   "mimetype": "text/x-python",
   "name": "python",
   "nbconvert_exporter": "python",
   "pygments_lexer": "ipython3",
   "version": "3.10.7"
  },
  "vscode": {
   "interpreter": {
    "hash": "213524bb45a1aeaf737b1d8c77d7b8db5d425938d9dffc5f4bc6fe6dd3324700"
   }
  }
 },
 "nbformat": 4,
 "nbformat_minor": 5
}
