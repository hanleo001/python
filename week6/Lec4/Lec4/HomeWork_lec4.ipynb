{
 "cells": [
  {
   "cell_type": "markdown",
   "metadata": {},
   "source": [
    "# 上机练习二\n",
    "> 函数，递归，条件，循环"
   ]
  },
  {
   "cell_type": "markdown",
   "metadata": {},
   "source": [
    "\n",
    "> 1-4 by Kaipeng Zeng, 5-8 By Meichao Luo, 9-12 By Luhua Jin, 13-16 By Yifei Zhang, 17-20 By Chuanming Liu, 21-25 By Weidong Wang, 26-29 By Yanming Liu, 30-33 By Sen Li, 34-37 By Xiaoyi Bao"
   ]
  },
  {
   "cell_type": "markdown",
   "metadata": {},
   "source": [
    "## 1. Perfect Digital Invariant\n",
    "### Description\n",
    "An $N$ decimal number is called perfect digital invariant if and only if the sum of the $M$-th power of every digit is equal to itself. Now you are given $N$ and $M$ and you are supposed to find the smallest perfect digital invariant. (If there is no perfect digital invariant, return -1)\n",
    "\n",
    "### Input\n",
    "Two integers representing $N$ and $M$.\n",
    "\n",
    "### Output\n",
    "A integer representing the smallest perfect digital invariant.\n",
    "\n",
    "### Note\n",
    "$2\\le N \\le 6$.<br>\n",
    "$1\\le M \\le 6$.\n",
    "\n",
    "### Sample Input\n",
    "6 5\n",
    "\n",
    "### Sample Output\n",
    "194979\n",
    "\n"
   ]
  },
  {
   "cell_type": "code",
   "execution_count": 2,
   "metadata": {},
   "outputs": [],
   "source": [
    "# write your code here\n",
    "# Any definitions and calls of other functions are allowed\n",
    "def powerM(iN,M):\n",
    "    strN=str(iN)\n",
    "    p=0\n",
    "    for i in strN:\n",
    "        p+=int(i)**M\n",
    "    return p\n",
    "def get_perfect_digits(N, M):\n",
    "    for i in range(10**(N-1),10**N):\n",
    "        if powerM(i,M)==i:\n",
    "            return i\n",
    "    return -1"
   ]
  },
  {
   "cell_type": "code",
   "execution_count": 3,
   "metadata": {},
   "outputs": [
    {
     "name": "stdout",
     "output_type": "stream",
     "text": [
      "Correct\n",
      "Correct\n",
      "Correct\n",
      "Correct\n",
      "Correct\n",
      "Correct\n"
     ]
    }
   ],
   "source": [
    "# run this block to verify the correctness of your code.\n",
    "# Simply copy the answer is not allowed because TAs will review your codes.\n",
    "testcase = [[3, 3], [4, 4], [4, 5], [5, 5], [6, 5], [6, 6]]\n",
    "standard = [153, 1634, 4150, 54748, 194979, 548834]\n",
    "for x in range(len(testcase)):\n",
    "    case = testcase[x]\n",
    "    std = standard[x]\n",
    "    if get_perfect_digits(case[0], case[1]) == std:\n",
    "        print(\"Correct\")\n",
    "    else:\n",
    "        print(\"Wrong\")"
   ]
  },
  {
   "cell_type": "markdown",
   "metadata": {},
   "source": [
    "## 2. Unknown Result\n",
    "### Description\n",
    "In this part you are supposed to define a function $unknown(x, *args)$. Assume that the function accpet $N$ parameters in $*args$, we denote them as $p_0, p_2, \\ldots, p_{N-1}$. The function need to return the value of $\\sum_{i=0}^{N-1}(-1)^{i}\\times p_{i}\\times x^{i}$.\n",
    "### Input \n",
    "A number $x$ and unknown number (not less than 2) of parameters.\n",
    "### Output\n",
    "The result of the equiation given in the description\n",
    "### Sample Input\n",
    "1 1 2\n",
    "### Sample Output\n",
    "-1\n",
    "### Note \n",
    "Considering the errors that raise during the storage and calculation of float numbers, if the difference between your answer and the standard answer is not more than $10^{-3}$, you are correct."
   ]
  },
  {
   "cell_type": "code",
   "execution_count": 5,
   "metadata": {},
   "outputs": [
    {
     "data": {
      "text/plain": [
       "-1"
      ]
     },
     "execution_count": 5,
     "metadata": {},
     "output_type": "execute_result"
    }
   ],
   "source": [
    "# write your code here\n",
    "def unknown(x, *args):\n",
    "    p=0\n",
    "    for i in range(len(args)):\n",
    "        p+=(-1)**i*args[i]*x**i\n",
    "    return p\n",
    "unknown(1,1,2)"
   ]
  },
  {
   "cell_type": "code",
   "execution_count": 6,
   "metadata": {},
   "outputs": [
    {
     "name": "stdout",
     "output_type": "stream",
     "text": [
      "Correct\n",
      "Correct\n",
      "Correct\n",
      "Correct\n",
      "Correct\n",
      "Correct\n",
      "Correct\n"
     ]
    }
   ],
   "source": [
    "# run this block to verify the correctness of your code.\n",
    "# Simply copy the answer is not allowed because TAs will review your codes.\n",
    "testcase = [\n",
    "    [1, 1, 2], \n",
    "    [14, 7.68, 48.28, 50.32, 7.28], \n",
    "    [5, 6.92, 24.12, 20.36, 45.2, 10.88, 58.28], \n",
    "    [15, 32.96, 43.56, 17.88, 58.48, 22.12, 11.4], \n",
    "    [8, 27.36, 31.84, 39.08, 35.8, 46.96, 4.6, 46.2], \n",
    "    [10, 33.52, 38.08, 26.28], \n",
    "    [3, 37.44, 36.12, 14.68, 43.2, 10.28, 29.24]\n",
    "]\n",
    "standard = [-1, -10781.84, -180579.68, -7731017.4399999995, 12136612.32, 2280.7200000000003, -7377.84]\n",
    "for t in range(len(testcase)):\n",
    "    case = testcase[t]\n",
    "    teststr = \"unknown({}\".format(case[0])\n",
    "    for x in case[1:]:\n",
    "        teststr += ',{}'.format(x)\n",
    "    teststr += \")\"\n",
    "    if abs(eval(teststr) - standard[t]) < 1e-3:\n",
    "        print('Correct')\n",
    "    else:\n",
    "        print(\"Wrong\")"
   ]
  },
  {
   "cell_type": "markdown",
   "metadata": {},
   "source": [
    "## 3. Palindrome\n",
    "### Description\n",
    "A palindrom string is a string that reads the same from left to right and from right to left. Now you are supposed to find the palindrome substring with maximum length. If there are many substrings, choose the first to appear.\n",
    "### Input\n",
    "A string $S$\n",
    "### Output\n",
    "$(x, y)$ representing two ends of the substring.\n",
    "### Sample Input\n",
    "\"abbccssdss\"\n",
    "### Sample Output\n",
    "(5, 9)"
   ]
  },
  {
   "cell_type": "code",
   "execution_count": 2,
   "metadata": {},
   "outputs": [
    {
     "data": {
      "text/plain": [
       "(5, 9)"
      ]
     },
     "execution_count": 2,
     "metadata": {},
     "output_type": "execute_result"
    }
   ],
   "source": [
    "# write your code here\n",
    "# any definitions and calls of other functions are allowed.\n",
    "def palindrome_substring(S):\n",
    "    length,left,right=0,0,0\n",
    "    for i in range(len(S)):\n",
    "        for j in range(i+1,len(S)):\n",
    "            if S[i:j+1]==S[j+1:i:-1] and j+1-i>length:\n",
    "                length,left,right=j+1-i,i,j+1\n",
    "    return (left,right)\n",
    "palindrome_substring('abbccssdss')"
   ]
  },
  {
   "cell_type": "code",
   "execution_count": 3,
   "metadata": {},
   "outputs": [
    {
     "name": "stdout",
     "output_type": "stream",
     "text": [
      "Correct\n",
      "Correct\n",
      "Correct\n",
      "Correct\n",
      "Correct\n",
      "Correct\n"
     ]
    }
   ],
   "source": [
    "# run this block to verify the correctness of your code.\n",
    "# Simply copy the answer is not allowed because TAs will review your codes.\n",
    "testcase = [\n",
    "    'abbccssdss', \n",
    "    'ogivvssvvylcuke', \n",
    "    'jptxtmhhqcpojhiihjopcqbxcfuiqfanyfitb', \n",
    "    'kjthdhxvddvxhdnczb', \n",
    "    'aeyiigpazskoaburixuhfedbdrczgukzcyazzayczkuinblyfgfuhbbb', \n",
    "    'srxrcdxxtlalqvwckcjhmhfgkkqqkkgfhmiemcncpjktspypabsmpulm'\n",
    "]\n",
    "standard = [(5, 9), (3, 8), (8, 21), (4, 13), (29, 42), (20, 33)]\n",
    "for x in range(len(testcase)):\n",
    "    case = testcase[x]\n",
    "    print(\"Correct\" if palindrome_substring(case) == standard[x] else \"Wrong\")"
   ]
  },
  {
   "cell_type": "markdown",
   "metadata": {},
   "source": [
    "## 4. Turning Man\n",
    "### Description \n",
    "There is $n\\times m$ matrix on the ground and there is a man at the position $(1,1)$. He is now going towards $(1,m)$ and he wants travel all over the matrix. every time he reachs a boundary of the matrix or he is going to step in a position he had already been to, he will turn right. every step he will only move to his nearby postion. Now TA ZKP wants to know where the man will be after $k$ steps ($k\\le n\\times m -1$) of moving, can you help him.\n",
    "### Input\n",
    "Three integers $n, m$ and $k$.\n",
    "### Output\n",
    "Two integers representing the position of the man.\n",
    "### Sample Input\n",
    "3 4 10\n",
    "### Sample Output\n",
    "2 2\n",
    "### Explanation"
   ]
  },
  {
   "cell_type": "raw",
   "metadata": {},
   "source": [
    "0  1  2  3\n",
    "9 10     4\n",
    "8  7  6  5"
   ]
  },
  {
   "cell_type": "code",
   "execution_count": 59,
   "metadata": {},
   "outputs": [],
   "source": [
    "# write your code here\n",
    "def Move(N, M, k):\n",
    "    pass"
   ]
  },
  {
   "cell_type": "code",
   "execution_count": 60,
   "metadata": {},
   "outputs": [
    {
     "name": "stdout",
     "output_type": "stream",
     "text": [
      "Wrong\n"
     ]
    }
   ],
   "source": [
    "# run this block to verify the correctness of your code.\n",
    "# Simply copy the answer is not allowed because TAs will review your codes.\n",
    "testcase = [[3, 2, 2]]\n",
    "standard = [(2, 2)]\n",
    "for rg in range(len(testcase)):\n",
    "    N, M, K = testcase[rg]\n",
    "    print(\"Correct\" if Move(N, M ,K) == standard[rg] else \"Wrong\")"
   ]
  },
  {
   "cell_type": "markdown",
   "metadata": {},
   "source": [
    "## 5. Geometric Progression \n",
    "### Description\n",
    "Given two integers $a$, $b$ and an integer $p$, return all integers $m$ in the interval $[a,b]$ which starts from $a$ and every $m_{i+1} = m_i \\times p$. \n",
    "\n",
    "### Input\n",
    "An int $a$, an int $b$, an int $p$\n",
    "\n",
    "### Output\n",
    "Integers $m$\n",
    "### Note\n",
    "1. $\\forall i, a\\le m_i\\le b$\n",
    "\n",
    "## Example\n",
    "\n",
    "### ex1.\n",
    "Input: [10,50,2]\n",
    "\n",
    "Output: \n",
    "<br>10\n",
    "<br>20\n",
    "<br>40\n",
    "\n"
   ]
  },
  {
   "cell_type": "code",
   "execution_count": 5,
   "metadata": {},
   "outputs": [],
   "source": [
    "def geo_array(a,b,p):\n",
    "    i=a\n",
    "    res=''\n",
    "    while i <=b:\n",
    "        res=res+str(i)+'\\n'\n",
    "        i*=p\n",
    "    return res"
   ]
  },
  {
   "cell_type": "code",
   "execution_count": 6,
   "metadata": {},
   "outputs": [
    {
     "name": "stdout",
     "output_type": "stream",
     "text": [
      "1\n",
      "3\n",
      "9\n",
      "27\n",
      "81\n",
      "\n",
      "100\n",
      "200\n",
      "400\n",
      "800\n",
      "1600\n",
      "\n",
      "1012\n",
      "2348852\n",
      "5451685492\n",
      "12653362026932\n",
      "29368453264509172\n",
      "68164180026925788212\n",
      "158209061842494754440052\n",
      "367203232536430325055360692\n",
      "852278702717054784453492166132\n",
      "\n"
     ]
    }
   ],
   "source": [
    "testcase=[[1,100,3],[100,2000,2],[1012,12381928394903810981908309131201,2321]]\n",
    "for i in testcase:\n",
    "    print(geo_array(i[0],i[1],i[-1]))"
   ]
  },
  {
   "cell_type": "raw",
   "metadata": {},
   "source": [
    "The output should be:\n",
    "1\n",
    "3\n",
    "9\n",
    "27\n",
    "81\n",
    "\n",
    "\n",
    "100\n",
    "200\n",
    "400\n",
    "800\n",
    "1600\n",
    "\n",
    "\n",
    "1012\n",
    "2348852\n",
    "5451685492\n",
    "12653362026932\n",
    "29368453264509172\n",
    "68164180026925788212\n",
    "158209061842494754440052\n",
    "367203232536430325055360692\n",
    "852278702717054784453492166132"
   ]
  },
  {
   "cell_type": "markdown",
   "metadata": {},
   "source": [
    "## 6. Geometric Progression Upgrade\n",
    "### Description\n",
    "Given two integers $a$, $b$ and an integer $p$, return all integers $m$ in the interval $[a,b]$ which starts from $a$ and every $m_{i+1} = m_i * p$ if i is odd and every $m_{i+1}=m_i* q$ if i is even.  \n",
    "\n",
    "### Input\n",
    "An int $a$, an int $b$, an int $p$, an int $q$\n",
    "\n",
    "### Output\n",
    "Integers $m$\n",
    "### Note\n",
    "1. $\\forall i,a\\le m_i\\le b$\n",
    "\n",
    "## Example\n",
    "\n",
    "### ex1.\n",
    "Input: [10,500,2,5]\n",
    "\n",
    "Output: \n",
    "<br>10\n",
    "<br>50\n",
    "<br>100\n",
    "<br>500"
   ]
  },
  {
   "cell_type": "code",
   "execution_count": 10,
   "metadata": {},
   "outputs": [],
   "source": [
    "def geo_array_up(a,b,p,q):\n",
    "    k=a\n",
    "    res=''\n",
    "    i=1\n",
    "    while k<=b:\n",
    "        res=res+str(k)+'\\n'\n",
    "        if i%2==0:\n",
    "            k*=p\n",
    "        else:\n",
    "            k*=q\n",
    "        i+=1\n",
    "    return res"
   ]
  },
  {
   "cell_type": "code",
   "execution_count": 11,
   "metadata": {},
   "outputs": [
    {
     "name": "stdout",
     "output_type": "stream",
     "text": [
      "1\n",
      "3\n",
      "6\n",
      "18\n",
      "36\n",
      "\n",
      "20\n",
      "260\n",
      "260\n",
      "3380\n",
      "3380\n",
      "43940\n",
      "43940\n",
      "571220\n",
      "571220\n",
      "7425860\n",
      "7425860\n",
      "96536180\n",
      "96536180\n",
      "\n",
      "1000\n",
      "4321000\n",
      "5332114000\n",
      "23040064594000\n",
      "28431439708996000\n",
      "122852250982571716000\n",
      "151599677712493497544000\n",
      "655062207395684402887624000\n",
      "808346763926274553163328016000\n",
      "\n"
     ]
    }
   ],
   "source": [
    "testcase=[[1,100,2,3],[20,200000000,1,13],[1000,12381928394903810981908309131201,1234,4321]]\n",
    "for i in testcase:\n",
    "    print(geo_array_up(i[0],i[1],i[-2],i[-1]))"
   ]
  },
  {
   "cell_type": "markdown",
   "metadata": {},
   "source": [
    "The output should be:\n",
    "<br>1,\n",
    "<br>3\n",
    "<br>6\n",
    "<br>18\n",
    "<br>36\n",
    "\n",
    "<br>20\n",
    "<br>260\n",
    "<br>260\n",
    "<br>3380 <br>3380<br> 43940<br> 43940<br> 571220<br> 571220<br> 7425860<br> 7425860<br> 96536180<br> 96536180\n",
    "\n",
    "<br>1000<br> 4321000\n",
    "<br>5332114000<br> 23040064594000<br> 28431439708996000<br> 122852250982571716000<br> 151599677712493497544000<br> 655062207395684402887624000<br> 808346763926274553163328016000"
   ]
  },
  {
   "cell_type": "markdown",
   "metadata": {},
   "source": [
    "## 7. Modular Inverse\n",
    "  \n",
    "### Description\n",
    "\n",
    "Given a number $n$ and a mod $\\phi (n<\\phi)$, return a nubmer $m$ that $n\\times m \\equiv 1\\mod \\phi$. If no such number $m$, return $-1$\n",
    "\n",
    "\n",
    "### Input \n",
    "An integer $n$, an integer $\\phi$\n",
    "\n",
    "### Output\n",
    "An integer $m$\n",
    "\n",
    "\n",
    "## Example\n",
    "\n",
    "### ex1.\n",
    "Input: [2,5]\n",
    "\n",
    "Output: 3\n",
    "\n",
    "       2*3 = 1 mod 5\n",
    "\n",
    "\n",
    "### ex2.\n",
    "Input: [2,4]\n",
    "\n",
    "Output: -1\n",
    "\n",
    "        gcd(2,4)!=1\n"
   ]
  },
  {
   "cell_type": "code",
   "execution_count": 1,
   "metadata": {},
   "outputs": [],
   "source": [
    "import math\n",
    "def get_inverse(n,phi):\n",
    "    for i in range(1,phi+1):\n",
    "        if (n*i-1)%phi==0:\n",
    "            return i \n",
    "    return -1"
   ]
  },
  {
   "cell_type": "code",
   "execution_count": 2,
   "metadata": {},
   "outputs": [
    {
     "name": "stdout",
     "output_type": "stream",
     "text": [
      "13\n",
      "-1\n",
      "890\n"
     ]
    }
   ],
   "source": [
    "testcase=[[7,15],[2,6],[917,1503]]\n",
    "for i in testcase:\n",
    "    print(get_inverse(i[0],i[-1]))"
   ]
  },
  {
   "cell_type": "markdown",
   "metadata": {},
   "source": [
    "The output should be:\n",
    "<br>13.0\n",
    "<br>-1\n",
    "<br>890.0"
   ]
  },
  {
   "cell_type": "markdown",
   "metadata": {},
   "source": [
    "## 8. Find Pattern\n",
    "  \n",
    "### Description\n",
    "\n",
    "Given a string $n$ and a target pattern $target$ (also a string), print all int $m$ if there is a substring starts from index $m$ in string $n$ and this substring is the same as the pattern string $target$. \n",
    "\n",
    "\n",
    "### Input \n",
    "A string $n$, a string $target$\n",
    "\n",
    "### Output\n",
    "Integers 'm'\n",
    "\n",
    "#### Note\n",
    "1. The pattern may not show in the string\n",
    "2. The length of target will be no longer than the string $(len(target)\\le len(n))$\n",
    "\n",
    "## Example\n",
    "### ex1.\n",
    "Input: [\"adjajdsdadj\",\"dj\"]\n",
    "\n",
    "Output: \n",
    "<br>1\n",
    "<br>9\n",
    "\n",
    "       The index of 'd' in 'dj'\n",
    "### ex2.\n",
    "Input: [\"bbbbbbb\",\"bbbbbb\"]\n",
    "\n",
    "Output: \n",
    "<br>0\n",
    "<br>1\n",
    "\n",
    "       multiple same patterns"
   ]
  },
  {
   "cell_type": "code",
   "execution_count": 5,
   "metadata": {},
   "outputs": [],
   "source": [
    "def find_pattern(n:str,target:str) -> str:\n",
    "    res=''\n",
    "    for i in range(len(n)-len(target)+1):\n",
    "        if n[i]==target[0]:\n",
    "            for j in range(1,len(target)):\n",
    "                if n[i+j]!=target[j]:\n",
    "                    break\n",
    "            res=res+str(i)+'\\n'\n",
    "    return res"
   ]
  },
  {
   "cell_type": "code",
   "execution_count": 6,
   "metadata": {},
   "outputs": [
    {
     "name": "stdout",
     "output_type": "stream",
     "text": [
      "0\n",
      "5\n",
      "10\n",
      "\n",
      "\n",
      "0\n",
      "1\n",
      "2\n",
      "3\n",
      "4\n",
      "5\n",
      "\n"
     ]
    }
   ],
   "source": [
    "testcase=[[\"abcdeabcdeabcdef\",\"abc\"],[\"abcd\",\"efg\"],[\"aaaaaaaa\",\"aaa\"]]\n",
    "for i in testcase:\n",
    "    print(find_pattern(i[0],i[-1]))"
   ]
  },
  {
   "cell_type": "markdown",
   "metadata": {},
   "source": [
    "The output should be:\n",
    "<br>0 <br> 5 <br> 10\n",
    "\n",
    "<br>\n",
    "\n",
    "<br>0<br> 1<br> 2<br> 3<br> 4<br> 5]"
   ]
  },
  {
   "cell_type": "markdown",
   "metadata": {},
   "source": [
    "## 9. Simple Count\n",
    "### Description\n",
    "Given a sentence and calculate the number of letters and digits.\n",
    "\n",
    "### Input\n",
    "A string $s$\n",
    "\n",
    "### Output\n",
    "Two integers representing the number letters and digits\n",
    "\n",
    "### Sample Input1\n",
    "$s$ = \"hello world! 123\"\n",
    "\n",
    "### Sample Output1\n",
    "10 3\n",
    "\n",
    "### Sample Input2\n",
    "$s$ = \"3.1415926\"\n",
    "\n",
    "### Sample Output2\n",
    "0 8\n",
    "\n"
   ]
  },
  {
   "cell_type": "code",
   "execution_count": 12,
   "metadata": {},
   "outputs": [
    {
     "data": {
      "text/plain": [
       "(1, 1)"
      ]
     },
     "execution_count": 12,
     "metadata": {},
     "output_type": "execute_result"
    }
   ],
   "source": [
    "# write your code here\n",
    "# Any definitions and calls of other functions are allowed\n",
    "def simple_count(s):\n",
    "    letter,num=0,0\n",
    "    for i in s:\n",
    "        if i.isdigit():\n",
    "            num+=1\n",
    "        elif i.islower() or i.isupper():\n",
    "            letter+=1\n",
    "    return letter,num"
   ]
  },
  {
   "cell_type": "markdown",
   "metadata": {},
   "source": [
    "## 10. Greatest Common Divisor\n",
    "### Description\n",
    "Calculate the greatest common divisor of two positive integers.\n",
    "\n",
    "### Input\n",
    "Two positive integers $a$, $b$\n",
    "\n",
    "### Output\n",
    "The greatest common divisor\n",
    "\n",
    "### Hint\n",
    "Besides brute force, try Euclidean algorithm（辗转相除） to solve this problem\n",
    "\n",
    "### Sample Input1\n",
    "$a$ = 9, $b$ = 6\n",
    "\n",
    "### Sample Output1\n",
    "3\n",
    "\n",
    "### Sample Input2\n",
    "$a$ = 15750, $b$ = 27216\n",
    "\n",
    "### Sample Output2\n",
    "126\n",
    "\n"
   ]
  },
  {
   "cell_type": "code",
   "execution_count": 17,
   "metadata": {},
   "outputs": [
    {
     "name": "stdout",
     "output_type": "stream",
     "text": [
      "126\n",
      "126\n"
     ]
    }
   ],
   "source": [
    "# write your code here\n",
    "# Any definitions and calls of other functions are allowed\n",
    "def gcd(a,b):\n",
    "    a,b=min(a,b),max(a,b)\n",
    "    while b%a!=0:\n",
    "        a,b=b%a,a\n",
    "    return a\n",
    "print(gcd(15750,27216))\n",
    "import math\n",
    "print(math.gcd(15750,27216))"
   ]
  },
  {
   "cell_type": "markdown",
   "metadata": {},
   "source": [
    "## 11. Valid Date\n",
    "### Description\n",
    "Given a string in the form of Year-Month-Day and judge whether it is a valid date.\n",
    "\n",
    "### Input\n",
    "a string in the form of Year-Month-Day\n",
    "\n",
    "### Output\n",
    "A boolen value\n",
    "\n",
    "### Sample Input1\n",
    "$date$ = \"2004-2-29\"\n",
    "\n",
    "### Sample Output1\n",
    "True\n",
    "\n",
    "### Sample Input2\n",
    "$date$ = \"2003-2-29\"\n",
    "\n",
    "### Sample Output2\n",
    "False\n",
    "\n",
    "### Sample Input3\n",
    "$date$ = \"2004-2-30\"\n",
    "\n",
    "### Sample Output3\n",
    "False\n",
    "\n",
    "### Sample Input3\n",
    "$date$ = \"2004-3-30\"\n",
    "\n",
    "### Sample Output3\n",
    "True"
   ]
  },
  {
   "cell_type": "code",
   "execution_count": 21,
   "metadata": {},
   "outputs": [],
   "source": [
    "# write your code here\n",
    "# Any definitions and calls of other functions are allowed\n",
    "def is_leapyear(year:int):\n",
    "    if year%400==0 or (year%100!=0 and year%4==0):\n",
    "        return True\n",
    "    else:return False\n",
    "def date_valid(date):\n",
    "    monthallow={1:31,3:31,5:31,7:31,8:31,10:31,12:31,4:30,6:30,9:30,11:30}\n",
    "    item=[int(i) for i in date.split(\"-\")]\n",
    "    if item[1]==2:\n",
    "        if is_leapyear(item[0]):\n",
    "            if item[2]<=29 and item[2]>=1:\n",
    "                return True\n",
    "            else:return False\n",
    "        else:\n",
    "            if item[2]<=28 and item[2]>=1:\n",
    "                return True\n",
    "            else:return False\n",
    "    else:\n",
    "        if item[2]<=monthallow[item[1]]:\n",
    "            return True\n",
    "        else:return False"
   ]
  },
  {
   "cell_type": "markdown",
   "metadata": {},
   "source": [
    "## 12. Recursive Multiplication\n",
    "### Description\n",
    "Use recursive to implement multiplication of two positive integers without using $*$. \n",
    "\n",
    "### Input\n",
    "Two positive integers $A$, $B$\n",
    "\n",
    "### Output\n",
    "A positive integer\n",
    "\n",
    "### Note\n",
    "$+$, $-$, $<<$, $>>$ are allowed\n",
    "\n",
    "### Sample Input1\n",
    "$A$ = 1\n",
    "\n",
    "$B$ = 10\n",
    "\n",
    "### Sample Output1\n",
    "10\n",
    "\n",
    "### Sample Input2\n",
    "$A$ = 3\n",
    "\n",
    "$B$ = 4\n",
    "\n",
    "### Sample Output2\n",
    "12"
   ]
  },
  {
   "cell_type": "code",
   "execution_count": 25,
   "metadata": {},
   "outputs": [
    {
     "name": "stdout",
     "output_type": "stream",
     "text": [
      "10\n"
     ]
    }
   ],
   "source": [
    "# write your code here\n",
    "# Any definitions and calls of other functions are allowed\n",
    "def multiply(A,B):\n",
    "    A,B=min(A,B),max(A,B)\n",
    "    res=0\n",
    "    for i in range(A):\n",
    "        res+=B\n",
    "    return res\n",
    "x = 5\n",
    "x = x << 1 # 二进制左移一位\n",
    "print(x)"
   ]
  },
  {
   "cell_type": "markdown",
   "metadata": {},
   "source": [
    "## 13. Find all digits\n",
    "Given a string, find all digits in it.\n",
    "### Input\n",
    "A string s contains only lowercase letters and digits.\n",
    "### Output\n",
    "A string contains all digits in order of appearance in the given string s.\n",
    "### Example\n",
    "Input: '12fa35y6'\n",
    "\n",
    "Output: '12356'"
   ]
  },
  {
   "cell_type": "code",
   "execution_count": 30,
   "metadata": {},
   "outputs": [
    {
     "name": "stdout",
     "output_type": "stream",
     "text": [
      "12356\n",
      "12356\n"
     ]
    }
   ],
   "source": [
    "# write your code here\n",
    "# Any definitions and calls to other functions are allowed\n",
    "def findAllDigits(s):\n",
    "    res=''\n",
    "    for i in s:\n",
    "        if i.isdigit():\n",
    "            res+=i\n",
    "    return res\n",
    "def findAllDigits2(s):\n",
    "    import re\n",
    "    pattern1=re.compile(\"\\d\")\n",
    "    return \"\".join(pattern1.findall(s))\n",
    "print(findAllDigits('12fa35y6'))\n",
    "print(findAllDigits2('12fa35y6'))"
   ]
  },
  {
   "cell_type": "markdown",
   "metadata": {},
   "source": [
    "## 14. Product of all the factors\n",
    "Given a integer $n$, find all its factors and the product of these numbers.\n",
    "### Input\n",
    "A integer $n$\n",
    "### Output\n",
    "A integer $m$\n",
    "### Note\n",
    "If $m > 10000$, output $m \\mod 2333$\n",
    "### Example\n",
    "Input: 10\n",
    "\n",
    "Output: 100(=1* 2* 5* 10)\n"
   ]
  },
  {
   "cell_type": "code",
   "execution_count": 34,
   "metadata": {},
   "outputs": [
    {
     "data": {
      "text/plain": [
       "'100(=1*10*2*5)'"
      ]
     },
     "execution_count": 34,
     "metadata": {},
     "output_type": "execute_result"
    }
   ],
   "source": [
    "# write your code here\n",
    "# Any definitions and calls to other functions are allowed\n",
    "def factorProduct(s1):\n",
    "    if s1>10000:\n",
    "        return f\"{s1}  mod 2333\"\n",
    "    else:\n",
    "        factors=[1,s1]\n",
    "        for i in range(2,int(s1**0.5)+1):\n",
    "            if s1%i==0:\n",
    "                factors+=[i,s1/i]\n",
    "        product=1\n",
    "        for i in factors:\n",
    "            product*=i\n",
    "        factors=[str(int(item)) for item in factors]\n",
    "        res=f\"{product:.0f}(=\"+\"*\".join(factors)+\")\"\n",
    "        return res\n",
    "factorProduct(10)"
   ]
  },
  {
   "cell_type": "markdown",
   "metadata": {},
   "source": [
    "## 15. Find all perfect number\n",
    "Given a number $n$, find all perfect numbers which are strictly smaller than $n$.\n",
    "### Input\n",
    "A integer $n$\n",
    "### Output\n",
    "print all perfect number\n",
    "### Note\n",
    "A number $i$ is a perfect number if and only if $0 \\le i$ and exist integer $k$ such that $k\\times k-1=i$\n",
    "### Example\n",
    "Input: 4\n",
    "\n",
    "Output: <br>\n",
    "0<br>\n",
    "3"
   ]
  },
  {
   "cell_type": "code",
   "execution_count": 35,
   "metadata": {},
   "outputs": [
    {
     "data": {
      "text/plain": [
       "[0, 3, 8, 15, 24, 35, 48, 63, 80, 99]"
      ]
     },
     "execution_count": 35,
     "metadata": {},
     "output_type": "execute_result"
    }
   ],
   "source": [
    "# write your code here\n",
    "# Any definitions and calls to other functions are allowed\n",
    "def findPerfectNum(s1):\n",
    "    p=1\n",
    "    res=[]\n",
    "    while p*p-1<s1:\n",
    "        res.append(p*p-1)\n",
    "        p+=1\n",
    "    return res\n",
    "findPerfectNum(100)"
   ]
  },
  {
   "cell_type": "markdown",
   "metadata": {},
   "source": [
    "## 16. Is Prime\n",
    "Given two integer $m$ and $n$, decide if $num(m<num<n)$ is a prime. If $num$ is, print: 'num is a prime'. If $num$ is not a prime, print: 'num = f1 * f2', where f1,f2 is a pair of factors of $num$(any pair is OK).\n",
    "### Input\n",
    "two integer $m$, $n$\n",
    "### Output\n",
    "print output\n",
    "### Example\n",
    "Input: 9, 20\n",
    "\n",
    "Output:\n",
    "\n",
    "10 = 2 * 5\n",
    "\n",
    "11 is a prime\n",
    "\n",
    "12 = 2 * 6\n",
    "\n",
    "13 is a prime\n",
    "\n",
    "14 = 2 * 7\n",
    "\n",
    "15 = 3 * 5\n",
    "\n",
    "16 = 2 * 8\n",
    "\n",
    "17 is a prime\n",
    "\n",
    "18 = 2 * 9\n",
    "\n",
    "19 is a prime"
   ]
  },
  {
   "cell_type": "code",
   "execution_count": 36,
   "metadata": {},
   "outputs": [
    {
     "name": "stdout",
     "output_type": "stream",
     "text": [
      "10=2*5\n",
      "11 is a prime\n",
      "12=2*6\n",
      "13 is a prime\n",
      "14=2*7\n",
      "15=3*5\n",
      "16=2*8\n",
      "17 is a prime\n",
      "18=2*9\n",
      "19 is a prime\n"
     ]
    }
   ],
   "source": [
    "# write your code here\n",
    "# Any definitions and calls to other functions are allowed\n",
    "def factor(num:int)->tuple:\n",
    "    if num==2:\n",
    "        return 1,2\n",
    "    if num%2==0:\n",
    "        return 2,num//2\n",
    "    for i in range(3,int(num**0.5)+1,2):\n",
    "        if num%i==0:\n",
    "            return i,num//i\n",
    "    return 1,num\n",
    "def isPrime(m,n):\n",
    "    for i in range(m+1,n):\n",
    "        if i==1:\n",
    "            continue\n",
    "        mi,ma=factor(i)\n",
    "        if mi==1:\n",
    "            print(f\"{i} is a prime\")\n",
    "        else:print(f\"{i}={mi}*{ma}\")\n",
    "    return\n",
    "isPrime(9,20)        "
   ]
  },
  {
   "cell_type": "markdown",
   "metadata": {},
   "source": [
    "## 17. Count trailing zeroes in factorial of a number"
   ]
  },
  {
   "cell_type": "code",
   "execution_count": null,
   "metadata": {},
   "outputs": [],
   "source": [
    "def findTrailingZeros(n):\n",
    "    p=0\n",
    "    while n%10==0:\n",
    "        n//=10\n",
    "        p+=1\n",
    "    return p\n",
    "findTrailingZeros(100)"
   ]
  },
  {
   "cell_type": "markdown",
   "metadata": {},
   "source": [
    "## 18. Design an algorithm to calculate Euler number (e). \n",
    "**Do not use any provided functions.**\n",
    "\n",
    "100 digits precision is needed.\n",
    "\n",
    "hints: check decimal usage in the first homework."
   ]
  },
  {
   "cell_type": "code",
   "execution_count": 1,
   "metadata": {},
   "outputs": [],
   "source": [
    "# write your code here\n"
   ]
  },
  {
   "cell_type": "markdown",
   "metadata": {},
   "source": [
    "## 19. Is Subsequence\n",
    "Given a string $s$ and a string $t$, check if $s$ is subsequence of $t$.\n",
    "\n",
    "A subsequence of a string is a new string which is formed from the original string by deleting some (can be none) of the characters without disturbing the relative positions of the remaining characters. (ie, \"ace\" is a subsequence of \"abcde\" while \"aec\" is not).\n",
    "\n",
    "### Example 1:\n",
    "\n",
    "Input: s = \"abc\", t = \"ahbgdc\"\\\n",
    "Output: true<br>\n",
    "\n",
    "### Example 2:\n",
    "\n",
    "Input: s = \"axc\", t = \"ahbgdc\"\\\n",
    "Output: false\n",
    " \n",
    "\n",
    "### Constraints:\n",
    "\n",
    "$0 \\le s.length \\le 100$<br>\n",
    "$0 \\le t.length \\le 10^4$\\\n",
    "Both strings consists only of lowercase characters."
   ]
  },
  {
   "cell_type": "code",
   "execution_count": 43,
   "metadata": {},
   "outputs": [],
   "source": [
    "def IsSubsequence(s:str,t:str)->bool:\n",
    "    for letter in s:\n",
    "        inde=t.find(letter)\n",
    "        if inde==-1:\n",
    "            return False\n",
    "        t=t[0:inde]+t[inde+1:]\n",
    "    return True"
   ]
  },
  {
   "cell_type": "markdown",
   "metadata": {},
   "source": [
    "## 20. reverse a positive number\n",
    "Give you a positive number, reverse this number,\\\n",
    "For example,\\\n",
    "input:123456\\\n",
    "output:654321\n",
    "### Note\n",
    "**Do not use any string related methods.**"
   ]
  },
  {
   "cell_type": "code",
   "execution_count": null,
   "metadata": {},
   "outputs": [],
   "source": [
    "def reverseposnum(n:int)->int:\n",
    "    p=[]\n",
    "    while (n//10)!=0 or (n>0 and n<10):\n",
    "        p.append(n%10)\n",
    "        n=n//10\n",
    "    dig10=len(p)\n",
    "    q=0\n",
    "    for i in range(dig10):\n",
    "        q+=p[i]*10**(dig10-1-i)\n",
    "    return q\n",
    "print(reverseposnum(123456789))"
   ]
  },
  {
   "cell_type": "markdown",
   "metadata": {},
   "source": [
    "## 21. Write the Result\n",
    "Write the output of these programs without the help of computer. Then run these programs to check if your result is correct.\n",
    "\n",
    "   ```python\n",
    "   x = 1\n",
    "   if x == 1:\n",
    "       print(\"x=1\")\n",
    "       x = 2\n",
    "   elif x == 2:\n",
    "       print(\"x=2\")\n",
    "   else:\n",
    "       print(\"x\")\n",
    "   print(x)\n",
    "   ```\n",
    "\n",
    "   ------------------\n",
    "   \n",
    "   ```python\n",
    "   for i in range(1, 11, 2):\n",
    "       print(i, end=' ')\n",
    "       i = 9\n",
    "   print()\n",
    "   ```"
   ]
  },
  {
   "cell_type": "markdown",
   "metadata": {},
   "source": [
    "Answer: \n",
    "x=1\\\n",
    "2\\\n",
    "1 3 5 7 9 "
   ]
  },
  {
   "cell_type": "code",
   "execution_count": 2,
   "metadata": {},
   "outputs": [
    {
     "name": "stdout",
     "output_type": "stream",
     "text": [
      "x=1\n",
      "2\n",
      "1 3 5 7 9 \n"
     ]
    }
   ],
   "source": [
    "x = 1\n",
    "if x == 1:\n",
    "    print(\"x=1\")\n",
    "    x = 2\n",
    "elif x == 2:\n",
    "    print(\"x=2\")\n",
    "else:\n",
    "    print(\"x\")\n",
    "print(x)\n",
    "for i in range(1, 11, 2):\n",
    "    print(i, end=' ')\n",
    "    i = 9\n",
    "print()"
   ]
  },
  {
   "cell_type": "markdown",
   "metadata": {},
   "source": [
    "## 22.\n",
    "Given a non-negative integer $n$, write a function to do this: if $n < 10$, $n$ become the sum of all its digits. Repeat this process until $n < 10$. Return the final value.\n",
    "\n",
    "```python\n",
    ">>> print(add_digit(10))  # explanation: 1 + 0 = 1\n",
    "1\n",
    ">>> print(add_digit(555))  # explanation: 5 + 5 + 5 = 15; 1 + 5 = 6\n",
    "6\n",
    "```"
   ]
  },
  {
   "cell_type": "code",
   "execution_count": 5,
   "metadata": {},
   "outputs": [
    {
     "data": {
      "text/plain": [
       "6"
      ]
     },
     "execution_count": 5,
     "metadata": {},
     "output_type": "execute_result"
    }
   ],
   "source": [
    "def add_digit(digit:int)->int:\n",
    "    if digit<10:\n",
    "        return digit\n",
    "    return add_digit(sum([int(i) for i in str(digit)]))\n",
    "add_digit(555)"
   ]
  },
  {
   "cell_type": "markdown",
   "metadata": {},
   "source": [
    "## 23.\n",
    "Write function for an integer $n$. If $n$ is negative, you should let $n$ become its absolute value firstly. Then count the number of digit 1 in the binary form.\n",
    "\n",
    "```python\n",
    ">>> print(count_one(5))  # 5 is 0b101 in binary form (0b is the prefix to show that this number is in binary form)\n",
    "2\n",
    ">>> print(count_one(-7))  # Firstly -7 becomes 7. 7 is 0b111.\n",
    "3\n",
    "```"
   ]
  },
  {
   "cell_type": "code",
   "execution_count": 6,
   "metadata": {},
   "outputs": [
    {
     "data": {
      "text/plain": [
       "3"
      ]
     },
     "execution_count": 6,
     "metadata": {},
     "output_type": "execute_result"
    }
   ],
   "source": [
    "def count_one(i:int)->int:\n",
    "    if i<0:\n",
    "        i=-i\n",
    "    item=list(bin(i))\n",
    "    res=0\n",
    "    for k in item:\n",
    "        if k=='1':\n",
    "            res+=1\n",
    "    return res\n",
    "count_one(7)"
   ]
  },
  {
   "cell_type": "markdown",
   "metadata": {},
   "source": [
    "## 24.\n",
    "Given a integer $n$, you have $k \\ (k > 0)$ chances to guess this number. Use function \"input()\" to guess the number. If the number you guess is equal to $n$, print \"Right!\" and stop the function. If the number is smaller, print \"Too small!\". If the number is larger, print \"Too large!\". If you run out of the chances, print \"The real number is \" + str(n) + \".\". Write a function (the first argument is $n$ and the second is $k$) to simulate it.\n",
    "\n",
    "```python\n",
    ">>> guess(9, 3)\n",
    "Input: 2\n",
    "Too small!\n",
    "Input: 12\n",
    "Too large!\n",
    "Input: 11\n",
    "Too large!\n",
    "The real number is 9.\n",
    ">>> guess(8, 3)\n",
    "Input: 4\n",
    "Too small!\n",
    "Input: 8\n",
    "Right!\n",
    "```"
   ]
  },
  {
   "cell_type": "code",
   "execution_count": 9,
   "metadata": {},
   "outputs": [
    {
     "name": "stdin",
     "output_type": "stream",
     "text": [
      "Input:  2\n"
     ]
    },
    {
     "name": "stdout",
     "output_type": "stream",
     "text": [
      "Too small!\n"
     ]
    },
    {
     "name": "stdin",
     "output_type": "stream",
     "text": [
      "Input:  12\n"
     ]
    },
    {
     "name": "stdout",
     "output_type": "stream",
     "text": [
      "Too large!\n"
     ]
    },
    {
     "name": "stdin",
     "output_type": "stream",
     "text": [
      "Input:  11\n"
     ]
    },
    {
     "name": "stdout",
     "output_type": "stream",
     "text": [
      "Too large!\n",
      "The real number is 9.\n"
     ]
    },
    {
     "name": "stdin",
     "output_type": "stream",
     "text": [
      "Input:  4\n"
     ]
    },
    {
     "name": "stdout",
     "output_type": "stream",
     "text": [
      "Too small!\n"
     ]
    },
    {
     "name": "stdin",
     "output_type": "stream",
     "text": [
      "Input:  8\n"
     ]
    },
    {
     "name": "stdout",
     "output_type": "stream",
     "text": [
      "Right!\n"
     ]
    }
   ],
   "source": [
    "def guess(n:int,k:int)->None:\n",
    "    for i in range(k):\n",
    "        x=int(input(\"Input: \"))\n",
    "        if x==n:\n",
    "            print(\"Right!\")\n",
    "            return\n",
    "        elif x>n:\n",
    "            print(\"Too large!\")\n",
    "        elif x<n:\n",
    "            print(\"Too small!\")\n",
    "    print(f\"The real number is {n}.\")\n",
    "    return\n",
    "guess(9,3)\n",
    "guess(8,3)"
   ]
  },
  {
   "cell_type": "markdown",
   "metadata": {},
   "source": [
    "## 25.\n",
    "There are $n$ steps. Every time you can choose to climb 3 or 5 steps once. Calculate the number of different schemes to climb $n$ steps.\n",
    "\n",
    "   ```python\n",
    "   >>> print(climb(1))\n",
    "   0\n",
    "   >>> print(climb(2))\n",
    "   0\n",
    "   >>> print(climb(3))\n",
    "   1\n",
    "   >>> print(climb(15))  # Explanation: You can choose 3+3+3+3+3 or 5+5+5.\n",
    "   2\n",
    "   >>> print(climb(11))  # Explanation: You can choose 3+3+5 or 3+5+3 or 5+3+3.\n",
    "   3\n",
    "   ```\n",
    "   \n",
    "   Advanced Problem:  If you end up with less than five steps left, you can still use one jump to get to the top. Find the number of different schemes.\n",
    "   \n",
    "   ```python\n",
    "   >>> print(climb_plus(1))  # Explanation: You can use 1 jump to reach the top.\n",
    "   1\n",
    "   >>> print(climb_plus(2))  # 2\n",
    "   1\n",
    "   >>> print(climb_plus(3))  # 3\n",
    "   1\n",
    "   >>> print(climb_plus(4))  # 4 or 3+1\n",
    "   2\n",
    "   >>> print(climb_plus(5))  # 5 or 3+2\n",
    "   2\n",
    "   >>> print(climb_plus(9))  # 3+3+3 3+5+1 5+4 5+3+1\n",
    "   4\n",
    "   >>> print(climb_plus(11))  # 3+3+3+2 3+3+5 3+5+3 5+3+3 5+5+1\n",
    "   5\n",
    "   >>> print(climb_plus(12))  # 3+3+3+3 3+3+5+1 3+5+3+1 3+5+4 5+3+3+1 5+3+4 5+5+2\n",
    "   7\n",
    "   ```"
   ]
  },
  {
   "cell_type": "code",
   "execution_count": 14,
   "metadata": {},
   "outputs": [
    {
     "name": "stdout",
     "output_type": "stream",
     "text": [
      "climb(1):0\n",
      "climb_plus(1):1\n",
      "climb(2):0\n",
      "climb_plus(2):1\n",
      "climb(3):1\n",
      "climb_plus(3):1\n",
      "climb(4):0\n",
      "climb_plus(4):2\n",
      "climb(5):1\n",
      "climb_plus(5):2\n",
      "climb(9):1\n",
      "climb_plus(9):4\n",
      "climb(11):3\n",
      "climb_plus(11):5\n",
      "climb(12):1\n",
      "climb_plus(12):7\n"
     ]
    }
   ],
   "source": [
    "def climb(n:int)->int:\n",
    "    if n==3 or n==5:\n",
    "        return 1\n",
    "    elif n in {1,2,4}:\n",
    "        return 0\n",
    "    elif n<=0:\n",
    "        return \"Error, n<=0\"\n",
    "    else:\n",
    "        return climb(n-3)+climb(n-5)\n",
    "\n",
    "def climb_plus(n:int)->int:\n",
    "    if n in {1,2,3}:\n",
    "        return 1\n",
    "    elif n in {4,5}:return 2\n",
    "    elif n>5:\n",
    "        return climb_plus(n-3)+climb_plus(n-5)\n",
    "    else: return \"Error, unreasonable n.\"\n",
    "    \n",
    "for i in [1,2,3,4,5,9,11,12]:\n",
    "    print(f\"climb({i}):{climb(i)}\")\n",
    "    print(f\"climb_plus({i}):{climb_plus(i)}\")\n"
   ]
  },
  {
   "cell_type": "markdown",
   "metadata": {},
   "source": [
    "## 26. Ring Target\n",
    "### Description\n",
    "Realize a function to print a $n\\times n$ square ring target.<br/>\n",
    "<img src=\"4-2.png\" style=\"zoom:60%\"/>\n",
    "### Input\n",
    "A positive integer $n$.\n",
    "### Output \n",
    "A square ring target.\n",
    "### Note\n",
    "$1\\leq n \\leq 9$\n",
    "### Example 1\n",
    "#### Input\n",
    "$n = 5$\n",
    "#### Output\n",
    "1 1 1 1 1 <br/>\n",
    "1 2 2 2 1 <br/>\n",
    "1 2 3 2 1 <br/>\n",
    "1 2 2 2 1 <br/>\n",
    "1 1 1 1 1\n",
    "### Example 2\n",
    "#### Input\n",
    "$n = 8$\n",
    "#### Output\n",
    "1 1 1 1 1 1 1 1 <br/>\n",
    "1 2 2 2 2 2 2 1 <br/>\n",
    "1 2 3 3 3 3 2 1 <br/>\n",
    "1 2 3 4 4 3 2 1 <br/>\n",
    "1 2 3 4 4 3 2 1 <br/>\n",
    "1 2 3 3 3 3 2 1 <br/>\n",
    "1 2 2 2 2 2 2 1 <br/>\n",
    "1 1 1 1 1 1 1 1"
   ]
  },
  {
   "cell_type": "code",
   "execution_count": 1,
   "metadata": {},
   "outputs": [],
   "source": [
    "# write your code here\n",
    "def Print_target(n):\n",
    "    "
   ]
  },
  {
   "cell_type": "code",
   "execution_count": 2,
   "metadata": {},
   "outputs": [
    {
     "name": "stdout",
     "output_type": "stream",
     "text": [
      "\n",
      "\n",
      "\n",
      "\n",
      "\n",
      "\n",
      "\n",
      "\n",
      "\n"
     ]
    }
   ],
   "source": [
    "for i in range(1, 10):\n",
    "    Print_target(i)\n",
    "    print()"
   ]
  },
  {
   "cell_type": "markdown",
   "metadata": {},
   "source": [
    "## 27. Cutting line\n",
    "### Description\n",
    "Given a square $ABCD$, $A(-L,-L), B(L, -L), C(L, L), D(-L, L),\\ L\\in\\mathbb{R}_+$, and a straight line $Ax+By+C=0$. Find the length of the segment cut by the square.\n",
    "<img src=\"./4-1.png\" style=\"zoom:50%\"/>\n",
    "### Input\n",
    "A positive real number $L$. <br/>\n",
    "Three real number $A,B,C$.\n",
    "### Output\n",
    "The length. <br/>*If the square and the straight line do not intersect, return 0.*\n",
    "### Note\n",
    "$0< L \\leq 10$, $|A|,|B|,|C| < 10$. <br/>\n",
    "**Accept floating point error ($<1e-4$).** <br/>\n",
    "It is necessary to use some \"if\", but think twice before writing too many \"if\" to solve this problem.\n",
    "### Example 1\n",
    "#### Input\n",
    "L = 4<br/>\n",
    "A = 1<br/>\n",
    "B = 1<br/>\n",
    "C = -2\n",
    "#### Output\n",
    "8.485281374238571\n",
    "### Example 2\n",
    "#### Input\n",
    "L = 2 <br/>\n",
    "A = 1 <br/>\n",
    "B = 0 <br/>\n",
    "C = 1 \n",
    "#### Output\n",
    "4.0\n",
    "### Example 3\n",
    "#### Input\n",
    "L = 3 <br/>\n",
    "A = 3 <br/>\n",
    "B = 1 <br/>\n",
    "C = -3 \n",
    "#### Output\n",
    "6.324555320336759"
   ]
  },
  {
   "cell_type": "code",
   "execution_count": 6,
   "metadata": {},
   "outputs": [],
   "source": [
    "# write your code here\n",
    "def Cut_length(L, A, B ,C):\n",
    "    return 0"
   ]
  },
  {
   "cell_type": "code",
   "execution_count": 7,
   "metadata": {},
   "outputs": [
    {
     "name": "stdout",
     "output_type": "stream",
     "text": [
      "False\n",
      "False\n",
      "False\n",
      "False\n",
      "False\n",
      "False\n",
      "False\n",
      "False\n",
      "False\n",
      "False\n",
      "False\n",
      "False\n",
      "False\n",
      "False\n",
      "False\n",
      "False\n",
      "False\n",
      "False\n"
     ]
    }
   ],
   "source": [
    "import math\n",
    "L = [4, 2, 3, 2, 1, 2, 5, 4, 4, 1, 5, 1, 3, 3, 5, 3, 4, 4]\n",
    "A = [1, 1, 3, 2, 5, -3, 2, 0, 5, 4, 5, 0, 5, -2, 1, 0, 5, 2]\n",
    "B = [1, 0, 1, 3, 3, 3, 5, -2, 0, -4, -5, -2, -3, 4, -4, -4, 1, 2]\n",
    "C = [-2, 1, -3, 4, 1, 0, 7, 0, 15, 5, 25, 0, 17, 3, 18, 8, 13, 9]\n",
    "Ans = [8.48528137423857, 4.0, 6.324555320336759, 3.6055512754639887, 2.33238075793812, 5.65685424949238, 10.770329614269007, 8.0, 8.0, 1.0606601717798216, 7.071067811865476, 2.0, 2.7211108842611424, 6.708203932499369, 7.2154348448309085, 6.0, 8.158431221748456, 4.949747468305833]\n",
    "for i in range(len(L)):\n",
    "    print(math.fabs(Cut_length(L[i], A[i], B[i], C[i]) - Ans[i]) < 1e-4)"
   ]
  },
  {
   "cell_type": "markdown",
   "metadata": {},
   "source": [
    "## 28. Maximize Least Common Multiple\n",
    "### Description\n",
    "Given an interval $[L,R]\\ (L,R\\in\\mathbb{N}_+, R - L \\geq 2)$, choose $3$ integers from the interval to maximize their least common multiple.\n",
    "### Input\n",
    "Two integers $L$ and $R$.\n",
    "### Output\n",
    "The maximum of the least common multiple.\n",
    "### Note\n",
    "$R - L \\geq 2$<br/> $1\\leq L, R \\leq 10^9$ <br/>\n",
    "**hint**: <br/>$lcm(n, n+1) = n(n+1), \\forall n\\in\\mathbb{N}_+$ <br/> Only a very small number of combinations are possible to be the answer<br/> To solve this problem, you may use \"if\".<br/>\n",
    "\n",
    "### Example 1\n",
    "#### Input\n",
    "L = 2<br/>\n",
    "R = 4\n",
    "#### Output\n",
    "12\n",
    "### Example 2\n",
    "#### Input\n",
    "L = 3 <br/>\n",
    "R = 8\n",
    "#### Output\n",
    "280\n",
    "#### Explanation\n",
    "lcm(5, 7, 8) = 280\n",
    "### Example 3\n",
    "#### Input\n",
    "L = 4 <br/>\n",
    "R = 9\n",
    "#### Output\n",
    "504\n",
    "#### Explanation\n",
    "lcm(7, 8, 9) = 504"
   ]
  },
  {
   "cell_type": "code",
   "execution_count": 25,
   "metadata": {},
   "outputs": [],
   "source": [
    "# write your code here\n",
    "def Max_lcm(L, R):\n",
    "    pass"
   ]
  },
  {
   "cell_type": "code",
   "execution_count": 26,
   "metadata": {},
   "outputs": [
    {
     "name": "stdout",
     "output_type": "stream",
     "text": [
      "False\n",
      "False\n",
      "False\n",
      "False\n",
      "False\n",
      "False\n",
      "False\n",
      "False\n",
      "False\n",
      "False\n",
      "False\n",
      "False\n",
      "False\n",
      "False\n",
      "False\n",
      "False\n",
      "False\n",
      "False\n",
      "False\n",
      "False\n",
      "False\n",
      "False\n",
      "False\n",
      "False\n",
      "False\n",
      "False\n",
      "False\n",
      "False\n",
      "False\n",
      "False\n"
     ]
    }
   ],
   "source": [
    "LR = [(7, 14), (5, 15), (5, 7), (3, 11), (8, 13), (99, 115), (25, 54), (5, 21), (50, 56), (62, 77), (410, 508), (472, 569), (357, 427), (319, 320), (281, 367),\n",
    "(4087, 4417), (4804, 4884), (1416, 2114), (4133, 4670), (4211, 4593), (47911, 56531), (43506, 48130), (39014, 42050), (12507, 17061), (42951, 46772), \n",
    "(386090429, 429329748), (445568333, 502492199), (324960342, 343679806), (391138842, 467161404), (165489198, 247759951)]\n",
    "Ans = [2002, 2730, 210, 990, 1716, 1481430, 140556, 7980, 163240, 438900, 130065780, 183249864, 77308350, 16230720, 49027530, 86116658880, 116357212086, 9429587902, 101760341410, 96829038096, 180649580020470, 111483729953790, 74345842441150, 4965203798940, 102310611552028, 79135789325242433717123190, 126878480555475364610374194, 40594017868129092236387490, 101953199503437070582535406, 15208742752825217952115050]\n",
    "for i in range(len(LR)):\n",
    "    print(Max_lcm(LR[i][0], LR[i][1]) == Ans[i])"
   ]
  },
  {
   "cell_type": "markdown",
   "metadata": {},
   "source": [
    "## 29. Twin Primes\n",
    "### Description\n",
    "If $p$ and $p+2$ are both primes, $(p,p+2)$ are called twin primes. Given a positive number $n$, find the number of twin primes pair $(p,p+2)$ satisfying $p+2\\leq n$.\n",
    "### Input\n",
    "A positive integer $n$\n",
    "### Output\n",
    "The number of twin primes pair\n",
    "### Note \n",
    "$5\\leq n\\leq 1000$\n",
    "### Example 1\n",
    "#### Input\n",
    "20\n",
    "#### Output\n",
    "4\n",
    "#### Explanation\n",
    "(3,5), (5,7), (11,13), (17,19)"
   ]
  },
  {
   "cell_type": "code",
   "execution_count": 10,
   "metadata": {},
   "outputs": [],
   "source": [
    "# write your code here\n",
    "def Twin_Prime(n):\n",
    "    pass"
   ]
  },
  {
   "cell_type": "markdown",
   "metadata": {},
   "source": [
    "## 30. Best Meeting Point\n",
    "A group of two or more people wants to meet and minimize the total travel distance. You are given a 2D grid of values 0 or 1, where each 1 marks the home of someone in the group. The distance is calculated using Manhattan Distance, where distance$(p1, p2) = |p2.x - p1.x| + |p2.y - p1.y|$.\n",
    "\n",
    "Example 1:\n",
    "```\n",
    "Input:\n",
    "[[1,0,0,0,1],[0,0,0,0,0],[0,0,1,0,0]]\n",
    "Output:\n",
    "6\n",
    "\n",
    "Explanation:\n",
    "The point `(0,2)` is an ideal meeting point, as the total travel distance of `2 + 2 + 2 = 6` is minimal. So return `6`.\n",
    "```\n",
    "Example 2:\n",
    "```\n",
    "Input:\n",
    "[[1,1,0,0,1],[1,0,1,0,0],[0,0,1,0,1]]\n",
    "Output:\n",
    "14\n",
    "```"
   ]
  },
  {
   "cell_type": "code",
   "execution_count": 48,
   "metadata": {},
   "outputs": [],
   "source": [
    "def minTotalDistance(grid):\n",
    "    # Write your code here\n",
    "    pass"
   ]
  },
  {
   "cell_type": "code",
   "execution_count": 50,
   "metadata": {},
   "outputs": [
    {
     "name": "stdout",
     "output_type": "stream",
     "text": [
      "None\n"
     ]
    }
   ],
   "source": [
    "print(minTotalDistance([[1,1,0,0,1],[1,0,1,0,0],[0,0,1,0,1]]))"
   ]
  },
  {
   "cell_type": "markdown",
   "metadata": {},
   "source": [
    "## 31. Most Common Word\n",
    "Given a paragraph and a list of banned words, return the most frequent word that is not in the list of banned words. It is guaranteed there is at least one word that isn't banned, and that the answer is unique.\n",
    "\n",
    "Words in the list of banned words are given in lowercase, and free of punctuation. Words in the paragraph are not case sensitive. The answer is in lowercase.\n",
    "\n",
    "Example1\n",
    "```\n",
    "Input:  paragraph = \"Bob hit a ball, the hit BALL flew far after it was hit.\" and banned = [\"hit\"]\n",
    "Output: \"ball\"\n",
    "Explanation:\n",
    "\"hit\" occurs 3 times, but it is a banned word.\n",
    "\"ball\" occurs twice (and no other word does), so it is the most frequent non-banned word in the paragraph. \n",
    "Note that words in the paragraph are not case sensitive,\n",
    "that punctuation is ignored (even if adjacent to words, such as \"ball,\"), \n",
    "and that \"hit\" isn't the answer even though it occurs more because it is banned.\n",
    "```\n",
    "Example2\n",
    "```\n",
    "Input:  paragraph = \"a a a b b c c d\" and banned = [\"a\",\"b\"]\n",
    "Output: \"c\"\n",
    "Explanation:\n",
    "\"a\" and \"b\" are banned words\n",
    "\"c\" occurs 2 times and \"d\" occurs only once\n",
    "So output \"c\"\n",
    "```"
   ]
  },
  {
   "cell_type": "code",
   "execution_count": 31,
   "metadata": {},
   "outputs": [],
   "source": [
    "def mostCommonWord(paragraph, banned):\n",
    "    pass"
   ]
  },
  {
   "cell_type": "code",
   "execution_count": 32,
   "metadata": {},
   "outputs": [
    {
     "name": "stdout",
     "output_type": "stream",
     "text": [
      "None\n"
     ]
    }
   ],
   "source": [
    "para = \"Bob hit a ball, the hit BALL flew far after it was hit.\"\n",
    "banned = [\"hit\"]\n",
    "print(mostCommonWord(para,banned))"
   ]
  },
  {
   "cell_type": "markdown",
   "metadata": {},
   "source": [
    "## 32. Valid Triangle\n",
    "Given three integers $a$, $b$, $c$, return true if they can form a triangle."
   ]
  },
  {
   "cell_type": "code",
   "execution_count": 47,
   "metadata": {},
   "outputs": [],
   "source": [
    "def isValidTriangle(a, b, c):\n",
    "    # write your code here\n",
    "    pass"
   ]
  },
  {
   "cell_type": "markdown",
   "metadata": {},
   "source": [
    "## 33. Power of Two\n",
    "Given an integer, write a function to determine if it is a power of two."
   ]
  },
  {
   "cell_type": "code",
   "execution_count": 45,
   "metadata": {},
   "outputs": [],
   "source": [
    "def isPowerOfTwo(self, n):\n",
    "    # Write your code here\n",
    "    pass\n"
   ]
  },
  {
   "cell_type": "markdown",
   "metadata": {},
   "source": [
    "## 34. Representation with base 7\n",
    "\n",
    "### Description\n",
    "Given a positive integer $N$, return a string which is its octal representation.\n",
    "\n",
    "The  numeral system of base 7 uses the digits 0 to 6. You may refer to [Base-10 to Base-7 Conversion Calculator](unitconversion.org/numbers/base-10-to-base-7-conversion.html) to check your answer.\n",
    "\n",
    "### Input\n",
    "0 < N < 100000, N is an integer\n",
    "\n",
    "### Output\n",
    "A string with each character from \"0\" to \"6\", and it does not contain any leading zeros.\n",
    "\n",
    "### Note\n",
    "Please try to implement it manually instead of using the built-in function for transformation in Python.\n",
    "\n",
    "If you have no idea about how to do, you may read the definition of base 7 numeral system once again.\n",
    "\n",
    "### SAMPLES\n",
    "#### Example1\n",
    "IN: 1\n",
    "\n",
    "OUT: \"1\"\n",
    "\n",
    "\n",
    "#### Example 2\n",
    "IN: 9\n",
    "\n",
    "OUT: \"12\"\n",
    "\n",
    "#### Example3\n",
    "IN: 100\n",
    "\n",
    "OUT: \"202\"\n",
    "\n",
    "\n",
    "#### Example4\n",
    "IN: 2020\n",
    "\n",
    "OUT: \"5614\"\n",
    "\n",
    "#### Example5\n",
    "IN: 100000\n",
    "\n",
    "OUT: \"564355\"\n",
    "\n"
   ]
  },
  {
   "cell_type": "markdown",
   "metadata": {},
   "source": [
    "## 35. Steps to reach 1\n",
    "\n",
    "### Description\n",
    "Given an integer number $n$. You are allowed to use the following operation to modify it.\n",
    "\n",
    "- if $n$ is an even number, replace n with $\\frac{n}{2}$\n",
    "- if $n$ is an odd number, replace n with $n+1$\n",
    "\n",
    "return the number of operations required to make $n$ exactly equal to $1$\n",
    "\n",
    "### Input\n",
    "An integer number $n$,  0 < $n$ < 10000\n",
    "\n",
    "### Output\n",
    "An integer number that represents the number of steps required to make it exactly 1.\n",
    "\n",
    "### Samples\n",
    "\n",
    "#### Example1\n",
    "\n",
    "IN: 1\n",
    "\n",
    "OUT: 0\n",
    "\n",
    "#### Example2\n",
    "\n",
    "IN: 2\n",
    "\n",
    "OUT: 1\n",
    "\n",
    "#### Example3\n",
    "\n",
    "IN 3\n",
    "\n",
    "OUT:3\n",
    "\n",
    "#### Example4\n",
    "\n",
    "IN: 17\n",
    "\n",
    "OUT: 9\n"
   ]
  },
  {
   "cell_type": "markdown",
   "metadata": {},
   "source": [
    "## 36. Number of inversion\n",
    "\n",
    "### Description\n",
    "\n",
    "You are given a list of numbers $nums$. Count the number of inversions in the list.\n",
    "\n",
    "An inversion is defined as a tuple $(i, j)$ such that $nums[i] > nums[j]$.\n",
    "\n",
    "### Input\n",
    "\n",
    "A list of integers\n",
    "\n",
    "$0 < len(nums) < 100$\n",
    "\n",
    "### Output\n",
    "\n",
    "An integer that represents the number of inversions\n",
    "\n",
    "### Samples\n",
    "\n",
    "#### Example1\n",
    "\n",
    "IN: [1]\n",
    "\n",
    "OUT: 0\n",
    "\n",
    "#### Example2\n",
    "\n",
    "IN: [1, 2, 3]\n",
    "\n",
    "OUT: 0\n",
    "\n",
    "#### Example3\n",
    "\n",
    "IN: [2, 1, 3]\n",
    "\n",
    "OUT: 1\n",
    "\n",
    "#### Example4\n",
    "\n",
    "IN: [4, 2, 1, 3]\n",
    "\n",
    "OUT: 4"
   ]
  },
  {
   "cell_type": "markdown",
   "metadata": {},
   "source": [
    "## 37. Buy Fruits\n",
    "\n",
    "### Description\n",
    "\n",
    "You have 100 Yuan to buy fruits and there are three kinds of fruits in the store you visit.  \n",
    "\n",
    "The costs for fruits are:\n",
    "- Banana:  1 for each\n",
    "- Apple: 4 for each\n",
    "- Orange: 5 for each\n",
    "\n",
    "Return the number of different ways to spend exactly 100 Yuan to buy the three kinds of fruits. You need to buy each kind of fruits. For example, 0 banana, 5 apples, 16 oranges is not a valid solution.\n",
    "\n",
    "### Input\n",
    "None\n",
    "\n",
    "### Output\n",
    "An integer that represents the number of ways to spend exactly 100 Yuan with each kind of fruit bought."
   ]
  }
 ],
 "metadata": {
  "kernelspec": {
   "display_name": "Python 3 (ipykernel)",
   "language": "python",
   "name": "python3"
  },
  "language_info": {
   "codemirror_mode": {
    "name": "ipython",
    "version": 3
   },
   "file_extension": ".py",
   "mimetype": "text/x-python",
   "name": "python",
   "nbconvert_exporter": "python",
   "pygments_lexer": "ipython3",
   "version": "3.10.7"
  }
 },
 "nbformat": 4,
 "nbformat_minor": 4
}
