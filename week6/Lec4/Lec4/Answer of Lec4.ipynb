{
 "cells": [
  {
   "cell_type": "code",
   "execution_count": 1,
   "metadata": {},
   "outputs": [],
   "source": [
    "# answer of 1\n",
    "def get_perfect_digits(N, M):\n",
    "    start = int(10 ** (N - 1))\n",
    "    end = int(10 ** N)\n",
    "    ans = -1\n",
    "    for i in range(start, end):\n",
    "        total = 0\n",
    "        for x in str(i):\n",
    "            total += int(x) ** M\n",
    "        if total == i:\n",
    "            ans = i\n",
    "            break\n",
    "    return ans"
   ]
  },
  {
   "cell_type": "code",
   "execution_count": 6,
   "metadata": {},
   "outputs": [],
   "source": [
    "# answer of 2\n",
    "def unknown(x, *args):\n",
    "    nf, ans, nx = 1, 0, 1\n",
    "    for t in args:\n",
    "        ans += nf * nx * t\n",
    "        nx = nx * x\n",
    "        nf = -nf\n",
    "    return ans"
   ]
  },
  {
   "cell_type": "code",
   "execution_count": 8,
   "metadata": {},
   "outputs": [],
   "source": [
    "# answer of 3\n",
    "def palindrome_substring(S):\n",
    "    n = len(S)\n",
    "    ans, ansl, ansr= 0, 0, 0\n",
    "    for x in range(n):\n",
    "        for y in range(x + 1, n):\n",
    "            sl = S[x : y + 1]\n",
    "            if sl == sl[::-1]:\n",
    "                if y + 1 - x > ans:\n",
    "                    ans, ansl, ansr = y + 1 - x, x, y\n",
    "    return (ansl, ansr)\n",
    "\n",
    "# or\n",
    "def palindrome_substring2(S):\n",
    "    n = len(S)\n",
    "    ans, ansl, ansr= 0, 0, 0\n",
    "    for x in range(n):\n",
    "        for y in range(x + 1, n):\n",
    "            flag = True\n",
    "            for a in range(y - x):\n",
    "                if S[x + a] != S[y - a]:\n",
    "                    flag = False\n",
    "                    break\n",
    "            if y + 1 - x > ans and flag:\n",
    "                ans, ansl, ansr = y + 1 - x, x, y\n",
    "    return (ansl, ansr)"
   ]
  },
  {
   "cell_type": "code",
   "execution_count": 68,
   "metadata": {},
   "outputs": [],
   "source": [
    "# answer of 4\n",
    "def Move(N, M, K):\n",
    "    nowup, nowdown, nowleft, nowright = 2, N, 1, M\n",
    "    nowx, nowy, dx, dy = 1, 1, 1, 0\n",
    "    for x in range(K):\n",
    "        nowx += dx\n",
    "        nowy += dy\n",
    "        if dx == 1 and dy == 0 and nowx == nowright:\n",
    "            dx, dy, nowright = 0, 1, nowright - 1\n",
    "        elif dx == 0 and dy == 1 and nowy == nowdown:\n",
    "            dx, dy, nowdown = -1, 0, nowdown - 1\n",
    "        elif dx == -1 and dy == 0 and nowleft == nowx:\n",
    "            dx, dy, nowleft = 0, -1, nowleft + 1\n",
    "        elif dx == 0 and dy == -1 and nowup == nowy:\n",
    "            dx, dy, nowup = 1, 0, nowup + 1\n",
    "    return nowx, nowy"
   ]
  },
  {
   "cell_type": "code",
   "execution_count": 15,
   "metadata": {},
   "outputs": [],
   "source": [
    "# answer of 5\n",
    "def geo_array(a,b,p):\n",
    "    temp=a\n",
    "    while temp<=b:\n",
    "        print(temp)\n",
    "        temp*=p\n",
    "    return "
   ]
  },
  {
   "cell_type": "code",
   "execution_count": 16,
   "metadata": {},
   "outputs": [],
   "source": [
    "# answer of 6\n",
    "def geo_array_up(a,b,p,q):\n",
    "    temp=a\n",
    "    i=0\n",
    "    while temp<=b:\n",
    "        print(temp)\n",
    "        i+=1\n",
    "        if i%2==1:\n",
    "            temp*=q\n",
    "        else:\n",
    "            temp*=p\n",
    "    return "
   ]
  },
  {
   "cell_type": "code",
   "execution_count": 17,
   "metadata": {},
   "outputs": [],
   "source": [
    "# answer of 7\n",
    "import math\n",
    "def get_inverse(n,phi):\n",
    "    if math.gcd(n,phi)!=1:\n",
    "        return -1\n",
    "    else:\n",
    "        k=1\n",
    "        while (k*phi+1)%n!=0:\n",
    "            k=k+1\n",
    "        return (k*phi+1)/n"
   ]
  },
  {
   "cell_type": "code",
   "execution_count": 18,
   "metadata": {},
   "outputs": [],
   "source": [
    "# answer of 8\n",
    "def find_pattern(n:str,target:str):\n",
    "    for i in range(len(n)-len(target)+1):\n",
    "        temp=\"\"\n",
    "        for j in range(len(target)):\n",
    "            temp+=n[i+j]\n",
    "        if temp==target:\n",
    "            print(i)\n",
    "    return "
   ]
  },
  {
   "cell_type": "code",
   "execution_count": 19,
   "metadata": {},
   "outputs": [],
   "source": [
    "# answer of 9\n",
    "def simple_count(s):\n",
    "    cnt1 = 0\n",
    "    cnt2 = 0\n",
    "    for c in s:       \n",
    "        if c.islower() or c.isupper():\n",
    "            cnt1 += 1\n",
    "        elif c.isnumeric():\n",
    "            cnt2 += 1\n",
    "    return cnt1, cnt2"
   ]
  },
  {
   "cell_type": "code",
   "execution_count": 20,
   "metadata": {},
   "outputs": [],
   "source": [
    "# answer of 10\n",
    "#枚举\n",
    "def gcd(a,b):\n",
    "    smaller = min(a,b)  \n",
    "    for i in range(1,smaller + 1):\n",
    "        if((a % i == 0) and (b % i == 0)):\n",
    "            res = i\n",
    "    return res\n",
    "# or\n",
    "#辗转相除\n",
    "def gcd(a,b):\n",
    "    while a%b!=0:\n",
    "        a,b=b,(a%b) \n",
    "    return b"
   ]
  },
  {
   "cell_type": "code",
   "execution_count": 21,
   "metadata": {},
   "outputs": [],
   "source": [
    "# answer of 11\n",
    "def date_valid(date):\n",
    "    y = ''\n",
    "    m = ''\n",
    "    d = ''\n",
    "    i = 0\n",
    "    while date[i] != '-':\n",
    "        y += date[i]\n",
    "        i += 1\n",
    "    i += 1\n",
    "    while date[i] != '-':\n",
    "        m += date[i]\n",
    "        i += 1\n",
    "    i += 1\n",
    "    while i < len(date):\n",
    "        d += date[i]\n",
    "        i += 1\n",
    "    \n",
    "    y = int(y)\n",
    "    m = int(m)\n",
    "    d = int(d)\n",
    "\n",
    "    l_y = y % 4 == 0 and y % 100 != 0 or y % 400 == 0\n",
    "\n",
    "    if m >= 1 and m <= 12:\n",
    "        if m == 2:\n",
    "            if l_y:\n",
    "                if d <= 29:\n",
    "                    return True\n",
    "            else:\n",
    "                if d <= 28:\n",
    "                    return True\n",
    "        elif m in [1,3,5,7,8,10,12]:\n",
    "            if d <= 31:\n",
    "                return True\n",
    "        else:\n",
    "            if d <= 30:\n",
    "                return True\n",
    "    return False"
   ]
  },
  {
   "cell_type": "code",
   "execution_count": 22,
   "metadata": {},
   "outputs": [],
   "source": [
    "# answer of 12\n",
    "def multiply(A,B):\n",
    "    if A > B:\n",
    "        return multiply(B,A)\n",
    "    if A == 0:\n",
    "        return 0\n",
    "    return B + multiply(A - 1, B)\n",
    "# or\n",
    "def multiply2(A, B):\n",
    "        if B == 1: return A\n",
    "        if B == 0: return 0\n",
    "        if B & 1:\n",
    "            return multiply(A<<1, B>>1) + A \n",
    "        else:\n",
    "            return multiply(A<<1, B>>1)"
   ]
  },
  {
   "cell_type": "code",
   "execution_count": 24,
   "metadata": {},
   "outputs": [],
   "source": [
    "# answer of 13\n",
    "def findAllDigits(s):\n",
    "    res = ''\n",
    "    for c in s:\n",
    "        if c.isdigit():\n",
    "            res += c\n",
    "    return res"
   ]
  },
  {
   "cell_type": "code",
   "execution_count": 26,
   "metadata": {},
   "outputs": [],
   "source": [
    "# answer of 14\n",
    "import math\n",
    "def factorProduct(n):\n",
    "    res = 1\n",
    "    sqrt_n = math.sqrt(n)\n",
    "    for i in range(1,int(sqrt_n)+1):\n",
    "        if not n % i:\n",
    "            res *= n\n",
    "    if int(sqrt_n) == sqrt_n:\n",
    "        res = int(res // sqrt_n)\n",
    "    \n",
    "    return res if res <= 10000 else res % 2333"
   ]
  },
  {
   "cell_type": "code",
   "execution_count": 28,
   "metadata": {},
   "outputs": [],
   "source": [
    "# answer of 15\n",
    "import math\n",
    "def findPerfectNum(n):\n",
    "    for i in range(n):\n",
    "        if int(math.sqrt(i+1)) == math.sqrt(i+1):\n",
    "            print(i)\n",
    "    return"
   ]
  },
  {
   "cell_type": "code",
   "execution_count": 31,
   "metadata": {},
   "outputs": [],
   "source": [
    "# answer of 16\n",
    "def isPrime(m,n):\n",
    "    for num in range(m+1,n):  \n",
    "        for i in range(2,num): \n",
    "            if num%i == 0:      \n",
    "                j=num/i          \n",
    "                print('%d = %d * %d' % (num,i,j))\n",
    "                break            \n",
    "        else:        \n",
    "            print('%d is a prime' % num)\n",
    "    return"
   ]
  },
  {
   "cell_type": "code",
   "execution_count": 32,
   "metadata": {},
   "outputs": [],
   "source": [
    "# answer of 17\n",
    "def findTrailingZeros(n): \n",
    "      \n",
    "    # Initialize result \n",
    "    count = 0\n",
    "  \n",
    "    # Keep dividing n by \n",
    "    # powers of 5 and \n",
    "    # update Count \n",
    "    i=5\n",
    "    while (n/i>=1): \n",
    "        count += int(n/i) \n",
    "        i *= 5\n",
    "  \n",
    "    return int(count) "
   ]
  },
  {
   "cell_type": "code",
   "execution_count": 2,
   "metadata": {},
   "outputs": [
    {
     "name": "stdout",
     "output_type": "stream",
     "text": [
      "2.7182816941320818\n",
      "2.7182818284590452353602874713526624977572470936999595749669676277240766303535475945713821785251664274\n"
     ]
    }
   ],
   "source": [
    "# answer of 18\n",
    "# solution1 (not recommended)\n",
    "n=10000000\n",
    "e = (1+1/n)**n\n",
    "print(e)\n",
    "\n",
    "# or\n",
    "# solution2\n",
    "import decimal as dc\n",
    "# set the precision\n",
    "dc.getcontext().prec = 101\n",
    "factorial = 1\n",
    "euler = 2\n",
    "for x in range(2, 150):\n",
    "    factorial *= x\n",
    "    euler += dc.Decimal(str(1.0))/dc.Decimal(str(factorial))\n",
    "print(euler)\n"
   ]
  },
  {
   "cell_type": "code",
   "execution_count": 71,
   "metadata": {},
   "outputs": [],
   "source": [
    "# answer of 19\n",
    "def isSubsequence(self, s: str, t: str) -> bool:\n",
    "\n",
    "    a, b = 0, len(s)\n",
    "    for n in t:\n",
    "        if a < b and s[a] == n:\n",
    "            a += 1\n",
    "    \n",
    "    return a == b"
   ]
  },
  {
   "cell_type": "code",
   "execution_count": 69,
   "metadata": {},
   "outputs": [
    {
     "name": "stdin",
     "output_type": "stream",
     "text": [
      "number to be reversed:  123456\n"
     ]
    },
    {
     "name": "stdout",
     "output_type": "stream",
     "text": [
      "654321\n"
     ]
    }
   ],
   "source": [
    "# answer of 20\n",
    "num = int(input(\"number to be reversed: \"))\n",
    "res = 0\n",
    "while(num > 0):\n",
    "    r = num % 10\n",
    "    res = (res * 10) + r\n",
    "    num = num // 10\n",
    "print(res)"
   ]
  },
  {
   "cell_type": "code",
   "execution_count": 38,
   "metadata": {},
   "outputs": [],
   "source": [
    "# answer of 21"
   ]
  },
  {
   "cell_type": "markdown",
   "metadata": {},
   "source": [
    "x=1<br>\n",
    "2\n",
    "----------------\n",
    "1 3 5 7 9"
   ]
  },
  {
   "cell_type": "code",
   "execution_count": 1,
   "metadata": {},
   "outputs": [],
   "source": [
    "# answer of 22\n",
    "def add_digit(n):\n",
    "    while n >= 10:\n",
    "        new_n = 0\n",
    "        while n > 0:\n",
    "            new_n += (n % 10)\n",
    "            n //= 10\n",
    "        n = new_n\n",
    "    return n\n",
    "\n",
    "# or\n",
    "\n",
    "def add_digit(n):\n",
    "    if n < 10:\n",
    "        return n\n",
    "    new_n = 0\n",
    "    while n > 0:\n",
    "        new_n += (n % 10)\n",
    "        n //= 10\n",
    "    return add_digit(new_n)"
   ]
  },
  {
   "cell_type": "code",
   "execution_count": null,
   "metadata": {},
   "outputs": [],
   "source": [
    "# answer of 23\n",
    "def count_one(n):\n",
    "    if n < 0:\n",
    "        n = -n\n",
    "    ans = 0\n",
    "    while n > 0:\n",
    "        ans += (n % 2)\n",
    "        n //= 2\n",
    "    return ans"
   ]
  },
  {
   "cell_type": "code",
   "execution_count": null,
   "metadata": {},
   "outputs": [],
   "source": [
    "#answer of 24\n",
    "def guess(n: int, k: int):\n",
    "    for _ in range(k):\n",
    "        g = int(input('Input: '))\n",
    "        if g == n:\n",
    "            print(\"Right!\")\n",
    "            return\n",
    "        elif g < n:\n",
    "            print(\"Too small!\")\n",
    "        else:\n",
    "            print(\"Too large!\")\n",
    "    print(\"The real number is {}.\".format(n))"
   ]
  },
  {
   "cell_type": "code",
   "execution_count": 40,
   "metadata": {},
   "outputs": [],
   "source": [
    "# answer of 25\n",
    "def climb(n: int):\n",
    "    if n == 3 or n == 5:\n",
    "        return 1\n",
    "    if n < 5:\n",
    "        return 0\n",
    "    return climb(n-3) + climb(n-5)\n",
    "\n",
    "def climb_plus_b(n: int, b: bool):\n",
    "    if n == 1 or n == 2:\n",
    "        if b:\n",
    "            return 1\n",
    "        else:\n",
    "            return 0\n",
    "    if n == 3:\n",
    "        return 1\n",
    "    if n == 4:\n",
    "        if b:\n",
    "            return 2\n",
    "        else:\n",
    "            return 0\n",
    "    if n == 5:\n",
    "        if b:\n",
    "            return 2\n",
    "        else:\n",
    "            return 1\n",
    "    if not b:\n",
    "        return climb_plus_b(n-3, False) + climb_plus_b(n-5, False)\n",
    "    else:\n",
    "        return (climb_plus_b(n-1, False) + \n",
    "                climb_plus_b(n-2, False) + \n",
    "                climb_plus_b(n-3, False) + \n",
    "                climb_plus_b(n-4, False) + \n",
    "                climb_plus_b(n-5, False))\n",
    "    \n",
    "def climb_plus(n: int):\n",
    "    return climb_plus_b(n, True)"
   ]
  },
  {
   "cell_type": "code",
   "execution_count": 16,
   "metadata": {},
   "outputs": [],
   "source": [
    "# answer of 26\n",
    "def Print_target(n):\n",
    "    for i in range(n):\n",
    "        for j in range(n):\n",
    "            print(min(i, j, n - i - 1, n - j - 1) + 1, end=\" \")\n",
    "        print()"
   ]
  },
  {
   "cell_type": "code",
   "execution_count": 55,
   "metadata": {},
   "outputs": [],
   "source": [
    "# answer of 27\n",
    "import math\n",
    "\n",
    "pi = math.pi\n",
    "\n",
    "def F(a, d, L):\n",
    "    d1 = math.sqrt(2) * L * math.sin(pi/4 - a)\n",
    "    d2 = math.sqrt(2) * L * math.cos(pi/4 - a)\n",
    "    l = 2 * L / math.cos(a)\n",
    "    if d > d2:\n",
    "        return 0\n",
    "    if d < d1:\n",
    "        return l\n",
    "    else:\n",
    "        return l * (d2 - d) / (d2 - d1)\n",
    "\n",
    "def Cut_length(L, A, B, C):\n",
    "    alpha = math.atan2(B, A)\n",
    "    while alpha < 0:\n",
    "        alpha += pi/2\n",
    "    while alpha > pi/2:\n",
    "        alpha -= pi/2\n",
    "    if alpha > pi/4:\n",
    "        alpha = pi/2 - alpha\n",
    "    d = math.fabs(C) / math.sqrt(A**2+B**2)\n",
    "    return F(alpha, d, L)"
   ]
  },
  {
   "cell_type": "code",
   "execution_count": 56,
   "metadata": {},
   "outputs": [],
   "source": [
    "# answer of 28\n",
    "def Max_lcm(L, R):\n",
    "    if R & 1:\n",
    "        return R * (R - 1) * (R - 2)\n",
    "    else:\n",
    "        ans1 = R * (R - 1) * (R - 2) // 2\n",
    "        ans2 = 0\n",
    "        ans3 = 0\n",
    "        if R - L > 2:\n",
    "            ans2 = (R - 1) * (R - 2) * (R - 3)\n",
    "            ans3 = R * (R - 1) * (R - 3)\n",
    "            if R % 3 == 0:\n",
    "                ans3 //= 3\n",
    "        return max((ans1, ans2, ans3))"
   ]
  },
  {
   "cell_type": "code",
   "execution_count": 57,
   "metadata": {},
   "outputs": [],
   "source": [
    "# answer of 29\n",
    "# It's quite easy so we don't think you need a standard answer."
   ]
  },
  {
   "cell_type": "code",
   "execution_count": 73,
   "metadata": {},
   "outputs": [],
   "source": [
    "# answer of 30\n",
    "def minTotalDistance(grid):\n",
    "    rows, cols = [], []\n",
    "    m, n = len(grid), len(grid[0])\n",
    "    for i in range(m):\n",
    "        for j in range(n):\n",
    "            if grid[i][j] == 1:\n",
    "                rows.append(i)\n",
    "                cols.append(j)\n",
    "    rows.sort()\n",
    "    cols.sort()\n",
    "    mid = len(rows) // 2\n",
    "    res = 0\n",
    "    for i in range(m):\n",
    "        for j in range(n):\n",
    "            if grid[i][j] == 1:\n",
    "                res += abs(i - rows[mid]) + abs(j - cols[mid])\n",
    "    return res\n"
   ]
  },
  {
   "cell_type": "code",
   "execution_count": 72,
   "metadata": {},
   "outputs": [],
   "source": [
    "# answer of 31\n",
    "from collections import defaultdict\n",
    "\n",
    "def mostCommonWord(paragraph, banned):\n",
    "    #1). replace the punctuations with spaces,\n",
    "    #      and put all letters in lower case\n",
    "    normalized_str = ''.join([c.lower() if c.isalnum() else ' ' for c in paragraph])\n",
    "\n",
    "    #2). split the string into words\n",
    "    words = normalized_str.split()\n",
    "\n",
    "    word_count = defaultdict(int)\n",
    "    banned_words = set(banned)\n",
    "\n",
    "    #3). count the appearance of each word, excluding the banned words\n",
    "    for word in words:\n",
    "        if word not in banned_words:\n",
    "            word_count[word] += 1\n",
    "\n",
    "    #4). return the word with the highest frequency\n",
    "    return max(word_count.items(), key=operator.itemgetter(1))[0]"
   ]
  },
  {
   "cell_type": "code",
   "execution_count": 74,
   "metadata": {},
   "outputs": [],
   "source": [
    "# answer of 32\n",
    "\n",
    "def isValidTriangle(a, b, c):\n",
    "    return a > abs(b - c) and b > abs(a - c) and c > abs(a - b) and a < b + c and b < a + c and c < a + b "
   ]
  },
  {
   "cell_type": "code",
   "execution_count": 75,
   "metadata": {},
   "outputs": [],
   "source": [
    "# answer of 33\n",
    "def isPowerOfTwo(x):\n",
    "    if x <= 0:\n",
    "        return False\n",
    "    while x % 2 == 0:\n",
    "        x = x // 2\n",
    "    return x == 1\n",
    "# or\n",
    "def isPowerOfTwo(self, x):\n",
    "    return x > 0 and (x & x - 1 == 0)"
   ]
  },
  {
   "cell_type": "code",
   "execution_count": 62,
   "metadata": {},
   "outputs": [],
   "source": [
    "# answer of 34\n",
    "def representation_with_base_7(num):\n",
    "    result_str = \"\"\n",
    "    while num >= 7:\n",
    "        remainder = num % 7\n",
    "        next_num = num // 7\n",
    "        result_str += str(remainder)\n",
    "        num = next_num\n",
    "    result_str += str(num)\n",
    "    return result_str[::-1]"
   ]
  },
  {
   "cell_type": "code",
   "execution_count": 64,
   "metadata": {},
   "outputs": [],
   "source": [
    "# answer of 35\n",
    "def steps_to_reach_1(num):\n",
    "    step = 0\n",
    "    while num != 1:\n",
    "        if num % 2 == 0:  # even number\n",
    "            num = num //2\n",
    "        else:  # odd number\n",
    "            num = num + 1\n",
    "        step += 1\n",
    "    return step"
   ]
  },
  {
   "cell_type": "code",
   "execution_count": 66,
   "metadata": {},
   "outputs": [],
   "source": [
    "# answer of 36\n",
    "def num_of_inversions(arr):\n",
    "    # you may use divide and conquer to improve the algorithm\n",
    "    counter = 0\n",
    "    for i in range(len(arr)):\n",
    "        for j in range(i+1, len(arr)):\n",
    "            if arr[i] > arr[j]: \n",
    "                counter += 1\n",
    "    return counter"
   ]
  },
  {
   "cell_type": "code",
   "execution_count": 67,
   "metadata": {},
   "outputs": [],
   "source": [
    "# answer of 37\n",
    "def buy_fruits():\n",
    "    # you may also prune to improve. it is actually a classic problem of backpack\n",
    "    counter = 0\n",
    "    for banana in range(1, 100 // 1 + 1):  # at least one banana, at most 100 // 1 banana\n",
    "        for apple in range(100 // 4 + 1):\n",
    "            for orange in range(100 // 5 + 1):\n",
    "                if banana * 1 + apple * 4 + orange * 5 == 100:\n",
    "                    counter += 1\n",
    "    return counter"
   ]
  }
 ],
 "metadata": {
  "kernelspec": {
   "display_name": "Python 3 (ipykernel)",
   "language": "python",
   "name": "python3"
  },
  "language_info": {
   "codemirror_mode": {
    "name": "ipython",
    "version": 3
   },
   "file_extension": ".py",
   "mimetype": "text/x-python",
   "name": "python",
   "nbconvert_exporter": "python",
   "pygments_lexer": "ipython3",
   "version": "3.10.7"
  }
 },
 "nbformat": 4,
 "nbformat_minor": 4
}
