{
 "cells": [
  {
   "cell_type": "markdown",
   "id": "36f25b0d-3cd4-4d14-a3a1-7310866ca0ff",
   "metadata": {
    "tags": []
   },
   "source": [
    "# Date 10/18"
   ]
  },
  {
   "cell_type": "markdown",
   "id": "6091e6d5-542d-4c9a-8301-cb96d7d2efc6",
   "metadata": {
    "tags": []
   },
   "source": [
    "## contain square"
   ]
  },
  {
   "cell_type": "code",
   "execution_count": 2,
   "id": "4b80908e-281b-43da-b5e7-cb89feb1aafa",
   "metadata": {},
   "outputs": [
    {
     "data": {
      "text/plain": [
       "12"
      ]
     },
     "execution_count": 2,
     "metadata": {},
     "output_type": "execute_result"
    }
   ],
   "source": [
    "def containsqu(l,w,a):\n",
    "    return (l//a)*(w//a)\n",
    "containsqu(3,4,1)"
   ]
  },
  {
   "cell_type": "markdown",
   "id": "33e419eb-4737-4a9c-958e-7c4afff4234a",
   "metadata": {},
   "source": [
    "## Swap numbers"
   ]
  },
  {
   "cell_type": "code",
   "execution_count": 1,
   "id": "56f1d920-7021-4f7e-b97e-e051583f6c48",
   "metadata": {},
   "outputs": [
    {
     "name": "stdout",
     "output_type": "stream",
     "text": [
      "(2, 11)\n"
     ]
    }
   ],
   "source": [
    "def swapnums(x,y):\n",
    "    return (y,x)\n",
    "print(swapnums(11,2))"
   ]
  },
  {
   "cell_type": "markdown",
   "id": "80a71f4a-0a57-4835-9094-a9dd81e2a53d",
   "metadata": {},
   "source": [
    "## Outputdigit"
   ]
  },
  {
   "cell_type": "code",
   "execution_count": 3,
   "id": "a07c0402-0ad3-471d-973d-4f1726d71ed4",
   "metadata": {},
   "outputs": [
    {
     "data": {
      "text/plain": [
       "3"
      ]
     },
     "execution_count": 3,
     "metadata": {},
     "output_type": "execute_result"
    }
   ],
   "source": [
    "def Outputdigit(n,x):\n",
    "    n=str(n)\n",
    "    return int(n[x])\n",
    "Outputdigit(123456,2)"
   ]
  },
  {
   "cell_type": "markdown",
   "id": "a2bb01db-fa60-417f-a5e5-9f144d848ef1",
   "metadata": {},
   "source": [
    "## Even or not"
   ]
  },
  {
   "cell_type": "code",
   "execution_count": 4,
   "id": "e15eab47-12ca-497d-8105-6a48e124d3db",
   "metadata": {},
   "outputs": [
    {
     "data": {
      "text/plain": [
       "True"
      ]
     },
     "execution_count": 4,
     "metadata": {},
     "output_type": "execute_result"
    }
   ],
   "source": [
    "def Even_or_not(x):\n",
    "    x=str(x)\n",
    "    return True if int(x[-1])%2==0 else False\n",
    "Even_or_not(8.9654)"
   ]
  },
  {
   "cell_type": "markdown",
   "id": "8260a348-87d2-455f-bf81-9368d3e74869",
   "metadata": {},
   "source": [
    "## Digit Swap"
   ]
  },
  {
   "cell_type": "code",
   "execution_count": 6,
   "id": "6f062840-6c7d-468b-94d5-cd74181f8942",
   "metadata": {},
   "outputs": [
    {
     "data": {
      "text/plain": [
       "623451"
      ]
     },
     "execution_count": 6,
     "metadata": {},
     "output_type": "execute_result"
    }
   ],
   "source": [
    "def Digit_Swap(T,i,j):\n",
    "    T=list(str(T))\n",
    "    T[j],T[i]=T[i],T[j]\n",
    "    return int(''.join(T))\n",
    "Digit_Swap(123456,0,5)"
   ]
  },
  {
   "cell_type": "markdown",
   "id": "b7646fed-e4d3-4c0a-b0b8-97b73545c5a7",
   "metadata": {},
   "source": [
    "## Reverse String"
   ]
  },
  {
   "cell_type": "code",
   "execution_count": 8,
   "id": "3cf4037d-dc99-4543-919c-2af44a81be1e",
   "metadata": {},
   "outputs": [
    {
     "data": {
      "text/plain": [
       "'321'"
      ]
     },
     "execution_count": 8,
     "metadata": {},
     "output_type": "execute_result"
    }
   ],
   "source": [
    "def Reverse_String(st):\n",
    "    st=list(st)\n",
    "    st.reverse()\n",
    "    return ''.join(st)\n",
    "Reverse_String('123')"
   ]
  },
  {
   "cell_type": "markdown",
   "id": "5c85d4a1-6b3a-41c7-88c9-c4b4acea1858",
   "metadata": {},
   "source": [
    "## Add Octal"
   ]
  },
  {
   "cell_type": "code",
   "execution_count": 14,
   "id": "2ba01131-0fe0-4bfa-af8e-e71ce039d8dc",
   "metadata": {},
   "outputs": [
    {
     "data": {
      "text/plain": [
       "'21'"
      ]
     },
     "execution_count": 14,
     "metadata": {},
     "output_type": "execute_result"
    }
   ],
   "source": [
    "def Add_Octal_1(add,n1,n2):\n",
    "    if add+n1+n2>=8:\n",
    "        high=1\n",
    "        low=add+n1+n2-8\n",
    "    else:\n",
    "        high=0\n",
    "        low=add+n1+n2\n",
    "    return (high,low)\n",
    "\n",
    "def Add_Octal(sn1,sn2):\n",
    "    lsn1,lsn2=list(sn1),list(sn2)\n",
    "    lsn1.reverse()\n",
    "    lsn2.reverse()\n",
    "    if len(lsn1)>=len(lsn2):\n",
    "        for i in range(len(lsn1)-len(lsn2)):\n",
    "            lsn2.append('0')\n",
    "    else:\n",
    "        for i in range(len(lsn2)-len(lsn1)):\n",
    "            lsn1.append('0')\n",
    "    add=0\n",
    "    result=[]\n",
    "    for i in range(len(lsn1)):\n",
    "        add,res=Add_Octal_1(add,int(lsn1[i]),int(lsn2[i]))\n",
    "        result.append(str(res))\n",
    "    result.reverse()\n",
    "    results=''.join(result)\n",
    "    return results\n",
    "Add_Octal('16','3')"
   ]
  },
  {
   "cell_type": "markdown",
   "id": "a5826e60-df79-4614-905f-2b7464a83935",
   "metadata": {},
   "source": [
    "## 8. Modify the Sentence"
   ]
  },
  {
   "cell_type": "code",
   "execution_count": 6,
   "id": "aac19a0e-9d25-41c8-a862-6a8b18b3fbb2",
   "metadata": {},
   "outputs": [
    {
     "data": {
      "text/plain": [
       "'Hello Sjtu, --lxt'"
      ]
     },
     "execution_count": 6,
     "metadata": {},
     "output_type": "execute_result"
    }
   ],
   "source": [
    "def modify(str1):\n",
    "    a=str1.split()\n",
    "    return ' '.join(a)\n",
    "modify(\"Hello  Sjtu,  --lxt\")"
   ]
  },
  {
   "cell_type": "markdown",
   "id": "06a91e0d-6ebc-451a-aee5-c06005342909",
   "metadata": {},
   "source": [
    "## 9. Bit Inverse"
   ]
  },
  {
   "cell_type": "code",
   "execution_count": 20,
   "id": "d4a418d7-99da-4e85-8941-66c821498e33",
   "metadata": {},
   "outputs": [
    {
     "data": {
      "text/plain": [
       "152"
      ]
     },
     "execution_count": 20,
     "metadata": {},
     "output_type": "execute_result"
    }
   ],
   "source": [
    "import re\n",
    "p=re.compile(\"b(\\d*)\")\n",
    "def bit_inverse(n):\n",
    "    a=p.search(bin(n)).group(1)\n",
    "    a=\"\".join(['0']*(10-len(a))+[a])\n",
    "    s=0\n",
    "    for i in range(len(a)):\n",
    "        s+=int(a[i])*2**i\n",
    "    return s\n",
    "bit_inverse(100)"
   ]
  },
  {
   "cell_type": "markdown",
   "id": "c1c1f1d4-58b2-478b-aa95-4005d27675a7",
   "metadata": {},
   "source": [
    "## area_circle"
   ]
  },
  {
   "cell_type": "code",
   "execution_count": 22,
   "id": "3e845f56-5b95-4f96-89fe-4c21005b34c7",
   "metadata": {},
   "outputs": [
    {
     "data": {
      "text/plain": [
       "'The aera of the circle is: 0.7853981633974483'"
      ]
     },
     "execution_count": 22,
     "metadata": {},
     "output_type": "execute_result"
    }
   ],
   "source": [
    "from math import pi\n",
    "def area_circle(r):\n",
    "    return f\"The aera of the circle is: {pi*r**2}\"\n",
    "area_circle(0.5)"
   ]
  }
 ],
 "metadata": {
  "kernelspec": {
   "display_name": "Python 3 (ipykernel)",
   "language": "python",
   "name": "python3"
  },
  "language_info": {
   "codemirror_mode": {
    "name": "ipython",
    "version": 3
   },
   "file_extension": ".py",
   "mimetype": "text/x-python",
   "name": "python",
   "nbconvert_exporter": "python",
   "pygments_lexer": "ipython3",
   "version": "3.10.7"
  }
 },
 "nbformat": 4,
 "nbformat_minor": 5
}
