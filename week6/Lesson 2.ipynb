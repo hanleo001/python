{
 "cells": [
  {
   "cell_type": "markdown",
   "id": "0ee00d06-733e-42fd-a527-4744c9d59fda",
   "metadata": {
    "tags": []
   },
   "source": [
    "# Lesson 2"
   ]
  },
  {
   "cell_type": "markdown",
   "id": "e92d6088-a855-41b5-8f19-8b7e53234338",
   "metadata": {
    "jp-MarkdownHeadingCollapsed": true,
    "tags": []
   },
   "source": [
    "## extend\n",
    "A.extend(B):add list B to the end of A"
   ]
  },
  {
   "cell_type": "markdown",
   "id": "be513680-e392-4514-8293-bcd66c9e2c40",
   "metadata": {
    "jp-MarkdownHeadingCollapsed": true,
    "tags": []
   },
   "source": [
    "## sort\n",
    "sort(reverse=False)->None\n",
    "sort the list by ascending order 默认从小到大"
   ]
  },
  {
   "cell_type": "code",
   "execution_count": 1,
   "id": "d7543471-0fcf-4267-89d2-73b7e41a7718",
   "metadata": {
    "tags": []
   },
   "outputs": [
    {
     "name": "stdout",
     "output_type": "stream",
     "text": [
      "[1, 2, 3, 4]\n"
     ]
    }
   ],
   "source": [
    "lst=[1,4,3,2]\n",
    "lst.sort()\n",
    "print(lst)"
   ]
  },
  {
   "cell_type": "markdown",
   "id": "80a408c2-38ed-464c-9d9a-4a2a59afd23a",
   "metadata": {
    "jp-MarkdownHeadingCollapsed": true,
    "tags": []
   },
   "source": [
    "## Nested(嵌套的) list\n",
    "**非常非常非常**容易出错"
   ]
  },
  {
   "cell_type": "code",
   "execution_count": 3,
   "id": "2ce4bdc5-2d37-4722-98a0-328f21d42fa3",
   "metadata": {},
   "outputs": [
    {
     "name": "stdout",
     "output_type": "stream",
     "text": [
      "['hello', [1, 2, 3], '1', 3.14]\n",
      "1870427776384 1870427776384\n",
      "1870427774912 1870427775936\n"
     ]
    }
   ],
   "source": [
    "a=[\"hello\",[1,2,3],'1',3.14]\n",
    "print(a)\n",
    "a=[[1]]*2\n",
    "print(id(a[0]),id(a[1]))\n",
    "a=[[1],[1]]\n",
    "print(id(a[0]),id(a[1]))"
   ]
  },
  {
   "cell_type": "code",
   "execution_count": 4,
   "id": "9fd23835-1ee6-413d-b606-232a0bccd1f8",
   "metadata": {},
   "outputs": [
    {
     "name": "stdout",
     "output_type": "stream",
     "text": [
      "True True\n",
      "1870427777152 1870427777472\n",
      "1870348222704 1870348222704\n",
      "1870427777984 1870427777984\n",
      "1870348222736 1870348222736\n"
     ]
    }
   ],
   "source": [
    "a=[1,[1,2,3],2]\n",
    "b=a\n",
    "print(a==b,id(a)==id(b))\n",
    "\n",
    "c=a.copy()\n",
    "print(id(a),id(c))\n",
    "for i in range(3):\n",
    "    print(id(a[i]),id(c[i]))"
   ]
  },
  {
   "cell_type": "code",
   "execution_count": 6,
   "id": "7f5aca64-aee3-4363-9340-36555fdaae78",
   "metadata": {},
   "outputs": [
    {
     "name": "stdout",
     "output_type": "stream",
     "text": [
      "True True\n",
      "1870427424960 1870427777728\n",
      "1870348222704 1870348222704\n",
      "1870427777984 1870427778752\n",
      "1870427391360 1870427391360\n"
     ]
    }
   ],
   "source": [
    "import copy\n",
    "\n",
    "a=[1,[1,2,3],(2,)]\n",
    "b=a\n",
    "print(a==b,id(a)==id(b))\n",
    "\n",
    "c=copy.deepcopy(a)\n",
    "print(id(a),id(c))\n",
    "for i in range(3):\n",
    "    print(id(a[i]),id(c[i]))"
   ]
  },
  {
   "cell_type": "code",
   "execution_count": 7,
   "id": "54e372fd-3935-47c2-be2f-41970b074088",
   "metadata": {},
   "outputs": [
    {
     "name": "stdout",
     "output_type": "stream",
     "text": [
      "[[1, 2, 3], [2, 3, 4]] [[1, 2, 3], [2, 3, 4]]\n",
      "[[-1, 2, 3], [2, 3, 4]] [[-1, 2, 3], [2, 3, 4]]\n",
      "[[-1, 2, 3], [2, 3, 4]] [[-1, 2, 3], [2, 3, 4]] [[-1, 2, 3], [2, 3, 4]]\n",
      "[[-1, 2, 3], [2, 3, 4]] [[-1, 2, 3], [2, 3, 4]] [[1000, 2, 3], [2, 3, 4]]\n"
     ]
    }
   ],
   "source": [
    "a=[[1,2,3],[2,3,4]]\n",
    "b=a.copy()\n",
    "print(a,b)\n",
    "b[0][0]=-1\n",
    "print(a,b)\n",
    "\n",
    "import copy\n",
    "c=copy.deepcopy(a)\n",
    "print(a,b,c)\n",
    "c[0][0]=1000\n",
    "print(a,b,c)"
   ]
  },
  {
   "cell_type": "markdown",
   "id": "fdd60bfc-3325-4468-9b59-66bc8cc9047e",
   "metadata": {
    "jp-MarkdownHeadingCollapsed": true,
    "tags": []
   },
   "source": [
    "## Remove an item"
   ]
  },
  {
   "cell_type": "markdown",
   "id": "7cbb0b6b-8890-44b2-9c4c-b97eebcec35c",
   "metadata": {},
   "source": [
    "clear():remove all\n",
    "pop(index=-1)\n",
    "remove(item)\n",
    "del(index)"
   ]
  },
  {
   "cell_type": "code",
   "execution_count": 10,
   "id": "5e035444-b9c3-4f5d-b868-3a46b4b6218c",
   "metadata": {},
   "outputs": [
    {
     "name": "stdout",
     "output_type": "stream",
     "text": [
      "1870455649344\n",
      "1870455649344\n",
      "1870455887104\n",
      "1870455985216\n"
     ]
    }
   ],
   "source": [
    "a=[1,2,3,4,5,6]\n",
    "print(id(a))\n",
    "a.clear()\n",
    "print(id(a))\n",
    "\n",
    "a=[1,2,3,4,5,6]\n",
    "print(id(a))\n",
    "a=[]\n",
    "print(id(a))"
   ]
  },
  {
   "cell_type": "markdown",
   "id": "0e17eea6-fb44-44a9-b8eb-3b8aa57ab856",
   "metadata": {},
   "source": [
    "## count() method\n",
    "统计出现次数"
   ]
  },
  {
   "cell_type": "markdown",
   "id": "886f559c-0024-453d-a7aa-a146fe2812ac",
   "metadata": {},
   "source": [
    "## List comprehension"
   ]
  },
  {
   "cell_type": "code",
   "execution_count": 13,
   "id": "331e2eb1-694e-4953-9ba6-d93bec12b9dc",
   "metadata": {},
   "outputs": [
    {
     "name": "stdout",
     "output_type": "stream",
     "text": [
      "[0, 1, 4, 9, 16, 25, 36, 49, 64, 81]\n",
      "[0, 1, 4, 9, 16, 25, 36, 49, 64, 81]\n"
     ]
    }
   ],
   "source": [
    "squares=[]\n",
    "for i in range(10):\n",
    "    squares.append(i**2)\n",
    "print(squares)\n",
    "\n",
    "squares=[x**2 for x in range(10)]\n",
    "print(squares)"
   ]
  },
  {
   "cell_type": "code",
   "execution_count": 15,
   "id": "42d94fe5-0a04-4cb4-999e-d961f237ac31",
   "metadata": {},
   "outputs": [
    {
     "name": "stdout",
     "output_type": "stream",
     "text": [
      "1870455986688\n",
      "1870455986432\n",
      "1870455866240\n",
      "1870455866240\n"
     ]
    }
   ],
   "source": [
    "a=[1,2,3]\n",
    "print(id(a))\n",
    "a=a+[1]\n",
    "print(id(a))\n",
    "\n",
    "a=[1,2,3]\n",
    "print(id(a))\n",
    "a+=[1]\n",
    "print(id(a))"
   ]
  }
 ],
 "metadata": {
  "kernelspec": {
   "display_name": "Python 3 (ipykernel)",
   "language": "python",
   "name": "python3"
  },
  "language_info": {
   "codemirror_mode": {
    "name": "ipython",
    "version": 3
   },
   "file_extension": ".py",
   "mimetype": "text/x-python",
   "name": "python",
   "nbconvert_exporter": "python",
   "pygments_lexer": "ipython3",
   "version": "3.10.7"
  }
 },
 "nbformat": 4,
 "nbformat_minor": 5
}
